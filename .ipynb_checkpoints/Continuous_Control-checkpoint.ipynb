{
 "cells": [
  {
   "cell_type": "markdown",
   "metadata": {},
   "source": [
    "# Continuous Control\n",
    "\n",
    "---\n",
    "\n",
    "In this notebook, you will learn how to use the Unity ML-Agents environment for the second project of the [Deep Reinforcement Learning Nanodegree](https://www.udacity.com/course/deep-reinforcement-learning-nanodegree--nd893) program.\n",
    "\n",
    "### 1. Start the Environment\n",
    "\n",
    "We begin by importing the necessary packages.  If the code cell below returns an error, please revisit the project instructions to double-check that you have installed [Unity ML-Agents](https://github.com/Unity-Technologies/ml-agents/blob/master/docs/Installation.md) and [NumPy](http://www.numpy.org/)."
   ]
  },
  {
   "cell_type": "code",
   "execution_count": 1,
   "metadata": {},
   "outputs": [],
   "source": [
    "from unityagents import UnityEnvironment\n",
    "import numpy as np"
   ]
  },
  {
   "cell_type": "markdown",
   "metadata": {},
   "source": [
    "Next, we will start the environment!  **_Before running the code cell below_**, change the `file_name` parameter to match the location of the Unity environment that you downloaded.\n",
    "\n",
    "- **Mac**: `\"path/to/Reacher.app\"`\n",
    "- **Windows** (x86): `\"path/to/Reacher_Windows_x86/Reacher.exe\"`\n",
    "- **Windows** (x86_64): `\"path/to/Reacher_Windows_x86_64/Reacher.exe\"`\n",
    "- **Linux** (x86): `\"path/to/Reacher_Linux/Reacher.x86\"`\n",
    "- **Linux** (x86_64): `\"path/to/Reacher_Linux/Reacher.x86_64\"`\n",
    "- **Linux** (x86, headless): `\"path/to/Reacher_Linux_NoVis/Reacher.x86\"`\n",
    "- **Linux** (x86_64, headless): `\"path/to/Reacher_Linux_NoVis/Reacher.x86_64\"`\n",
    "\n",
    "For instance, if you are using a Mac, then you downloaded `Reacher.app`.  If this file is in the same folder as the notebook, then the line below should appear as follows:\n",
    "```\n",
    "env = UnityEnvironment(file_name=\"Reacher.app\")\n",
    "```"
   ]
  },
  {
   "cell_type": "code",
   "execution_count": 2,
   "metadata": {},
   "outputs": [
    {
     "name": "stderr",
     "output_type": "stream",
     "text": [
      "INFO:unityagents:\n",
      "'Academy' started successfully!\n",
      "Unity Academy name: Academy\n",
      "        Number of Brains: 1\n",
      "        Number of External Brains : 1\n",
      "        Lesson number : 0\n",
      "        Reset Parameters :\n",
      "\t\tgoal_speed -> 1.0\n",
      "\t\tgoal_size -> 5.0\n",
      "Unity brain name: ReacherBrain\n",
      "        Number of Visual Observations (per agent): 0\n",
      "        Vector Observation space type: continuous\n",
      "        Vector Observation space size (per agent): 33\n",
      "        Number of stacked Vector Observation: 1\n",
      "        Vector Action space type: continuous\n",
      "        Vector Action space size (per agent): 4\n",
      "        Vector Action descriptions: , , , \n"
     ]
    }
   ],
   "source": [
    "env = UnityEnvironment(file_name='C:\\\\Users\\\\kvjos\\\\udacityRL\\\\deep-reinforcement-learning\\\\p2_continuous-control\\\\Reacher_Windows_x86_64/Reacher.exe')\n",
    "#env = UnityEnvironment(file_name='Reacher.app')"
   ]
  },
  {
   "cell_type": "markdown",
   "metadata": {},
   "source": [
    "Environments contain **_brains_** which are responsible for deciding the actions of their associated agents. Here we check for the first brain available, and set it as the default brain we will be controlling from Python."
   ]
  },
  {
   "cell_type": "code",
   "execution_count": 3,
   "metadata": {},
   "outputs": [],
   "source": [
    "# get the default brain\n",
    "brain_name = env.brain_names[0]\n",
    "brain = env.brains[brain_name]"
   ]
  },
  {
   "cell_type": "markdown",
   "metadata": {},
   "source": [
    "### 2. Examine the State and Action Spaces\n",
    "\n",
    "In this environment, a double-jointed arm can move to target locations. A reward of `+0.1` is provided for each step that the agent's hand is in the goal location. Thus, the goal of your agent is to maintain its position at the target location for as many time steps as possible.\n",
    "\n",
    "The observation space consists of `33` variables corresponding to position, rotation, velocity, and angular velocities of the arm.  Each action is a vector with four numbers, corresponding to torque applicable to two joints.  Every entry in the action vector must be a number between `-1` and `1`.\n",
    "\n",
    "Run the code cell below to print some information about the environment."
   ]
  },
  {
   "cell_type": "code",
   "execution_count": 4,
   "metadata": {},
   "outputs": [
    {
     "name": "stdout",
     "output_type": "stream",
     "text": [
      "Number of agents: 20\n",
      "Size of each action: 4\n",
      "There are 20 agents. Each observes a state with length: 33\n",
      "The state for the first agent looks like: [ 0.00000000e+00 -4.00000000e+00  0.00000000e+00  1.00000000e+00\n",
      " -0.00000000e+00 -0.00000000e+00 -4.37113883e-08  0.00000000e+00\n",
      "  0.00000000e+00  0.00000000e+00  0.00000000e+00  0.00000000e+00\n",
      "  0.00000000e+00  0.00000000e+00 -1.00000000e+01  0.00000000e+00\n",
      "  1.00000000e+00 -0.00000000e+00 -0.00000000e+00 -4.37113883e-08\n",
      "  0.00000000e+00  0.00000000e+00  0.00000000e+00  0.00000000e+00\n",
      "  0.00000000e+00  0.00000000e+00  5.75471878e+00 -1.00000000e+00\n",
      "  5.55726624e+00  0.00000000e+00  1.00000000e+00  0.00000000e+00\n",
      " -1.68164849e-01]\n"
     ]
    }
   ],
   "source": [
    "# reset the environment\n",
    "env_info = env.reset(train_mode=True)[brain_name]\n",
    "\n",
    "# number of agents\n",
    "num_agents = len(env_info.agents)\n",
    "print('Number of agents:', num_agents)\n",
    "\n",
    "# size of each action\n",
    "action_size = brain.vector_action_space_size\n",
    "print('Size of each action:', action_size)\n",
    "\n",
    "# examine the state space \n",
    "states = env_info.vector_observations\n",
    "state_size = states.shape[1]\n",
    "print('There are {} agents. Each observes a state with length: {}'.format(states.shape[0], state_size))\n",
    "print('The state for the first agent looks like:', states[0])"
   ]
  },
  {
   "cell_type": "markdown",
   "metadata": {},
   "source": [
    "### 3. Take Random Actions in the Environment\n",
    "\n",
    "In the next code cell, you will learn how to use the Python API to control the agent and receive feedback from the environment.\n",
    "\n",
    "Once this cell is executed, you will watch the agent's performance, if it selects an action at random with each time step.  A window should pop up that allows you to observe the agent, as it moves through the environment.  \n",
    "\n",
    "Of course, as part of the project, you'll have to change the code so that the agent is able to use its experience to gradually choose better actions when interacting with the environment!"
   ]
  },
  {
   "cell_type": "code",
   "execution_count": 5,
   "metadata": {},
   "outputs": [
    {
     "name": "stdout",
     "output_type": "stream",
     "text": [
      "Total score (averaged over agents) this episode: 0.13799999691545964\n"
     ]
    }
   ],
   "source": [
    "env_info = env.reset(train_mode=False)[brain_name]     # reset the environment    \n",
    "states = env_info.vector_observations                  # get the current state (for each agent)\n",
    "scores = np.zeros(num_agents)                          # initialize the score (for each agent)\n",
    "for i in range(1000):\n",
    "    actions = np.random.randn(num_agents, action_size) # select an action (for each agent)\n",
    "    actions = np.clip(actions, -1, 1)                  # all actions between -1 and 1\n",
    "    env_info = env.step(actions)[brain_name]           # send all actions to tne environment\n",
    "    next_states = env_info.vector_observations         # get next state (for each agent)\n",
    "    rewards = env_info.rewards                         # get reward (for each agent)\n",
    "    dones = env_info.local_done                        # see if episode finished\n",
    "    scores += env_info.rewards                         # update the score (for each agent)\n",
    "    states = next_states                               # roll over states to next time step\n",
    "    if np.any(dones):                                  # exit loop if episode finished\n",
    "        break\n",
    "print('Total score (averaged over agents) this episode: {}'.format(np.mean(scores)))"
   ]
  },
  {
   "cell_type": "markdown",
   "metadata": {},
   "source": [
    "When finished, you can close the environment."
   ]
  },
  {
   "cell_type": "code",
   "execution_count": null,
   "metadata": {},
   "outputs": [],
   "source": [
    "env.close()"
   ]
  },
  {
   "cell_type": "markdown",
   "metadata": {},
   "source": [
    "### 4. It's Your Turn!\n",
    "\n",
    "Now it's your turn to train your own agent to solve the environment!  When training the environment, set `train_mode=True`, so that the line for resetting the environment looks like the following:\n",
    "```python\n",
    "env_info = env.reset(train_mode=True)[brain_name]\n",
    "```"
   ]
  },
  {
   "cell_type": "markdown",
   "metadata": {},
   "source": [
    "#### 4.1 Create the actor-critic network\n",
    "\n",
    "The actor-critic PPO consists of two neural networks - one that is responsible for creating the policy, and the other that estimates the value of a given state."
   ]
  },
  {
   "cell_type": "code",
   "execution_count": 5,
   "metadata": {},
   "outputs": [],
   "source": [
    "# First create the neural network powering our agent\n",
    "import torch\n",
    "import torch.nn as nn\n",
    "import torch.nn.functional as F\n",
    "\n",
    "device = torch.device(\"cuda:0\" if torch.cuda.is_available() else \"cpu\")\n",
    "\n",
    "class Policy(nn.Module):\n",
    "\n",
    "    def __init__(self):\n",
    "        super(Policy, self).__init__()\n",
    "     \n",
    "        self.size = 33\n",
    "        self.fc1 = nn.Linear(self.size, 512)\n",
    "        self.fc2 = nn.Linear(512, 256)\n",
    "        self.fc3 = nn.Linear(256, 4)\n",
    "        \n",
    "        self.critic_fc1 = nn.Linear(self.size,512)\n",
    "        self.critic_fc2 = nn.Linear(512,256)\n",
    "        self.critic_fc3 = nn.Linear(256,1)\n",
    "        self.normalDistParams = torch.ones((1,4),device=device)\n",
    "        self.to(device)\n",
    "        \n",
    "    def forward(self, x,sampled_actions=None):\n",
    "        a  = torch.tensor(x,dtype=torch.float,device=device)\n",
    "        a = F.relu(self.fc1(a))\n",
    "        a = F.relu(self.fc2(a))\n",
    "        a = F.tanh(self.fc3(a))\n",
    "        \n",
    "        v = torch.tensor(x,dtype=torch.float,device=device)\n",
    "        v = F.relu(self.critic_fc1(v))\n",
    "        v = F.relu(self.critic_fc2(v))\n",
    "        v = self.critic_fc3(v)\n",
    "        \n",
    "       \n",
    "        #x is now the mean of a normal distribution from which we\n",
    "        #sample the actual action values\n",
    "        prob_dists = torch.distributions.Normal(a,self.normalDistParams)\n",
    "        if sampled_actions is None:\n",
    "            sampled_actions = prob_dists.sample()\n",
    "        action_probabilities = prob_dists.log_prob(sampled_actions) #Prob of each individual action\n",
    "        summed_action_probabilities = torch.sum(action_probabilities,dim=-1,keepdim=True)\n",
    "        return sampled_actions,summed_action_probabilities,x,v\n",
    "        \n",
    "\n",
    "\n",
    "# run your own policy!\n",
    "policy=Policy().to(device)\n",
    "#policy=pong_utils.Policy().to(device)\n",
    "\n",
    "# we use the adam optimizer with learning rate 2e-4\n",
    "# optim.SGD is also possible\n",
    "import torch.optim as optim\n",
    "optimizer = optim.Adam(policy.parameters(), lr=3e-4)"
   ]
  },
  {
   "cell_type": "markdown",
   "metadata": {},
   "source": [
    "#### 4.2 Generating trajectories\n",
    "\n",
    "This function uses the current policy to generate a set of trajectories, and computes all the required information to train the policy"
   ]
  },
  {
   "cell_type": "code",
   "execution_count": 6,
   "metadata": {},
   "outputs": [],
   "source": [
    "def generate_trajectories():\n",
    "    rollout = []\n",
    "    rollout_length = 600\n",
    "    env_info = env.reset(train_mode=True)[brain_name]    \n",
    "    states = env_info.vector_observations\n",
    "    scores = np.zeros(num_agents)    \n",
    "    \n",
    "    for _ in range(rollout_length):\n",
    "        #states_tensor = torch.Tensor(states,device=device).cuda()\n",
    "        actions, log_probs, _, values = policy(states)\n",
    "        env_info = env.step(actions.cpu().detach().numpy())[brain_name]\n",
    "        next_states = env_info.vector_observations\n",
    "        rewards = env_info.rewards\n",
    "        terminals = np.array([1 if t else 0 for t in env_info.local_done])\n",
    "        scores += env_info.rewards\n",
    "\n",
    "        rollout.append([states, values.detach(), actions.detach(), log_probs.detach(), rewards, 1 - terminals])\n",
    "        states = next_states\n",
    "\n",
    "    pending_value = policy(states)[-1]\n",
    "    rollout.append([states, pending_value, None, None, None, None])\n",
    "    \n",
    "    #Now that we have generated some trajectories\n",
    "    processed_rollout = [None] * (len(rollout) - 1)\n",
    "    advantages = torch.Tensor(np.zeros((20, 1))).to(device)\n",
    "    returns = pending_value.detach()\n",
    "    \n",
    "    discount_rate = 0.99\n",
    "    tau = 0.99\n",
    "    for i in reversed(range(len(rollout) - 1)):\n",
    "        states, value, actions, log_probs, rewards, terminals = rollout[i]\n",
    "        terminals = torch.Tensor(terminals).unsqueeze(1).to(device)\n",
    "        rewards = torch.Tensor(rewards).unsqueeze(1).to(device)\n",
    "        actions = actions\n",
    "        states = torch.Tensor(states).to(device)\n",
    "        next_value = rollout[i + 1][1]\n",
    "        returns = rewards + discount_rate * terminals * returns\n",
    "\n",
    "        td_error = rewards + discount_rate * terminals * next_value.detach() - value.detach()\n",
    "        advantages = advantages * tau * discount_rate * terminals + td_error\n",
    "        processed_rollout[i] = [states, actions, log_probs, returns, advantages]\n",
    "    \n",
    "    processed_states,processed_actions,processed_log_probs,processed_returns,processed_adv = zip(*processed_rollout)\n",
    " \n",
    "    #Convert into tensors\n",
    "    processed_states = torch.cat(processed_states,dim=0)\n",
    "    processed_actions = torch.cat(processed_actions,dim=0)\n",
    "    processed_log_probs = torch.cat(processed_log_probs,dim=0)\n",
    "    processed_returns = torch.cat(processed_returns,dim=0)\n",
    "    processed_adv = torch.cat(processed_adv,dim=0)\n",
    "    return processed_states,processed_actions,processed_log_probs,processed_returns,processed_adv,np.mean(scores)"
   ]
  },
  {
   "cell_type": "markdown",
   "metadata": {},
   "source": [
    "#### 4.3 Optimizing step\n",
    "\n",
    "The optimizing step consists of calculating a ratio of the probabilities of actions generated by the old network vs the new network. This ratio is then clipped so that it never diverges by a certain amount and multiplied by the estimated advantages. This then forms the policy loss. The value loss simply measures the difference between the estimated values of the critic network and the returns generated. \n",
    "\n",
    "Both losses are then fed through backpropagation to update the weights of the network"
   ]
  },
  {
   "cell_type": "code",
   "execution_count": 7,
   "metadata": {},
   "outputs": [],
   "source": [
    "def optimize(sampled_states,sampled_actions,sampled_log_probs,sampled_returns,sampled_advantages):\n",
    "    _, log_probs, entropy_loss, values = policy(sampled_states, sampled_actions)\n",
    "    entropy_loss = torch.Tensor(np.zeros((log_probs.size(0), 1))).to(device)\n",
    "    ratio = (log_probs - sampled_log_probs).exp()\n",
    "    #print(ratio)\n",
    "    obj = ratio * sampled_advantages\n",
    "    obj_clipped = ratio.clamp(1.0 - 0.2,\n",
    "                           1.0 + 0.2) * sampled_advantages\n",
    "    #print(obj_clipped)\n",
    "    policy_loss = -torch.min(obj, obj_clipped).mean(0) - 0.01 * entropy_loss.mean()\n",
    "    #print(policy_loss)\n",
    "    value_loss = 0.5 * (sampled_returns - values).pow(2).mean()\n",
    "    #print(value_loss)\n",
    "\n",
    "    optimizer.zero_grad()\n",
    "    (policy_loss + value_loss).backward()\n",
    "    #nn.utils.clip_grad_norm_(self.network.parameters(), hyperparameters['gradient_clip'])\n",
    "    optimizer.step()"
   ]
  },
  {
   "cell_type": "markdown",
   "metadata": {},
   "source": [
    "#### 4.4 Training\n",
    "With the above infrastructure in place we can now train the network. At each step, we first generate some training data using the current version of the policy. That data is then split up into minibatches and used to optimize the network using gradient ascent.\n",
    "\n",
    "At each episode we then run a simulation for 1000 steps and calculate the reward across all 20 agents. THis is the mean score for this step.\n",
    "\n",
    "We also keep a running track of all mean scores, so that we can calculate the average score for the 100 most recent episodes. As per the project rubric, the problem is considered 'solved' once we have an average mean score of 30 over 100 episodes, so it will break out of the training loop once this is achieved or when we've gone through our maximum number of training iterations"
   ]
  },
  {
   "cell_type": "code",
   "execution_count": 8,
   "metadata": {},
   "outputs": [
    {
     "name": "stderr",
     "output_type": "stream",
     "text": [
      "c:\\users\\kvjos\\anaconda3\\envs\\drlnd2\\lib\\site-packages\\torch\\nn\\functional.py:995: UserWarning: nn.functional.tanh is deprecated. Use torch.tanh instead.\n",
      "  warnings.warn(\"nn.functional.tanh is deprecated. Use torch.tanh instead.\")\n"
     ]
    },
    {
     "name": "stdout",
     "output_type": "stream",
     "text": [
      "Episode 0: Average Score: 0.1444999967701733, Last 100 Rolling Average 0.1444999967701733\n",
      "Episode 10: Average Score: 1.1279999747872353, Last 100 Rolling Average 0.6475454400716857\n",
      "Episode 20: Average Score: 1.8274999591521919, Last 100 Rolling Average 1.096690451677534\n",
      "Episode 30: Average Score: 3.1694999291561543, Last 100 Rolling Average 1.542209642948282\n",
      "Episode 40: Average Score: 4.123999907821417, Last 100 Rolling Average 2.097951172619331\n",
      "Episode 50: Average Score: 4.481999899819494, Last 100 Rolling Average 2.5781273933547526\n",
      "Episode 60: Average Score: 5.119999885559082, Last 100 Rolling Average 3.030385178167251\n",
      "Episode 70: Average Score: 6.546999853663147, Last 100 Rolling Average 3.493323865580097\n",
      "Episode 80: Average Score: 8.177999817207455, Last 100 Rolling Average 3.9452097883608976\n",
      "Episode 90: Average Score: 8.615999807417392, Last 100 Rolling Average 4.417928472680173\n",
      "Episode 100: Average Score: 10.247499770950526, Last 100 Rolling Average 4.922634889970534\n",
      "Episode 110: Average Score: 9.971999777108431, Last 100 Rolling Average 5.894599868245423\n",
      "Episode 120: Average Score: 11.82449973570183, Last 100 Rolling Average 6.86090984664671\n",
      "Episode 130: Average Score: 12.115999729186296, Last 100 Rolling Average 7.861284824286588\n",
      "Episode 140: Average Score: 15.71299964878708, Last 100 Rolling Average 8.868994801762515\n",
      "Episode 150: Average Score: 15.06499966327101, Last 100 Rolling Average 9.978269776968284\n",
      "Episode 160: Average Score: 17.322499612811953, Last 100 Rolling Average 11.146264750861562\n",
      "Episode 170: Average Score: 19.03549957452342, Last 100 Rolling Average 12.30570972494595\n",
      "Episode 180: Average Score: 18.26649959171191, Last 100 Rolling Average 13.468184698962604\n",
      "Episode 190: Average Score: 19.19299957100302, Last 100 Rolling Average 14.52604467531759\n",
      "Episode 200: Average Score: 20.087499551009387, Last 100 Rolling Average 15.58583465162944\n",
      "Episode 210: Average Score: 20.88099953327328, Last 100 Rolling Average 16.60832462877501\n",
      "Episode 220: Average Score: 22.49399949721992, Last 100 Rolling Average 17.68742960465513\n",
      "Episode 230: Average Score: 23.49899947475642, Last 100 Rolling Average 18.69836958205886\n",
      "Episode 240: Average Score: 23.69399947039783, Last 100 Rolling Average 19.623304561384952\n",
      "Episode 250: Average Score: 25.106999438814817, Last 100 Rolling Average 20.469869542462753\n",
      "Episode 260: Average Score: 25.277499435003847, Last 100 Rolling Average 21.27000952457823\n",
      "Episode 270: Average Score: 24.747999446839096, Last 100 Rolling Average 22.04508450725395\n",
      "Episode 280: Average Score: 27.84249937767163, Last 100 Rolling Average 22.788369490640235\n",
      "Episode 290: Average Score: 27.275499390345068, Last 100 Rolling Average 23.671549470899627\n",
      "Episode 300: Average Score: 27.928999375738204, Last 100 Rolling Average 24.544414451389574\n",
      "Episode 310: Average Score: 32.085999282822016, Last 100 Rolling Average 25.54879442893993\n",
      "Episode 320: Average Score: 30.42949931984767, Last 100 Rolling Average 26.54889940658584\n",
      "Episode 330: Average Score: 32.71999926865101, Last 100 Rolling Average 27.503919385239477\n",
      "Episode 340: Average Score: 34.53349922811613, Last 100 Rolling Average 28.61109936049208\n",
      "Episode 350: Average Score: 35.42649920815602, Last 100 Rolling Average 29.633924337630166\n",
      "Episode 354: Average Score: 34.975499218236656, Last 100 Rolling Average 30.04026932854764\n",
      "Environment is solved\n"
     ]
    }
   ],
   "source": [
    "num_training_steps = 1000\n",
    "num_epochs_per_step = 5\n",
    "all_mean_scores = []\n",
    "for i in range(num_training_steps):\n",
    "    step_states,step_actions,step_log_probs,step_rewards,step_advantages,mean_score = generate_trajectories()\n",
    "    for j in range(num_epochs_per_step):\n",
    "        shuffled_indices = np.arange(step_states.size(0))\n",
    "        np.random.shuffle(shuffled_indices)\n",
    "        \n",
    "        minibatch_size = 64\n",
    "        num_minibatches = step_states.size(0) // minibatch_size\n",
    "        for z in range(minibatch_size):\n",
    "            minibatch_indices = shuffled_indices[z*minibatch_size:(z+1)*minibatch_size]\n",
    "            optimize(step_states[minibatch_indices],step_actions[minibatch_indices],step_log_probs[minibatch_indices],step_rewards[minibatch_indices],step_advantages[minibatch_indices])\n",
    "    \n",
    "    #Now simulate using the current policy and calculate the average score across all 20 agents\n",
    "    env_info = env.reset(train_mode=True)[brain_name]    \n",
    "    states = env_info.vector_observations\n",
    "    current_step_scores = np.zeros(num_agents)    \n",
    "    for _ in range(1000):\n",
    "        actions, log_probs, _, values = policy(states)\n",
    "        env_info = env.step(actions.cpu().detach().numpy())[brain_name]\n",
    "        next_states = env_info.vector_observations\n",
    "        current_step_scores += env_info.rewards\n",
    "        states = next_states\n",
    "    \n",
    "    all_mean_scores.append(np.mean(current_step_scores))\n",
    "    if(i%10 == 0):\n",
    "        print('Episode {}: Average Score: {}, Last 100 Rolling Average {}'.format(i,np.mean(current_step_scores),np.mean(all_mean_scores[-100:])))\n",
    "\n",
    "    if(np.mean(all_mean_scores[-100:]) >= 30.0 and len(all_mean_scores) >= 100 ):\n",
    "        print('Episode {}: Average Score: {}, Last 100 Rolling Average {}'.format(i,np.mean(current_step_scores),np.mean(all_mean_scores[-100:])))\n",
    "        print(\"Environment is solved\")\n",
    "        break\n",
    "        \n",
    "    #print('Total score (averaged over agents) this episode: {}'.format(np.mean(current_step_scores)))\n",
    "    #print('Average score over the last 100 episodes: {}'.format(np.mean(all_mean_scores[-100:])))"
   ]
  },
  {
   "cell_type": "code",
   "execution_count": 9,
   "metadata": {},
   "outputs": [],
   "source": [
    "# Save the policy\n",
    "torch.save(policy.state_dict(), 'reacher-ppo-policy.PTH')"
   ]
  },
  {
   "cell_type": "markdown",
   "metadata": {},
   "source": [
    "#### 4.4 Generate a plot of average scores after each episode\n"
   ]
  },
  {
   "cell_type": "code",
   "execution_count": 11,
   "metadata": {},
   "outputs": [
    {
     "data": {
      "image/png": "[encoded data removed]",
      "text/plain": [
       "<Figure size 432x288 with 1 Axes>"
      ]
     },
     "metadata": {
      "needs_background": "light"
     },
     "output_type": "display_data"
    }
   ],
   "source": [
    "import matplotlib.pyplot as plt\n",
    "plt.plot(all_mean_scores)\n",
    "plt.show()"
   ]
  },
  {
   "cell_type": "markdown",
   "metadata": {},
   "source": [
    "#### 4.5 Simulate the environment with a trained agent\n",
    "\n",
    "We can try loading the agent and viewing its performance in the environment by setting `train_mode=False`"
   ]
  },
  {
   "cell_type": "code",
   "execution_count": 12,
   "metadata": {},
   "outputs": [],
   "source": [
    "learned_policy = Policy()\n",
    "learned_policy.load_state_dict(torch.load('reacher-ppo-policy.PTH'))"
   ]
  },
  {
   "cell_type": "code",
   "execution_count": 13,
   "metadata": {},
   "outputs": [
    {
     "name": "stderr",
     "output_type": "stream",
     "text": [
      "c:\\users\\kvjos\\anaconda3\\envs\\drlnd2\\lib\\site-packages\\torch\\nn\\functional.py:995: UserWarning: nn.functional.tanh is deprecated. Use torch.tanh instead.\n",
      "  warnings.warn(\"nn.functional.tanh is deprecated. Use torch.tanh instead.\")\n"
     ]
    }
   ],
   "source": [
    "env_info = env.reset(train_mode=False)[brain_name]    \n",
    "states = env_info.vector_observations\n",
    "for _ in range(200):\n",
    "    actions, _, _, _ = learned_policy(states)\n",
    "    env_info = env.step(actions.cpu().detach().numpy())[brain_name]\n",
    "    next_states = env_info.vector_observations\n",
    "    states = next_states"
   ]
  },
  {
   "cell_type": "code",
   "execution_count": null,
   "metadata": {},
   "outputs": [],
   "source": []
  }
 ],
 "metadata": {
  "kernelspec": {
   "display_name": "Python 3",
   "language": "python",
   "name": "python3"
  },
  "language_info": {
   "codemirror_mode": {
    "name": "ipython",
    "version": 3
   },
   "file_extension": ".py",
   "mimetype": "text/x-python",
   "name": "python",
   "nbconvert_exporter": "python",
   "pygments_lexer": "ipython3",
   "version": "3.6.7"
  }
 },
 "nbformat": 4,
 "nbformat_minor": 2
}
