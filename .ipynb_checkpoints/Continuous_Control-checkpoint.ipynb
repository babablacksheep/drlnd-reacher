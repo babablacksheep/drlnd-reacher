{
 "cells": [
  {
   "cell_type": "markdown",
   "metadata": {},
   "source": [
    "# Continuous Control\n",
    "\n",
    "---\n",
    "\n",
    "In this notebook, you will learn how to use the Unity ML-Agents environment for the second project of the [Deep Reinforcement Learning Nanodegree](https://www.udacity.com/course/deep-reinforcement-learning-nanodegree--nd893) program.\n",
    "\n",
    "### 1. Start the Environment\n",
    "\n",
    "We begin by importing the necessary packages.  If the code cell below returns an error, please revisit the project instructions to double-check that you have installed [Unity ML-Agents](https://github.com/Unity-Technologies/ml-agents/blob/master/docs/Installation.md) and [NumPy](http://www.numpy.org/)."
   ]
  },
  {
   "cell_type": "code",
   "execution_count": 1,
   "metadata": {},
   "outputs": [],
   "source": [
    "from unityagents import UnityEnvironment\n",
    "import numpy as np"
   ]
  },
  {
   "cell_type": "markdown",
   "metadata": {},
   "source": [
    "Next, we will start the environment!  **_Before running the code cell below_**, change the `file_name` parameter to match the location of the Unity environment that you downloaded.\n",
    "\n",
    "- **Mac**: `\"path/to/Reacher.app\"`\n",
    "- **Windows** (x86): `\"path/to/Reacher_Windows_x86/Reacher.exe\"`\n",
    "- **Windows** (x86_64): `\"path/to/Reacher_Windows_x86_64/Reacher.exe\"`\n",
    "- **Linux** (x86): `\"path/to/Reacher_Linux/Reacher.x86\"`\n",
    "- **Linux** (x86_64): `\"path/to/Reacher_Linux/Reacher.x86_64\"`\n",
    "- **Linux** (x86, headless): `\"path/to/Reacher_Linux_NoVis/Reacher.x86\"`\n",
    "- **Linux** (x86_64, headless): `\"path/to/Reacher_Linux_NoVis/Reacher.x86_64\"`\n",
    "\n",
    "For instance, if you are using a Mac, then you downloaded `Reacher.app`.  If this file is in the same folder as the notebook, then the line below should appear as follows:\n",
    "```\n",
    "env = UnityEnvironment(file_name=\"Reacher.app\")\n",
    "```"
   ]
  },
  {
   "cell_type": "code",
   "execution_count": 2,
   "metadata": {},
   "outputs": [
    {
     "name": "stderr",
     "output_type": "stream",
     "text": [
      "INFO:unityagents:\n",
      "'Academy' started successfully!\n",
      "Unity Academy name: Academy\n",
      "        Number of Brains: 1\n",
      "        Number of External Brains : 1\n",
      "        Lesson number : 0\n",
      "        Reset Parameters :\n",
      "\t\tgoal_speed -> 1.0\n",
      "\t\tgoal_size -> 5.0\n",
      "Unity brain name: ReacherBrain\n",
      "        Number of Visual Observations (per agent): 0\n",
      "        Vector Observation space type: continuous\n",
      "        Vector Observation space size (per agent): 33\n",
      "        Number of stacked Vector Observation: 1\n",
      "        Vector Action space type: continuous\n",
      "        Vector Action space size (per agent): 4\n",
      "        Vector Action descriptions: , , , \n"
     ]
    }
   ],
   "source": [
    "env = UnityEnvironment(file_name='C:\\\\Users\\\\kvjos\\\\udacityRL\\\\deep-reinforcement-learning\\\\p2_continuous-control\\\\Reacher_Windows_x86_64/Reacher.exe')\n",
    "#env = UnityEnvironment(file_name='Reacher.app')"
   ]
  },
  {
   "cell_type": "markdown",
   "metadata": {},
   "source": [
    "Environments contain **_brains_** which are responsible for deciding the actions of their associated agents. Here we check for the first brain available, and set it as the default brain we will be controlling from Python."
   ]
  },
  {
   "cell_type": "code",
   "execution_count": 3,
   "metadata": {},
   "outputs": [],
   "source": [
    "# get the default brain\n",
    "brain_name = env.brain_names[0]\n",
    "brain = env.brains[brain_name]"
   ]
  },
  {
   "cell_type": "markdown",
   "metadata": {},
   "source": [
    "### 2. Examine the State and Action Spaces\n",
    "\n",
    "In this environment, a double-jointed arm can move to target locations. A reward of `+0.1` is provided for each step that the agent's hand is in the goal location. Thus, the goal of your agent is to maintain its position at the target location for as many time steps as possible.\n",
    "\n",
    "The observation space consists of `33` variables corresponding to position, rotation, velocity, and angular velocities of the arm.  Each action is a vector with four numbers, corresponding to torque applicable to two joints.  Every entry in the action vector must be a number between `-1` and `1`.\n",
    "\n",
    "Run the code cell below to print some information about the environment."
   ]
  },
  {
   "cell_type": "code",
   "execution_count": 4,
   "metadata": {},
   "outputs": [
    {
     "name": "stdout",
     "output_type": "stream",
     "text": [
      "Number of agents: 20\n",
      "Size of each action: 4\n",
      "There are 20 agents. Each observes a state with length: 33\n",
      "The state for the first agent looks like: [ 0.00000000e+00 -4.00000000e+00  0.00000000e+00  1.00000000e+00\n",
      " -0.00000000e+00 -0.00000000e+00 -4.37113883e-08  0.00000000e+00\n",
      "  0.00000000e+00  0.00000000e+00  0.00000000e+00  0.00000000e+00\n",
      "  0.00000000e+00  0.00000000e+00 -1.00000000e+01  0.00000000e+00\n",
      "  1.00000000e+00 -0.00000000e+00 -0.00000000e+00 -4.37113883e-08\n",
      "  0.00000000e+00  0.00000000e+00  0.00000000e+00  0.00000000e+00\n",
      "  0.00000000e+00  0.00000000e+00  5.75471878e+00 -1.00000000e+00\n",
      "  5.55726624e+00  0.00000000e+00  1.00000000e+00  0.00000000e+00\n",
      " -1.68164849e-01]\n"
     ]
    }
   ],
   "source": [
    "# reset the environment\n",
    "env_info = env.reset(train_mode=True)[brain_name]\n",
    "\n",
    "# number of agents\n",
    "num_agents = len(env_info.agents)\n",
    "print('Number of agents:', num_agents)\n",
    "\n",
    "# size of each action\n",
    "action_size = brain.vector_action_space_size\n",
    "print('Size of each action:', action_size)\n",
    "\n",
    "# examine the state space \n",
    "states = env_info.vector_observations\n",
    "state_size = states.shape[1]\n",
    "print('There are {} agents. Each observes a state with length: {}'.format(states.shape[0], state_size))\n",
    "print('The state for the first agent looks like:', states[0])"
   ]
  },
  {
   "cell_type": "markdown",
   "metadata": {},
   "source": [
    "### 3. Take Random Actions in the Environment\n",
    "\n",
    "In the next code cell, you will learn how to use the Python API to control the agent and receive feedback from the environment.\n",
    "\n",
    "Once this cell is executed, you will watch the agent's performance, if it selects an action at random with each time step.  A window should pop up that allows you to observe the agent, as it moves through the environment.  \n",
    "\n",
    "Of course, as part of the project, you'll have to change the code so that the agent is able to use its experience to gradually choose better actions when interacting with the environment!"
   ]
  },
  {
   "cell_type": "code",
   "execution_count": 5,
   "metadata": {},
   "outputs": [
    {
     "name": "stdout",
     "output_type": "stream",
     "text": [
      "Total score (averaged over agents) this episode: 0.13799999691545964\n"
     ]
    }
   ],
   "source": [
    "env_info = env.reset(train_mode=False)[brain_name]     # reset the environment    \n",
    "states = env_info.vector_observations                  # get the current state (for each agent)\n",
    "scores = np.zeros(num_agents)                          # initialize the score (for each agent)\n",
    "for i in range(1000):\n",
    "    actions = np.random.randn(num_agents, action_size) # select an action (for each agent)\n",
    "    actions = np.clip(actions, -1, 1)                  # all actions between -1 and 1\n",
    "    env_info = env.step(actions)[brain_name]           # send all actions to tne environment\n",
    "    next_states = env_info.vector_observations         # get next state (for each agent)\n",
    "    rewards = env_info.rewards                         # get reward (for each agent)\n",
    "    dones = env_info.local_done                        # see if episode finished\n",
    "    scores += env_info.rewards                         # update the score (for each agent)\n",
    "    states = next_states                               # roll over states to next time step\n",
    "    if np.any(dones):                                  # exit loop if episode finished\n",
    "        break\n",
    "print('Total score (averaged over agents) this episode: {}'.format(np.mean(scores)))"
   ]
  },
  {
   "cell_type": "markdown",
   "metadata": {},
   "source": [
    "When finished, you can close the environment."
   ]
  },
  {
   "cell_type": "code",
   "execution_count": null,
   "metadata": {},
   "outputs": [],
   "source": [
    "env.close()"
   ]
  },
  {
   "cell_type": "markdown",
   "metadata": {},
   "source": [
    "### 4. It's Your Turn!\n",
    "\n",
    "Now it's your turn to train your own agent to solve the environment!  When training the environment, set `train_mode=True`, so that the line for resetting the environment looks like the following:\n",
    "```python\n",
    "env_info = env.reset(train_mode=True)[brain_name]\n",
    "```"
   ]
  },
  {
   "cell_type": "code",
   "execution_count": 5,
   "metadata": {},
   "outputs": [],
   "source": [
    "# First create the neural network powering our agent\n",
    "import torch\n",
    "import torch.nn as nn\n",
    "import torch.nn.functional as F\n",
    "\n",
    "device = torch.device(\"cuda:0\" if torch.cuda.is_available() else \"cpu\")\n",
    "\n",
    "class Policy(nn.Module):\n",
    "\n",
    "    def __init__(self):\n",
    "        super(Policy, self).__init__()\n",
    "     \n",
    "        self.size = 33\n",
    "        self.fc1 = nn.Linear(self.size, 512)\n",
    "        self.fc2 = nn.Linear(512, 256)\n",
    "        self.fc3 = nn.Linear(256, 4)\n",
    "        \n",
    "        self.critic_fc1 = nn.Linear(self.size,512)\n",
    "        self.critic_fc2 = nn.Linear(512,128)\n",
    "        self.critic_fc3 = nn.Linear(128,1)\n",
    "        self.normalDistParams = torch.ones((1,4),device=device)\n",
    "        self.to(device)\n",
    "        \n",
    "    def forward(self, x,sampled_actions=None):\n",
    "        a  = torch.tensor(x,dtype=torch.float,device=device)\n",
    "        a = F.relu(self.fc1(a))\n",
    "        a = F.relu(self.fc2(a))\n",
    "        a = F.tanh(self.fc3(a))\n",
    "        \n",
    "        v = torch.tensor(x,dtype=torch.float,device=device)\n",
    "        v = F.relu(self.critic_fc1(v))\n",
    "        v = F.relu(self.critic_fc2(v))\n",
    "        v = self.critic_fc3(v)\n",
    "        \n",
    "       \n",
    "        #x is now the mean of a normal distribution from which we\n",
    "        #sample the actual action values\n",
    "        prob_dists = torch.distributions.Normal(a,self.normalDistParams)\n",
    "        if sampled_actions is None:\n",
    "            sampled_actions = prob_dists.sample()\n",
    "        action_probabilities = prob_dists.log_prob(sampled_actions) #Prob of each individual action\n",
    "        summed_action_probabilities = torch.sum(action_probabilities,dim=-1,keepdim=True)\n",
    "        return sampled_actions,summed_action_probabilities,x,v\n",
    "        \n",
    "\n",
    "\n",
    "# run your own policy!\n",
    "policy=Policy().to(device)\n",
    "#policy=pong_utils.Policy().to(device)\n",
    "\n",
    "# we use the adam optimizer with learning rate 2e-4\n",
    "# optim.SGD is also possible\n",
    "import torch.optim as optim\n",
    "optimizer = optim.Adam(policy.parameters(), lr=2e-4)"
   ]
  },
  {
   "cell_type": "code",
   "execution_count": 6,
   "metadata": {},
   "outputs": [],
   "source": [
    "def generate_trajectories():\n",
    "    rollout = []\n",
    "    rollout_length = 600\n",
    "    env_info = env.reset(train_mode=True)[brain_name]    \n",
    "    states = env_info.vector_observations\n",
    "    scores = np.zeros(num_agents)    \n",
    "    \n",
    "    for _ in range(rollout_length):\n",
    "        #states_tensor = torch.Tensor(states,device=device).cuda()\n",
    "        actions, log_probs, _, values = policy(states)\n",
    "        env_info = env.step(actions.cpu().detach().numpy())[brain_name]\n",
    "        next_states = env_info.vector_observations\n",
    "        rewards = env_info.rewards\n",
    "        terminals = np.array([1 if t else 0 for t in env_info.local_done])\n",
    "        scores += env_info.rewards\n",
    "\n",
    "        rollout.append([states, values.detach(), actions.detach(), log_probs.detach(), rewards, 1 - terminals])\n",
    "        states = next_states\n",
    "\n",
    "    pending_value = policy(states)[-1]\n",
    "    rollout.append([states, pending_value, None, None, None, None])\n",
    "    \n",
    "    #Now that we have generated some trajectories\n",
    "    processed_rollout = [None] * (len(rollout) - 1)\n",
    "    advantages = torch.Tensor(np.zeros((20, 1))).to(device)\n",
    "    returns = pending_value.detach()\n",
    "    \n",
    "    discount_rate = 0.99\n",
    "    tau = 0.99\n",
    "    for i in reversed(range(len(rollout) - 1)):\n",
    "        states, value, actions, log_probs, rewards, terminals = rollout[i]\n",
    "        terminals = torch.Tensor(terminals).unsqueeze(1).to(device)\n",
    "        rewards = torch.Tensor(rewards).unsqueeze(1).to(device)\n",
    "        actions = actions\n",
    "        states = torch.Tensor(states).to(device)\n",
    "        next_value = rollout[i + 1][1]\n",
    "        returns = rewards + discount_rate * terminals * returns\n",
    "\n",
    "        td_error = rewards + discount_rate * terminals * next_value.detach() - value.detach()\n",
    "        advantages = advantages * tau * discount_rate * terminals + td_error\n",
    "        processed_rollout[i] = [states, actions, log_probs, returns, advantages]\n",
    "    \n",
    "    processed_states,processed_actions,processed_log_probs,processed_returns,processed_adv = zip(*processed_rollout)\n",
    " \n",
    "    #Convert into tensors\n",
    "    processed_states = torch.cat(processed_states,dim=0)\n",
    "    processed_actions = torch.cat(processed_actions,dim=0)\n",
    "    processed_log_probs = torch.cat(processed_log_probs,dim=0)\n",
    "    processed_returns = torch.cat(processed_returns,dim=0)\n",
    "    processed_adv = torch.cat(processed_adv,dim=0)\n",
    "    return processed_states,processed_actions,processed_log_probs,processed_returns,processed_adv,np.mean(scores)"
   ]
  },
  {
   "cell_type": "code",
   "execution_count": 7,
   "metadata": {},
   "outputs": [
    {
     "name": "stderr",
     "output_type": "stream",
     "text": [
      "c:\\users\\kvjos\\anaconda3\\envs\\drlnd2\\lib\\site-packages\\torch\\nn\\functional.py:995: UserWarning: nn.functional.tanh is deprecated. Use torch.tanh instead.\n",
      "  warnings.warn(\"nn.functional.tanh is deprecated. Use torch.tanh instead.\")\n"
     ]
    }
   ],
   "source": [
    "t_s,t_a,t_lp,t_r,t_adv,score_mean = generate_trajectories()\n"
   ]
  },
  {
   "cell_type": "code",
   "execution_count": 8,
   "metadata": {},
   "outputs": [
    {
     "data": {
      "text/plain": [
       "0.040499999094754456"
      ]
     },
     "execution_count": 8,
     "metadata": {},
     "output_type": "execute_result"
    }
   ],
   "source": [
    "score_mean"
   ]
  },
  {
   "cell_type": "code",
   "execution_count": 9,
   "metadata": {
    "scrolled": true
   },
   "outputs": [
    {
     "data": {
      "text/plain": [
       "torch.Size([12000, 1])"
      ]
     },
     "execution_count": 9,
     "metadata": {},
     "output_type": "execute_result"
    }
   ],
   "source": [
    "t_r.shape"
   ]
  },
  {
   "cell_type": "code",
   "execution_count": 75,
   "metadata": {},
   "outputs": [],
   "source": [
    "# discount_rate = 0.99\n",
    "# tau = 0.99\n",
    "# for i in reversed(range(len(rollout) - 1)):\n",
    "#     states, value, actions, log_probs, rewards, terminals = rollout[i]\n",
    "# #    print(\"Rewards \" + str(i) + str(rewards))\n",
    "# #    print(torch.Tensor(rewards).unsqueeze(1))\n",
    "#     terminals = torch.Tensor(terminals).unsqueeze(1).to(device)\n",
    "#     rewards = torch.Tensor(rewards).unsqueeze(1).to(device)\n",
    "#     actions = actions\n",
    "#     states = torch.Tensor(states).to(device)\n",
    "#     next_value = rollout[i + 1][1]\n",
    "#     returns = rewards + discount_rate * terminals * returns\n",
    "\n",
    "#     td_error = rewards + discount_rate * terminals * next_value.detach() - value.detach()\n",
    "#     advantages = advantages * tau * discount_rate * terminals + td_error\n",
    "#     processed_rollout[i] = [states, actions, log_probs, returns, advantages]\n",
    "\n",
    "\n"
   ]
  },
  {
   "cell_type": "code",
   "execution_count": 10,
   "metadata": {},
   "outputs": [],
   "source": [
    "def optimize(sampled_states,sampled_actions,sampled_log_probs,sampled_returns,sampled_advantages):\n",
    "    _, log_probs, entropy_loss, values = policy(sampled_states, sampled_actions)\n",
    "    entropy_loss = torch.Tensor(np.zeros((log_probs.size(0), 1))).to(device)\n",
    "    ratio = (log_probs - sampled_log_probs).exp()\n",
    "    #print(ratio)\n",
    "    obj = ratio * sampled_advantages\n",
    "    obj_clipped = ratio.clamp(1.0 - 0.2,\n",
    "                           1.0 + 0.2) * sampled_advantages\n",
    "    #print(obj_clipped)\n",
    "    policy_loss = -torch.min(obj, obj_clipped).mean(0) - 0.01 * entropy_loss.mean()\n",
    "    #print(policy_loss)\n",
    "    value_loss = 0.5 * (sampled_returns - values).pow(2).mean()\n",
    "    #print(value_loss)\n",
    "\n",
    "    optimizer.zero_grad()\n",
    "    (policy_loss + value_loss).backward()\n",
    "    #nn.utils.clip_grad_norm_(self.network.parameters(), hyperparameters['gradient_clip'])\n",
    "    optimizer.step()"
   ]
  },
  {
   "cell_type": "code",
   "execution_count": 11,
   "metadata": {},
   "outputs": [],
   "source": [
    "fsdf= np.arange(t_s.size(0))\n",
    "np.random.shuffle(fsdf)\n"
   ]
  },
  {
   "cell_type": "code",
   "execution_count": 12,
   "metadata": {},
   "outputs": [
    {
     "data": {
      "text/plain": [
       "array([ 2129,  4693,  4269, ..., 11897,  3353,  6360])"
      ]
     },
     "execution_count": 12,
     "metadata": {},
     "output_type": "execute_result"
    }
   ],
   "source": [
    "fsdf"
   ]
  },
  {
   "cell_type": "code",
   "execution_count": 13,
   "metadata": {},
   "outputs": [
    {
     "data": {
      "text/plain": [
       "tensor([[ 0.5323, -3.9354, -0.4891,  ...,  1.0000,  0.0000,  0.0018],\n",
       "        [ 1.1487, -3.7893,  0.5774,  ...,  1.0000,  0.0000, -0.5447],\n",
       "        [-0.1848, -3.9483, -0.6227,  ...,  1.0000,  0.0000,  0.0018],\n",
       "        ...,\n",
       "        [-0.9037, -2.9513, -2.5526,  ...,  1.0000,  0.0000,  0.9477],\n",
       "        [-0.8188, -3.9004, -0.3515,  ...,  1.0000,  0.0000,  0.0018],\n",
       "        [-1.6096, -3.5754, -0.8076,  ...,  1.0000,  0.0000,  0.1641]],\n",
       "       device='cuda:0')"
      ]
     },
     "execution_count": 13,
     "metadata": {},
     "output_type": "execute_result"
    }
   ],
   "source": [
    "t_s[fsdf[0:64]]"
   ]
  },
  {
   "cell_type": "code",
   "execution_count": 16,
   "metadata": {},
   "outputs": [
    {
     "name": "stdout",
     "output_type": "stream",
     "text": [
      "Total score (averaged over agents) this episode: 8.94749980000779\n",
      "Total score (averaged over agents) this episode: 9.83499978017062\n",
      "Total score (averaged over agents) this episode: 8.250999815575778\n",
      "Total score (averaged over agents) this episode: 8.595999807864427\n",
      "Total score (averaged over agents) this episode: 9.002999798767268\n",
      "Total score (averaged over agents) this episode: 9.663499784003942\n",
      "Total score (averaged over agents) this episode: 8.72349980501458\n",
      "Total score (averaged over agents) this episode: 9.550999786518513\n",
      "Total score (averaged over agents) this episode: 8.304999814368784\n",
      "Total score (averaged over agents) this episode: 8.22199981622398\n",
      "Total score (averaged over agents) this episode: 9.684499783534557\n",
      "Total score (averaged over agents) this episode: 9.174999794922769\n",
      "Total score (averaged over agents) this episode: 8.16049981759861\n",
      "Total score (averaged over agents) this episode: 9.783499781321733\n",
      "Total score (averaged over agents) this episode: 9.655499784182757\n",
      "Total score (averaged over agents) this episode: 8.886499801371247\n",
      "Total score (averaged over agents) this episode: 8.940499800164252\n",
      "Total score (averaged over agents) this episode: 8.429499811585993\n",
      "Total score (averaged over agents) this episode: 9.727999782562256\n",
      "Total score (averaged over agents) this episode: 10.523499764781445\n",
      "Total score (averaged over agents) this episode: 10.33749976893887\n",
      "Total score (averaged over agents) this episode: 10.478999765776098\n",
      "Total score (averaged over agents) this episode: 9.639499784540385\n",
      "Total score (averaged over agents) this episode: 8.904499800968916\n",
      "Total score (averaged over agents) this episode: 9.478499788139015\n",
      "Total score (averaged over agents) this episode: 9.130499795917421\n",
      "Total score (averaged over agents) this episode: 9.379499790351838\n",
      "Total score (averaged over agents) this episode: 10.10999977402389\n",
      "Total score (averaged over agents) this episode: 9.976499777007849\n",
      "Total score (averaged over agents) this episode: 10.13649977343157\n",
      "Total score (averaged over agents) this episode: 9.968499777186661\n",
      "Total score (averaged over agents) this episode: 10.102499774191529\n",
      "Total score (averaged over agents) this episode: 10.565499763842672\n",
      "Total score (averaged over agents) this episode: 9.830999780260026\n",
      "Total score (averaged over agents) this episode: 9.933499777968972\n",
      "Total score (averaged over agents) this episode: 11.294999747537076\n",
      "Total score (averaged over agents) this episode: 10.702499760780483\n",
      "Total score (averaged over agents) this episode: 10.949999755248427\n",
      "Total score (averaged over agents) this episode: 11.043999753147364\n",
      "Total score (averaged over agents) this episode: 9.96349977729842\n",
      "Total score (averaged over agents) this episode: 9.946999777667225\n",
      "Total score (averaged over agents) this episode: 10.824499758053571\n",
      "Total score (averaged over agents) this episode: 10.720999760366976\n",
      "Total score (averaged over agents) this episode: 10.892999756522476\n",
      "Total score (averaged over agents) this episode: 10.427999766916036\n",
      "Total score (averaged over agents) this episode: 10.239999771118164\n",
      "Total score (averaged over agents) this episode: 11.501499742921443\n",
      "Total score (averaged over agents) this episode: 10.602999763004481\n",
      "Total score (averaged over agents) this episode: 10.692999760992825\n",
      "Total score (averaged over agents) this episode: 11.381499745603652\n",
      "Total score (averaged over agents) this episode: 10.779999759048223\n",
      "Total score (averaged over agents) this episode: 11.685499738808721\n",
      "Total score (averaged over agents) this episode: 10.423999767005444\n",
      "Total score (averaged over agents) this episode: 10.722499760333449\n",
      "Total score (averaged over agents) this episode: 10.98549975445494\n",
      "Total score (averaged over agents) this episode: 11.038499753270298\n",
      "Total score (averaged over agents) this episode: 10.425499766971916\n",
      "Total score (averaged over agents) this episode: 12.71349971583113\n",
      "Total score (averaged over agents) this episode: 11.410999744944274\n",
      "Total score (averaged over agents) this episode: 11.331999746710062\n",
      "Total score (averaged over agents) this episode: 10.477499765809625\n",
      "Total score (averaged over agents) this episode: 10.464999766089022\n",
      "Total score (averaged over agents) this episode: 10.21649977164343\n",
      "Total score (averaged over agents) this episode: 10.996499754209072\n",
      "Total score (averaged over agents) this episode: 11.339999746531248\n",
      "Total score (averaged over agents) this episode: 9.871499779354782\n",
      "Total score (averaged over agents) this episode: 10.64749976200983\n",
      "Total score (averaged over agents) this episode: 10.949999755248427\n",
      "Total score (averaged over agents) this episode: 11.665499739255756\n",
      "Total score (averaged over agents) this episode: 10.617499762680382\n",
      "Total score (averaged over agents) this episode: 9.723999782651664\n",
      "Total score (averaged over agents) this episode: 9.491999787837267\n",
      "Total score (averaged over agents) this episode: 10.032999775744974\n",
      "Total score (averaged over agents) this episode: 9.894499778840691\n",
      "Total score (averaged over agents) this episode: 10.094999774359167\n",
      "Total score (averaged over agents) this episode: 9.466499788407237\n",
      "Total score (averaged over agents) this episode: 9.848999779857696\n",
      "Total score (averaged over agents) this episode: 11.110499751660972\n",
      "Total score (averaged over agents) this episode: 10.748999759741128\n",
      "Total score (averaged over agents) this episode: 9.844999779947102\n",
      "Total score (averaged over agents) this episode: 10.889999756589532\n",
      "Total score (averaged over agents) this episode: 11.389499745424837\n",
      "Total score (averaged over agents) this episode: 11.244999748654664\n",
      "Total score (averaged over agents) this episode: 10.436999766714871\n",
      "Total score (averaged over agents) this episode: 11.787999736517667\n",
      "Total score (averaged over agents) this episode: 11.570499741379171\n",
      "Total score (averaged over agents) this episode: 10.413999767228962\n",
      "Total score (averaged over agents) this episode: 10.621999762579799\n",
      "Total score (averaged over agents) this episode: 11.133499751146882\n",
      "Total score (averaged over agents) this episode: 11.702999738417565\n",
      "Total score (averaged over agents) this episode: 12.22299972679466\n",
      "Total score (averaged over agents) this episode: 11.383499745558947\n",
      "Total score (averaged over agents) this episode: 11.982999732159078\n",
      "Total score (averaged over agents) this episode: 11.42749974457547\n",
      "Total score (averaged over agents) this episode: 12.053999730572105\n",
      "Total score (averaged over agents) this episode: 11.379499745648355\n",
      "Total score (averaged over agents) this episode: 11.257499748375267\n",
      "Total score (averaged over agents) this episode: 11.662999739311635\n",
      "Total score (averaged over agents) this episode: 12.005499731656164\n",
      "Total score (averaged over agents) this episode: 11.685499738808721\n",
      "Total score (averaged over agents) this episode: 11.704999738372862\n",
      "Total score (averaged over agents) this episode: 10.786499758902938\n",
      "Total score (averaged over agents) this episode: 11.621999740228057\n",
      "Total score (averaged over agents) this episode: 12.419499722402543\n",
      "Total score (averaged over agents) this episode: 11.906499733868987\n",
      "Total score (averaged over agents) this episode: 12.944999710656703\n",
      "Total score (averaged over agents) this episode: 12.406499722693116\n",
      "Total score (averaged over agents) this episode: 12.019999731332064\n",
      "Total score (averaged over agents) this episode: 11.913499733712523\n",
      "Total score (averaged over agents) this episode: 12.666999716870487\n",
      "Total score (averaged over agents) this episode: 12.741999715194106\n",
      "Total score (averaged over agents) this episode: 13.244499703962356\n",
      "Total score (averaged over agents) this episode: 12.642499717418104\n",
      "Total score (averaged over agents) this episode: 13.512499697972089\n",
      "Total score (averaged over agents) this episode: 12.143999728560448\n",
      "Total score (averaged over agents) this episode: 12.784499714244157\n",
      "Total score (averaged over agents) this episode: 13.97999968752265\n",
      "Total score (averaged over agents) this episode: 12.471499721240253\n",
      "Total score (averaged over agents) this episode: 12.05699973050505\n",
      "Total score (averaged over agents) this episode: 12.877999712154269\n",
      "Total score (averaged over agents) this episode: 13.802999691478908\n",
      "Total score (averaged over agents) this episode: 13.044499708432705\n"
     ]
    },
    {
     "name": "stdout",
     "output_type": "stream",
     "text": [
      "Total score (averaged over agents) this episode: 14.276999680884183\n",
      "Total score (averaged over agents) this episode: 14.351999679207802\n",
      "Total score (averaged over agents) this episode: 14.115999684482812\n",
      "Total score (averaged over agents) this episode: 12.605499718245119\n",
      "Total score (averaged over agents) this episode: 13.571499696653337\n",
      "Total score (averaged over agents) this episode: 14.028999686427415\n",
      "Total score (averaged over agents) this episode: 14.796499669272453\n",
      "Total score (averaged over agents) this episode: 13.685499694105237\n",
      "Total score (averaged over agents) this episode: 13.12149970671162\n",
      "Total score (averaged over agents) this episode: 13.559999696910381\n",
      "Total score (averaged over agents) this episode: 13.11799970678985\n",
      "Total score (averaged over agents) this episode: 13.712999693490564\n",
      "Total score (averaged over agents) this episode: 14.04649968603626\n",
      "Total score (averaged over agents) this episode: 14.02849968643859\n",
      "Total score (averaged over agents) this episode: 14.802499669138342\n",
      "Total score (averaged over agents) this episode: 14.653499672468751\n",
      "Total score (averaged over agents) this episode: 13.03899970855564\n",
      "Total score (averaged over agents) this episode: 13.015499709080904\n",
      "Total score (averaged over agents) this episode: 13.936999688483775\n",
      "Total score (averaged over agents) this episode: 13.809999691322446\n",
      "Total score (averaged over agents) this episode: 13.939499688427896\n",
      "Total score (averaged over agents) this episode: 13.92549968874082\n",
      "Total score (averaged over agents) this episode: 14.041499686148018\n",
      "Total score (averaged over agents) this episode: 14.85899966787547\n",
      "Total score (averaged over agents) this episode: 14.488999676145614\n",
      "Total score (averaged over agents) this episode: 14.408999677933753\n",
      "Total score (averaged over agents) this episode: 14.742499670479447\n",
      "Total score (averaged over agents) this episode: 14.102999684773385\n",
      "Total score (averaged over agents) this episode: 14.256999681331218\n",
      "Total score (averaged over agents) this episode: 14.204499682504684\n",
      "Total score (averaged over agents) this episode: 14.602999673597514\n",
      "Total score (averaged over agents) this episode: 14.669499672111124\n",
      "Total score (averaged over agents) this episode: 14.57349967425689\n",
      "Total score (averaged over agents) this episode: 15.76249964768067\n",
      "Total score (averaged over agents) this episode: 14.886499667260797\n",
      "Total score (averaged over agents) this episode: 16.06749964086339\n",
      "Total score (averaged over agents) this episode: 15.47799965403974\n",
      "Total score (averaged over agents) this episode: 15.762999647669494\n",
      "Total score (averaged over agents) this episode: 15.258499658945947\n",
      "Total score (averaged over agents) this episode: 15.50449965344742\n",
      "Total score (averaged over agents) this episode: 14.959999665617943\n",
      "Total score (averaged over agents) this episode: 15.528999652899802\n",
      "Total score (averaged over agents) this episode: 16.35099963452667\n",
      "Total score (averaged over agents) this episode: 15.777499647345394\n",
      "Total score (averaged over agents) this episode: 16.098499640170484\n",
      "Total score (averaged over agents) this episode: 15.851499645691366\n",
      "Total score (averaged over agents) this episode: 15.979499642830342\n",
      "Total score (averaged over agents) this episode: 15.802999646775424\n",
      "Total score (averaged over agents) this episode: 16.12949963947758\n",
      "Total score (averaged over agents) this episode: 15.710999648831784\n",
      "Total score (averaged over agents) this episode: 16.37149963406846\n",
      "Total score (averaged over agents) this episode: 16.314999635331333\n",
      "Total score (averaged over agents) this episode: 16.266999636404215\n",
      "Total score (averaged over agents) this episode: 16.044999641366303\n",
      "Total score (averaged over agents) this episode: 17.188499615807086\n",
      "Total score (averaged over agents) this episode: 16.616499628592283\n",
      "Total score (averaged over agents) this episode: 16.69849962675944\n",
      "Total score (averaged over agents) this episode: 16.453499632235616\n",
      "Total score (averaged over agents) this episode: 16.29999963566661\n",
      "Total score (averaged over agents) this episode: 17.05599961876869\n",
      "Total score (averaged over agents) this episode: 15.727499648462981\n",
      "Total score (averaged over agents) this episode: 16.36899963412434\n",
      "Total score (averaged over agents) this episode: 15.441999654844404\n",
      "Total score (averaged over agents) this episode: 16.474999631755054\n",
      "Total score (averaged over agents) this episode: 16.540499630291016\n",
      "Total score (averaged over agents) this episode: 18.084499595779924\n",
      "Total score (averaged over agents) this episode: 16.916999621875583\n",
      "Total score (averaged over agents) this episode: 15.936499643791468\n",
      "Total score (averaged over agents) this episode: 17.50749960867688\n",
      "Total score (averaged over agents) this episode: 16.399999633431435\n",
      "Total score (averaged over agents) this episode: 16.59449962908402\n",
      "Total score (averaged over agents) this episode: 17.643499605637043\n",
      "Total score (averaged over agents) this episode: 16.329999634996057\n",
      "Total score (averaged over agents) this episode: 16.737499625887722\n",
      "Total score (averaged over agents) this episode: 15.748499647993594\n",
      "Total score (averaged over agents) this episode: 17.01299961972982\n",
      "Total score (averaged over agents) this episode: 17.759999603033066\n",
      "Total score (averaged over agents) this episode: 17.07499961834401\n",
      "Total score (averaged over agents) this episode: 17.775499602686615\n",
      "Total score (averaged over agents) this episode: 16.82049962403253\n",
      "Total score (averaged over agents) this episode: 17.006999619863926\n",
      "Total score (averaged over agents) this episode: 17.673999604955316\n",
      "Total score (averaged over agents) this episode: 16.803499624412506\n",
      "Total score (averaged over agents) this episode: 17.586999606899916\n",
      "Total score (averaged over agents) this episode: 17.127999617159368\n",
      "Total score (averaged over agents) this episode: 16.722999626211823\n",
      "Total score (averaged over agents) this episode: 17.600999606586992\n",
      "Total score (averaged over agents) this episode: 17.948999598808587\n",
      "Total score (averaged over agents) this episode: 17.625499606039376\n",
      "Total score (averaged over agents) this episode: 17.388999611325563\n",
      "Total score (averaged over agents) this episode: 17.32699961271137\n",
      "Total score (averaged over agents) this episode: 17.41199961081147\n",
      "Total score (averaged over agents) this episode: 17.342999612353744\n",
      "Total score (averaged over agents) this episode: 17.301999613270162\n",
      "Total score (averaged over agents) this episode: 16.992499620188028\n",
      "Total score (averaged over agents) this episode: 16.107999639958145\n",
      "Total score (averaged over agents) this episode: 17.603499606531113\n",
      "Total score (averaged over agents) this episode: 17.348499612230807\n",
      "Total score (averaged over agents) this episode: 16.335999634861945\n",
      "Total score (averaged over agents) this episode: 17.738999603502453\n",
      "Total score (averaged over agents) this episode: 17.399999611079693\n",
      "Total score (averaged over agents) this episode: 17.15249961661175\n",
      "Total score (averaged over agents) this episode: 16.62849962832406\n",
      "Total score (averaged over agents) this episode: 17.626999606005846\n",
      "Total score (averaged over agents) this episode: 17.30749961314723\n",
      "Total score (averaged over agents) this episode: 16.752499625552446\n",
      "Total score (averaged over agents) this episode: 18.10099959541112\n",
      "Total score (averaged over agents) this episode: 18.241499592270703\n",
      "Total score (averaged over agents) this episode: 16.7929996246472\n",
      "Total score (averaged over agents) this episode: 17.82949960147962\n",
      "Total score (averaged over agents) this episode: 18.65899958293885\n",
      "Total score (averaged over agents) this episode: 18.68949958225712\n",
      "Total score (averaged over agents) this episode: 17.321499612834305\n",
      "Total score (averaged over agents) this episode: 18.30299959089607\n",
      "Total score (averaged over agents) this episode: 18.059999596327543\n",
      "Total score (averaged over agents) this episode: 18.2849995912984\n",
      "Total score (averaged over agents) this episode: 18.233499592449515\n",
      "Total score (averaged over agents) this episode: 18.127999594807626\n",
      "Total score (averaged over agents) this episode: 19.210499570611866\n",
      "Total score (averaged over agents) this episode: 18.813499579485505\n",
      "Total score (averaged over agents) this episode: 18.783499580156057\n",
      "Total score (averaged over agents) this episode: 19.090499573294075\n"
     ]
    },
    {
     "name": "stdout",
     "output_type": "stream",
     "text": [
      "Total score (averaged over agents) this episode: 17.63799960575998\n",
      "Total score (averaged over agents) this episode: 20.027999552339317\n",
      "Total score (averaged over agents) this episode: 18.645999583229422\n",
      "Total score (averaged over agents) this episode: 18.61049958402291\n",
      "Total score (averaged over agents) this episode: 17.821499601658434\n",
      "Total score (averaged over agents) this episode: 18.652499583084136\n",
      "Total score (averaged over agents) this episode: 19.204499570745973\n",
      "Total score (averaged over agents) this episode: 19.328999567963184\n",
      "Total score (averaged over agents) this episode: 18.79799957983196\n",
      "Total score (averaged over agents) this episode: 18.967999576032163\n",
      "Total score (averaged over agents) this episode: 20.01649955259636\n",
      "Total score (averaged over agents) this episode: 19.254999569617212\n",
      "Total score (averaged over agents) this episode: 18.943999576568604\n",
      "Total score (averaged over agents) this episode: 19.711499559413642\n",
      "Total score (averaged over agents) this episode: 19.016999574936925\n",
      "Total score (averaged over agents) this episode: 18.428499588090926\n",
      "Total score (averaged over agents) this episode: 19.881499555613846\n",
      "Total score (averaged over agents) this episode: 20.158499549422412\n",
      "Total score (averaged over agents) this episode: 19.606499561760575\n",
      "Total score (averaged over agents) this episode: 19.41699956599623\n",
      "Total score (averaged over agents) this episode: 19.26349956942722\n",
      "Total score (averaged over agents) this episode: 19.350499567482622\n",
      "Total score (averaged over agents) this episode: 19.79599955752492\n",
      "Total score (averaged over agents) this episode: 19.363999567180873\n",
      "Total score (averaged over agents) this episode: 20.05999955162406\n",
      "Total score (averaged over agents) this episode: 19.210499570611866\n",
      "Total score (averaged over agents) this episode: 19.678999560140074\n",
      "Total score (averaged over agents) this episode: 19.72549955910072\n",
      "Total score (averaged over agents) this episode: 19.41799956597388\n",
      "Total score (averaged over agents) this episode: 19.574999562464654\n",
      "Total score (averaged over agents) this episode: 19.46299956496805\n",
      "Total score (averaged over agents) this episode: 19.7769995579496\n",
      "Total score (averaged over agents) this episode: 19.546999563090502\n",
      "Total score (averaged over agents) this episode: 19.972999553568663\n",
      "Total score (averaged over agents) this episode: 20.090999550931155\n",
      "Total score (averaged over agents) this episode: 20.089999550953507\n",
      "Total score (averaged over agents) this episode: 19.836999556608497\n",
      "Total score (averaged over agents) this episode: 19.76949955811724\n",
      "Total score (averaged over agents) this episode: 19.660499560553582\n",
      "Total score (averaged over agents) this episode: 19.955499553959818\n",
      "Total score (averaged over agents) this episode: 19.646999560855328\n",
      "Total score (averaged over agents) this episode: 19.134499572310595\n",
      "Total score (averaged over agents) this episode: 19.7769995579496\n",
      "Total score (averaged over agents) this episode: 20.494999541901052\n",
      "Total score (averaged over agents) this episode: 19.42649956578389\n",
      "Total score (averaged over agents) this episode: 19.653499560710042\n",
      "Total score (averaged over agents) this episode: 20.372999544627966\n",
      "Total score (averaged over agents) this episode: 19.55749956285581\n",
      "Total score (averaged over agents) this episode: 20.595999539643525\n",
      "Total score (averaged over agents) this episode: 19.49699956420809\n",
      "Total score (averaged over agents) this episode: 19.60099956188351\n",
      "Total score (averaged over agents) this episode: 19.21349957054481\n",
      "Total score (averaged over agents) this episode: 19.401999566331504\n",
      "Total score (averaged over agents) this episode: 19.861999556049703\n",
      "Total score (averaged over agents) this episode: 19.53349956339225\n",
      "Total score (averaged over agents) this episode: 20.069499551411717\n",
      "Total score (averaged over agents) this episode: 19.552999562956394\n",
      "Total score (averaged over agents) this episode: 20.27899954672903\n",
      "Total score (averaged over agents) this episode: 20.41249954374507\n",
      "Total score (averaged over agents) this episode: 20.228999547846616\n",
      "Total score (averaged over agents) this episode: 20.12149955024943\n",
      "Total score (averaged over agents) this episode: 19.653999560698868\n",
      "Total score (averaged over agents) this episode: 19.770999558083712\n",
      "Total score (averaged over agents) this episode: 20.209499548282473\n",
      "Total score (averaged over agents) this episode: 19.61949956147\n",
      "Total score (averaged over agents) this episode: 19.84699955638498\n",
      "Total score (averaged over agents) this episode: 19.82399955689907\n",
      "Total score (averaged over agents) this episode: 19.435499565582724\n",
      "Total score (averaged over agents) this episode: 20.4814995422028\n",
      "Total score (averaged over agents) this episode: 19.954499553982167\n",
      "Total score (averaged over agents) this episode: 20.49099954199046\n",
      "Total score (averaged over agents) this episode: 19.523999563604594\n",
      "Total score (averaged over agents) this episode: 20.197499548550695\n",
      "Total score (averaged over agents) this episode: 20.73599953651428\n",
      "Total score (averaged over agents) this episode: 20.50949954157695\n",
      "Total score (averaged over agents) this episode: 20.103499550651758\n",
      "Total score (averaged over agents) this episode: 19.22049957038835\n",
      "Total score (averaged over agents) this episode: 20.08549955105409\n",
      "Total score (averaged over agents) this episode: 19.457499565090984\n",
      "Total score (averaged over agents) this episode: 20.19449954861775\n",
      "Total score (averaged over agents) this episode: 21.127499527763575\n",
      "Total score (averaged over agents) this episode: 19.919999554753304\n",
      "Total score (averaged over agents) this episode: 20.973499531205743\n",
      "Total score (averaged over agents) this episode: 20.715499536972494\n",
      "Total score (averaged over agents) this episode: 20.38299954440445\n",
      "Total score (averaged over agents) this episode: 20.255999547243118\n",
      "Total score (averaged over agents) this episode: 19.8494995563291\n",
      "Total score (averaged over agents) this episode: 20.442999543063344\n",
      "Total score (averaged over agents) this episode: 19.900999555177986\n",
      "Total score (averaged over agents) this episode: 19.790499557647856\n",
      "Total score (averaged over agents) this episode: 20.639499538671224\n",
      "Total score (averaged over agents) this episode: 20.528999541141093\n",
      "Total score (averaged over agents) this episode: 20.528499541152268\n",
      "Total score (averaged over agents) this episode: 19.95599955394864\n",
      "Total score (averaged over agents) this episode: 21.094999528490007\n",
      "Total score (averaged over agents) this episode: 20.031999552249907\n",
      "Total score (averaged over agents) this episode: 20.344499545264988\n",
      "Total score (averaged over agents) this episode: 20.03849955210462\n",
      "Total score (averaged over agents) this episode: 19.948499554116278\n",
      "Total score (averaged over agents) this episode: 19.796999557502566\n",
      "Total score (averaged over agents) this episode: 20.93299953211099\n",
      "Total score (averaged over agents) this episode: 20.59749953961\n",
      "Total score (averaged over agents) this episode: 20.964499531406908\n",
      "Total score (averaged over agents) this episode: 19.79249955760315\n",
      "Total score (averaged over agents) this episode: 20.33599954545498\n",
      "Total score (averaged over agents) this episode: 20.716999536938964\n",
      "Total score (averaged over agents) this episode: 20.79499953519553\n",
      "Total score (averaged over agents) this episode: 21.40999952144921\n",
      "Total score (averaged over agents) this episode: 20.565999540314078\n",
      "Total score (averaged over agents) this episode: 20.630499538872392\n",
      "Total score (averaged over agents) this episode: 20.73549953652546\n",
      "Total score (averaged over agents) this episode: 20.63999953866005\n",
      "Total score (averaged over agents) this episode: 20.342499545309693\n",
      "Total score (averaged over agents) this episode: 20.196499548573048\n",
      "Total score (averaged over agents) this episode: 20.89099953304976\n",
      "Total score (averaged over agents) this episode: 20.1374995498918\n",
      "Total score (averaged over agents) this episode: 20.947999531775714\n",
      "Total score (averaged over agents) this episode: 20.252999547310175\n",
      "Total score (averaged over agents) this episode: 20.66649953806773\n",
      "Total score (averaged over agents) this episode: 19.839999556541443\n",
      "Total score (averaged over agents) this episode: 21.03849952975288\n",
      "Total score (averaged over agents) this episode: 20.440999543108045\n"
     ]
    },
    {
     "name": "stdout",
     "output_type": "stream",
     "text": [
      "Total score (averaged over agents) this episode: 20.55899954047054\n",
      "Total score (averaged over agents) this episode: 20.21249954821542\n",
      "Total score (averaged over agents) this episode: 21.039999529719353\n",
      "Total score (averaged over agents) this episode: 20.564499540347605\n",
      "Total score (averaged over agents) this episode: 20.525999541208147\n",
      "Total score (averaged over agents) this episode: 21.030499529931696\n",
      "Total score (averaged over agents) this episode: 20.504999541677535\n",
      "Total score (averaged over agents) this episode: 20.131999550014733\n",
      "Total score (averaged over agents) this episode: 20.36499954480678\n",
      "Total score (averaged over agents) this episode: 20.715999536961316\n",
      "Total score (averaged over agents) this episode: 19.532499563414603\n",
      "Total score (averaged over agents) this episode: 20.616999539174138\n",
      "Total score (averaged over agents) this episode: 20.513499541487544\n",
      "Total score (averaged over agents) this episode: 20.357999544963242\n",
      "Total score (averaged over agents) this episode: 20.04649955192581\n",
      "Total score (averaged over agents) this episode: 20.699999537318945\n",
      "Total score (averaged over agents) this episode: 20.600999539531767\n",
      "Total score (averaged over agents) this episode: 20.52149954130873\n",
      "Total score (averaged over agents) this episode: 20.721999536827205\n",
      "Total score (averaged over agents) this episode: 21.038999529741705\n",
      "Total score (averaged over agents) this episode: 20.89299953300506\n",
      "Total score (averaged over agents) this episode: 20.320499545801432\n",
      "Total score (averaged over agents) this episode: 21.01049953037873\n",
      "Total score (averaged over agents) this episode: 20.89449953297153\n",
      "Total score (averaged over agents) this episode: 20.951499531697483\n",
      "Total score (averaged over agents) this episode: 21.08049952881411\n",
      "Total score (averaged over agents) this episode: 21.230499525461347\n",
      "Total score (averaged over agents) this episode: 21.409499521460383\n",
      "Total score (averaged over agents) this episode: 21.24699952509254\n",
      "Total score (averaged over agents) this episode: 21.23599952533841\n",
      "Total score (averaged over agents) this episode: 21.15799952708185\n",
      "Total score (averaged over agents) this episode: 21.011499530356378\n",
      "Total score (averaged over agents) this episode: 21.715999514609575\n",
      "Total score (averaged over agents) this episode: 20.991999530792235\n",
      "Total score (averaged over agents) this episode: 21.106499528232963\n",
      "Total score (averaged over agents) this episode: 21.318999523483217\n",
      "Total score (averaged over agents) this episode: 21.140999527461826\n",
      "Total score (averaged over agents) this episode: 20.867499533575028\n",
      "Total score (averaged over agents) this episode: 20.93899953197688\n",
      "Total score (averaged over agents) this episode: 21.403499521594494\n",
      "Total score (averaged over agents) this episode: 20.301499546226115\n",
      "Total score (averaged over agents) this episode: 20.92549953227863\n",
      "Total score (averaged over agents) this episode: 20.56749954028055\n",
      "Total score (averaged over agents) this episode: 21.138499527517705\n",
      "Total score (averaged over agents) this episode: 20.286999546550213\n",
      "Total score (averaged over agents) this episode: 20.517999541386963\n",
      "Total score (averaged over agents) this episode: 20.92949953218922\n",
      "Total score (averaged over agents) this episode: 19.673499560263007\n",
      "Total score (averaged over agents) this episode: 21.008999530412257\n",
      "Total score (averaged over agents) this episode: 20.90399953275919\n",
      "Total score (averaged over agents) this episode: 21.463999520242215\n",
      "Total score (averaged over agents) this episode: 20.66299953814596\n",
      "Total score (averaged over agents) this episode: 20.94399953186512\n",
      "Total score (averaged over agents) this episode: 20.95749953156337\n",
      "Total score (averaged over agents) this episode: 21.27849952438846\n",
      "Total score (averaged over agents) this episode: 21.559999518096447\n",
      "Total score (averaged over agents) this episode: 20.871999533474444\n",
      "Total score (averaged over agents) this episode: 20.63649953873828\n",
      "Total score (averaged over agents) this episode: 21.613999516889454\n",
      "Total score (averaged over agents) this episode: 21.17399952672422\n",
      "Total score (averaged over agents) this episode: 21.23549952534959\n",
      "Total score (averaged over agents) this episode: 21.30599952377379\n",
      "Total score (averaged over agents) this episode: 21.472499520052224\n",
      "Total score (averaged over agents) this episode: 21.281499524321408\n",
      "Total score (averaged over agents) this episode: 20.8399995341897\n",
      "Total score (averaged over agents) this episode: 20.849999533966184\n",
      "Total score (averaged over agents) this episode: 21.296999523974954\n",
      "Total score (averaged over agents) this episode: 21.28699952419847\n",
      "Total score (averaged over agents) this episode: 21.469499520119278\n",
      "Total score (averaged over agents) this episode: 20.549999540671706\n",
      "Total score (averaged over agents) this episode: 21.157499527093023\n",
      "Total score (averaged over agents) this episode: 21.290499524120243\n",
      "Total score (averaged over agents) this episode: 21.076499528903515\n",
      "Total score (averaged over agents) this episode: 21.186999526433645\n",
      "Total score (averaged over agents) this episode: 21.44999952055514\n",
      "Total score (averaged over agents) this episode: 21.491999519616364\n",
      "Total score (averaged over agents) this episode: 21.291999524086712\n",
      "Total score (averaged over agents) this episode: 21.037499529775232\n",
      "Total score (averaged over agents) this episode: 20.828499534446745\n",
      "Total score (averaged over agents) this episode: 22.046499507222325\n",
      "Total score (averaged over agents) this episode: 21.58099951762706\n",
      "Total score (averaged over agents) this episode: 21.11099952813238\n",
      "Total score (averaged over agents) this episode: 21.24299952518195\n",
      "Total score (averaged over agents) this episode: 21.458999520353974\n",
      "Total score (averaged over agents) this episode: 21.140499527473004\n",
      "Total score (averaged over agents) this episode: 21.606999517045914\n",
      "Total score (averaged over agents) this episode: 21.229999525472522\n",
      "Total score (averaged over agents) this episode: 21.278999524377287\n",
      "Total score (averaged over agents) this episode: 21.10249952832237\n",
      "Total score (averaged over agents) this episode: 20.66949953800067\n",
      "Total score (averaged over agents) this episode: 21.433999520912767\n",
      "Total score (averaged over agents) this episode: 21.031999529898165\n",
      "Total score (averaged over agents) this episode: 21.578999517671765\n",
      "Total score (averaged over agents) this episode: 21.58849951745942\n",
      "Total score (averaged over agents) this episode: 21.08099952880293\n",
      "Total score (averaged over agents) this episode: 22.277499502059072\n",
      "Total score (averaged over agents) this episode: 21.314499523583798\n",
      "Total score (averaged over agents) this episode: 21.697999515011908\n",
      "Total score (averaged over agents) this episode: 20.870499533507974\n",
      "Total score (averaged over agents) this episode: 21.456499520409853\n",
      "Total score (averaged over agents) this episode: 21.10999952815473\n",
      "Total score (averaged over agents) this episode: 21.001499530579895\n",
      "Total score (averaged over agents) this episode: 21.133499527629464\n",
      "Total score (averaged over agents) this episode: 21.705999514833092\n",
      "Total score (averaged over agents) this episode: 20.96699953135103\n",
      "Total score (averaged over agents) this episode: 21.38599952198565\n",
      "Total score (averaged over agents) this episode: 21.438499520812183\n",
      "Total score (averaged over agents) this episode: 21.618999516777695\n",
      "Total score (averaged over agents) this episode: 21.529999518767\n",
      "Total score (averaged over agents) this episode: 21.068999529071153\n",
      "Total score (averaged over agents) this episode: 21.116499528009445\n",
      "Total score (averaged over agents) this episode: 21.227999525517227\n",
      "Total score (averaged over agents) this episode: 21.298999523930252\n",
      "Total score (averaged over agents) this episode: 21.150499527249487\n",
      "Total score (averaged over agents) this episode: 21.185499526467176\n",
      "Total score (averaged over agents) this episode: 21.440999520756304\n",
      "Total score (averaged over agents) this episode: 21.384999522008002\n",
      "Total score (averaged over agents) this episode: 21.044999529607594\n",
      "Total score (averaged over agents) this episode: 21.416499521303923\n",
      "Total score (averaged over agents) this episode: 20.841999534144996\n",
      "Total score (averaged over agents) this episode: 21.342999522946776\n",
      "Total score (averaged over agents) this episode: 21.47949951989576\n"
     ]
    },
    {
     "name": "stdout",
     "output_type": "stream",
     "text": [
      "Total score (averaged over agents) this episode: 21.100499528367074\n",
      "Total score (averaged over agents) this episode: 21.44049952076748\n",
      "Total score (averaged over agents) this episode: 20.341999545320867\n",
      "Total score (averaged over agents) this episode: 20.838499534223228\n",
      "Total score (averaged over agents) this episode: 20.661499538179488\n",
      "Total score (averaged over agents) this episode: 20.93049953216687\n",
      "Total score (averaged over agents) this episode: 21.41249952139333\n",
      "Total score (averaged over agents) this episode: 20.687999537587167\n",
      "Total score (averaged over agents) this episode: 21.047499529551715\n",
      "Total score (averaged over agents) this episode: 20.84249953413382\n",
      "Total score (averaged over agents) this episode: 21.260999524779617\n",
      "Total score (averaged over agents) this episode: 21.447999520599843\n",
      "Total score (averaged over agents) this episode: 21.546999518387018\n",
      "Total score (averaged over agents) this episode: 21.605499517079444\n",
      "Total score (averaged over agents) this episode: 21.10999952815473\n",
      "Total score (averaged over agents) this episode: 20.911999532580374\n",
      "Total score (averaged over agents) this episode: 21.931499509792776\n",
      "Total score (averaged over agents) this episode: 21.44149952074513\n",
      "Total score (averaged over agents) this episode: 21.084999528713524\n",
      "Total score (averaged over agents) this episode: 21.800999512709677\n",
      "Total score (averaged over agents) this episode: 21.04699952956289\n",
      "Total score (averaged over agents) this episode: 21.04449952961877\n",
      "Total score (averaged over agents) this episode: 21.25999952480197\n",
      "Total score (averaged over agents) this episode: 21.20549952602014\n",
      "Total score (averaged over agents) this episode: 21.566999517939983\n",
      "Total score (averaged over agents) this episode: 21.367499522399157\n",
      "Total score (averaged over agents) this episode: 21.145499527361245\n",
      "Total score (averaged over agents) this episode: 21.492999519594015\n",
      "Total score (averaged over agents) this episode: 21.85349951153621\n",
      "Total score (averaged over agents) this episode: 20.924499532300977\n",
      "Total score (averaged over agents) this episode: 21.54349951846525\n",
      "Total score (averaged over agents) this episode: 21.44049952076748\n",
      "Total score (averaged over agents) this episode: 21.597999517247082\n",
      "Total score (averaged over agents) this episode: 22.05549950702116\n",
      "Total score (averaged over agents) this episode: 21.002499530557543\n",
      "Total score (averaged over agents) this episode: 22.156999504752456\n",
      "Total score (averaged over agents) this episode: 21.8594995114021\n",
      "Total score (averaged over agents) this episode: 21.727999514341356\n",
      "Total score (averaged over agents) this episode: 21.455999520421027\n",
      "Total score (averaged over agents) this episode: 21.680499515403064\n",
      "Total score (averaged over agents) this episode: 21.6584995158948\n",
      "Total score (averaged over agents) this episode: 21.526999518834053\n",
      "Total score (averaged over agents) this episode: 21.462499520275742\n",
      "Total score (averaged over agents) this episode: 21.407499521505088\n",
      "Total score (averaged over agents) this episode: 21.281499524321408\n",
      "Total score (averaged over agents) this episode: 21.356499522645027\n",
      "Total score (averaged over agents) this episode: 21.217999525740744\n",
      "Total score (averaged over agents) this episode: 21.551499518286438\n",
      "Total score (averaged over agents) this episode: 21.56149951806292\n",
      "Total score (averaged over agents) this episode: 21.986999508552252\n",
      "Total score (averaged over agents) this episode: 21.02749952999875\n",
      "Total score (averaged over agents) this episode: 21.650999516062438\n",
      "Total score (averaged over agents) this episode: 21.248499525059014\n",
      "Total score (averaged over agents) this episode: 20.94749953178689\n",
      "Total score (averaged over agents) this episode: 21.485499519761653\n",
      "Total score (averaged over agents) this episode: 21.250499525014312\n",
      "Total score (averaged over agents) this episode: 21.067999529093505\n",
      "Total score (averaged over agents) this episode: 21.680999515391886\n",
      "Total score (averaged over agents) this episode: 21.413999521359802\n",
      "Total score (averaged over agents) this episode: 21.94699950944632\n",
      "Total score (averaged over agents) this episode: 21.968999508954585\n",
      "Total score (averaged over agents) this episode: 21.94299950953573\n",
      "Total score (averaged over agents) this episode: 22.19499950390309\n",
      "Total score (averaged over agents) this episode: 21.495499519538136\n",
      "Total score (averaged over agents) this episode: 21.236999525316058\n",
      "Total score (averaged over agents) this episode: 21.614499516878276\n",
      "Total score (averaged over agents) this episode: 21.955499509256335\n",
      "Total score (averaged over agents) this episode: 22.14399950504303\n",
      "Total score (averaged over agents) this episode: 21.36149952253327\n",
      "Total score (averaged over agents) this episode: 21.728499514330178\n",
      "Total score (averaged over agents) this episode: 21.772499513346702\n",
      "Total score (averaged over agents) this episode: 21.048999529518188\n",
      "Total score (averaged over agents) this episode: 21.728499514330178\n",
      "Total score (averaged over agents) this episode: 21.595999517291784\n",
      "Total score (averaged over agents) this episode: 21.525499518867584\n",
      "Total score (averaged over agents) this episode: 21.57249951781705\n",
      "Total score (averaged over agents) this episode: 21.776499513257296\n",
      "Total score (averaged over agents) this episode: 21.57249951781705\n",
      "Total score (averaged over agents) this episode: 21.5859995175153\n",
      "Total score (averaged over agents) this episode: 21.690499515179546\n",
      "Total score (averaged over agents) this episode: 20.870999533496796\n",
      "Total score (averaged over agents) this episode: 21.573999517783523\n",
      "Total score (averaged over agents) this episode: 21.610999516956507\n",
      "Total score (averaged over agents) this episode: 22.09799950607121\n",
      "Total score (averaged over agents) this episode: 22.426499498728663\n",
      "Total score (averaged over agents) this episode: 21.38849952192977\n",
      "Total score (averaged over agents) this episode: 22.01349950795993\n",
      "Total score (averaged over agents) this episode: 21.938499509636312\n",
      "Total score (averaged over agents) this episode: 21.44999952055514\n",
      "Total score (averaged over agents) this episode: 21.352499522734433\n",
      "Total score (averaged over agents) this episode: 21.24949952503666\n",
      "Total score (averaged over agents) this episode: 21.79749951278791\n",
      "Total score (averaged over agents) this episode: 21.739499514084308\n",
      "Total score (averaged over agents) this episode: 21.710999514721333\n",
      "Total score (averaged over agents) this episode: 20.928999532200397\n",
      "Total score (averaged over agents) this episode: 20.946999531798063\n",
      "Total score (averaged over agents) this episode: 21.028999529965223\n",
      "Total score (averaged over agents) this episode: 21.46799952015281\n",
      "Total score (averaged over agents) this episode: 21.96249950909987\n",
      "Total score (averaged over agents) this episode: 21.076499528903515\n",
      "Total score (averaged over agents) this episode: 21.846499511692674\n",
      "Total score (averaged over agents) this episode: 21.502999519370498\n",
      "Total score (averaged over agents) this episode: 22.227999503165485\n",
      "Total score (averaged over agents) this episode: 21.25999952480197\n",
      "Total score (averaged over agents) this episode: 21.938499509636312\n",
      "Total score (averaged over agents) this episode: 21.8179995123297\n",
      "Total score (averaged over agents) this episode: 21.399999521672726\n",
      "Total score (averaged over agents) this episode: 21.986999508552252\n",
      "Total score (averaged over agents) this episode: 21.920999510027467\n",
      "Total score (averaged over agents) this episode: 21.984999508596957\n",
      "Total score (averaged over agents) this episode: 22.185999504104256\n",
      "Total score (averaged over agents) this episode: 21.918499510083347\n",
      "Total score (averaged over agents) this episode: 21.301999523863195\n",
      "Total score (averaged over agents) this episode: 21.252499524969608\n",
      "Total score (averaged over agents) this episode: 21.11799952797592\n",
      "Total score (averaged over agents) this episode: 21.10149952834472\n",
      "Total score (averaged over agents) this episode: 21.888999510742725\n",
      "Total score (averaged over agents) this episode: 21.019499530177562\n",
      "Total score (averaged over agents) this episode: 21.709999514743686\n",
      "Total score (averaged over agents) this episode: 21.956499509233982\n",
      "Total score (averaged over agents) this episode: 21.439999520778656\n",
      "Total score (averaged over agents) this episode: 21.541999518498777\n"
     ]
    },
    {
     "name": "stdout",
     "output_type": "stream",
     "text": [
      "Total score (averaged over agents) this episode: 21.945999509468674\n",
      "Total score (averaged over agents) this episode: 21.701499514933676\n",
      "Total score (averaged over agents) this episode: 21.803499512653797\n",
      "Total score (averaged over agents) this episode: 22.21049950355664\n",
      "Total score (averaged over agents) this episode: 21.56999951787293\n",
      "Total score (averaged over agents) this episode: 21.858999511413277\n",
      "Total score (averaged over agents) this episode: 21.824999512173235\n",
      "Total score (averaged over agents) this episode: 22.366499500069768\n",
      "Total score (averaged over agents) this episode: 21.492999519594015\n",
      "Total score (averaged over agents) this episode: 21.385499521996827\n",
      "Total score (averaged over agents) this episode: 22.182999504171313\n",
      "Total score (averaged over agents) this episode: 21.874499511066823\n",
      "Total score (averaged over agents) this episode: 21.691999515146016\n",
      "Total score (averaged over agents) this episode: 22.02399950772524\n",
      "Total score (averaged over agents) this episode: 21.12899952773005\n",
      "Total score (averaged over agents) this episode: 22.03749950742349\n",
      "Total score (averaged over agents) this episode: 21.971499508898706\n",
      "Total score (averaged over agents) this episode: 21.77799951322377\n",
      "Total score (averaged over agents) this episode: 21.859999511390924\n",
      "Total score (averaged over agents) this episode: 21.380999522097408\n",
      "Total score (averaged over agents) this episode: 21.39299952182919\n",
      "Total score (averaged over agents) this episode: 21.066999529115854\n",
      "Total score (averaged over agents) this episode: 21.658999515883625\n",
      "Total score (averaged over agents) this episode: 20.942999531887473\n",
      "Total score (averaged over agents) this episode: 21.942499509546906\n",
      "Total score (averaged over agents) this episode: 22.32299950104207\n",
      "Total score (averaged over agents) this episode: 21.138499527517705\n",
      "Total score (averaged over agents) this episode: 21.92599950991571\n",
      "Total score (averaged over agents) this episode: 21.80999951250851\n",
      "Total score (averaged over agents) this episode: 21.43099952097982\n",
      "Total score (averaged over agents) this episode: 21.639499516319482\n",
      "Total score (averaged over agents) this episode: 21.816999512352048\n",
      "Total score (averaged over agents) this episode: 21.701499514933676\n",
      "Total score (averaged over agents) this episode: 22.139999505132437\n",
      "Total score (averaged over agents) this episode: 21.950499509368093\n",
      "Total score (averaged over agents) this episode: 21.724499514419584\n",
      "Total score (averaged over agents) this episode: 22.574499495420604\n",
      "Total score (averaged over agents) this episode: 21.731499514263124\n",
      "Total score (averaged over agents) this episode: 22.23599950298667\n",
      "Total score (averaged over agents) this episode: 21.450999520532786\n",
      "Total score (averaged over agents) this episode: 22.10749950585887\n",
      "Total score (averaged over agents) this episode: 21.958999509178103\n",
      "Total score (averaged over agents) this episode: 21.921999510005115\n",
      "Total score (averaged over agents) this episode: 22.131499505322427\n",
      "Total score (averaged over agents) this episode: 21.67049951562658\n",
      "Total score (averaged over agents) this episode: 22.34149950062856\n",
      "Total score (averaged over agents) this episode: 22.425499498751016\n",
      "Total score (averaged over agents) this episode: 21.838499511871486\n",
      "Total score (averaged over agents) this episode: 22.36199950017035\n",
      "Total score (averaged over agents) this episode: 22.423499498795717\n",
      "Total score (averaged over agents) this episode: 22.22749950317666\n",
      "Total score (averaged over agents) this episode: 21.60149951716885\n",
      "Total score (averaged over agents) this episode: 21.765999513491987\n",
      "Total score (averaged over agents) this episode: 22.556499495822937\n",
      "Total score (averaged over agents) this episode: 22.449999498203397\n",
      "Total score (averaged over agents) this episode: 21.87499951105565\n",
      "Total score (averaged over agents) this episode: 22.40799949914217\n",
      "Total score (averaged over agents) this episode: 22.185499504115434\n",
      "Total score (averaged over agents) this episode: 22.094999506138265\n",
      "Total score (averaged over agents) this episode: 22.107999505847694\n",
      "Total score (averaged over agents) this episode: 22.464499497879295\n",
      "Total score (averaged over agents) this episode: 21.93449950972572\n",
      "Total score (averaged over agents) this episode: 22.4769994975999\n",
      "Total score (averaged over agents) this episode: 22.228499503154307\n",
      "Total score (averaged over agents) this episode: 21.93099950980395\n",
      "Total score (averaged over agents) this episode: 22.266499502304942\n",
      "Total score (averaged over agents) this episode: 22.089999506250024\n",
      "Total score (averaged over agents) this episode: 22.023499507736414\n",
      "Total score (averaged over agents) this episode: 21.734499514196067\n",
      "Total score (averaged over agents) this episode: 21.95749950921163\n",
      "Total score (averaged over agents) this episode: 22.4479994982481\n",
      "Total score (averaged over agents) this episode: 22.266999502293764\n",
      "Total score (averaged over agents) this episode: 21.697499515023082\n",
      "Total score (averaged over agents) this episode: 22.19849950382486\n",
      "Total score (averaged over agents) this episode: 22.118499505613\n",
      "Total score (averaged over agents) this episode: 22.491999497264622\n",
      "Total score (averaged over agents) this episode: 22.481499497499318\n",
      "Total score (averaged over agents) this episode: 22.12599950544536\n",
      "Total score (averaged over agents) this episode: 21.90699951034039\n",
      "Total score (averaged over agents) this episode: 21.74099951405078\n",
      "Total score (averaged over agents) this episode: 22.388499499578028\n",
      "Total score (averaged over agents) this episode: 22.035499507468195\n",
      "Total score (averaged over agents) this episode: 22.51599949672818\n",
      "Total score (averaged over agents) this episode: 22.16799950450659\n",
      "Total score (averaged over agents) this episode: 22.520999496616422\n",
      "Total score (averaged over agents) this episode: 22.319999501109123\n",
      "Total score (averaged over agents) this episode: 22.305999501422047\n",
      "Total score (averaged over agents) this episode: 22.323999501019717\n",
      "Total score (averaged over agents) this episode: 22.325999500975012\n",
      "Total score (averaged over agents) this episode: 22.230499503109606\n",
      "Total score (averaged over agents) this episode: 22.230999503098428\n",
      "Total score (averaged over agents) this episode: 22.045499507244678\n",
      "Total score (averaged over agents) this episode: 22.203999503701926\n",
      "Total score (averaged over agents) this episode: 22.498499497119337\n",
      "Total score (averaged over agents) this episode: 22.0604995069094\n",
      "Total score (averaged over agents) this episode: 22.25699950251728\n",
      "Total score (averaged over agents) this episode: 21.974999508820474\n",
      "Total score (averaged over agents) this episode: 22.51799949668348\n",
      "Total score (averaged over agents) this episode: 22.026999507658182\n",
      "Total score (averaged over agents) this episode: 22.16599950455129\n",
      "Total score (averaged over agents) this episode: 22.1019995059818\n",
      "Total score (averaged over agents) this episode: 21.801999512687324\n",
      "Total score (averaged over agents) this episode: 22.282499501947314\n",
      "Total score (averaged over agents) this episode: 22.32799950093031\n",
      "Total score (averaged over agents) this episode: 21.765999513491987\n",
      "Total score (averaged over agents) this episode: 22.12849950538948\n",
      "Total score (averaged over agents) this episode: 22.046499507222325\n",
      "Total score (averaged over agents) this episode: 22.135999505221843\n",
      "Total score (averaged over agents) this episode: 22.08799950629473\n",
      "Total score (averaged over agents) this episode: 22.10649950588122\n",
      "Total score (averaged over agents) this episode: 21.717499514576048\n",
      "Total score (averaged over agents) this episode: 21.957999509200455\n",
      "Total score (averaged over agents) this episode: 22.281499501969666\n",
      "Total score (averaged over agents) this episode: 22.33049950087443\n",
      "Total score (averaged over agents) this episode: 22.26249950239435\n",
      "Total score (averaged over agents) this episode: 22.33149950085208\n",
      "Total score (averaged over agents) this episode: 22.220499503333123\n",
      "Total score (averaged over agents) this episode: 22.813999490067363\n",
      "Total score (averaged over agents) this episode: 22.38249949971214\n",
      "Total score (averaged over agents) this episode: 22.366499500069768\n",
      "Total score (averaged over agents) this episode: 22.213499503489583\n",
      "Total score (averaged over agents) this episode: 21.97449950883165\n"
     ]
    },
    {
     "name": "stdout",
     "output_type": "stream",
     "text": [
      "Total score (averaged over agents) this episode: 22.42999949865043\n",
      "Total score (averaged over agents) this episode: 22.339499500673263\n",
      "Total score (averaged over agents) this episode: 22.602499494794756\n",
      "Total score (averaged over agents) this episode: 22.499499497096984\n",
      "Total score (averaged over agents) this episode: 22.131499505322427\n",
      "Total score (averaged over agents) this episode: 22.28299950193614\n",
      "Total score (averaged over agents) this episode: 22.25149950264022\n",
      "Total score (averaged over agents) this episode: 22.489999497309327\n",
      "Total score (averaged over agents) this episode: 22.20699950363487\n",
      "Total score (averaged over agents) this episode: 22.484999497421086\n",
      "Total score (averaged over agents) this episode: 22.379499499779193\n",
      "Total score (averaged over agents) this episode: 22.376999499835073\n",
      "Total score (averaged over agents) this episode: 22.40299949925393\n",
      "Total score (averaged over agents) this episode: 22.433999498561025\n",
      "Total score (averaged over agents) this episode: 22.59949949486181\n",
      "Total score (averaged over agents) this episode: 22.618499494437128\n",
      "Total score (averaged over agents) this episode: 22.471499497722835\n",
      "Total score (averaged over agents) this episode: 22.13199950531125\n",
      "Total score (averaged over agents) this episode: 22.37049949998036\n",
      "Total score (averaged over agents) this episode: 22.24449950279668\n",
      "Total score (averaged over agents) this episode: 22.319499501120298\n",
      "Total score (averaged over agents) this episode: 22.25699950251728\n",
      "Total score (averaged over agents) this episode: 22.257999502494933\n",
      "Total score (averaged over agents) this episode: 22.695999492704868\n",
      "Total score (averaged over agents) this episode: 21.89949951050803\n",
      "Total score (averaged over agents) this episode: 22.697999492660166\n",
      "Total score (averaged over agents) this episode: 22.354999500326812\n",
      "Total score (averaged over agents) this episode: 22.24099950287491\n",
      "Total score (averaged over agents) this episode: 22.464499497879295\n",
      "Total score (averaged over agents) this episode: 22.412999499030413\n",
      "Total score (averaged over agents) this episode: 21.966499509010465\n",
      "Total score (averaged over agents) this episode: 22.144499505031852\n",
      "Total score (averaged over agents) this episode: 22.088999506272376\n",
      "Total score (averaged over agents) this episode: 22.227999503165485\n",
      "Total score (averaged over agents) this episode: 22.275499502103777\n",
      "Total score (averaged over agents) this episode: 22.093499506171792\n",
      "Total score (averaged over agents) this episode: 22.387999499589206\n",
      "Total score (averaged over agents) this episode: 22.076499506551773\n",
      "Total score (averaged over agents) this episode: 22.0169995078817\n",
      "Total score (averaged over agents) this episode: 22.169999504461884\n",
      "Total score (averaged over agents) this episode: 22.463499497901648\n",
      "Total score (averaged over agents) this episode: 22.05549950702116\n",
      "Total score (averaged over agents) this episode: 21.90899951029569\n",
      "Total score (averaged over agents) this episode: 22.257499502506107\n",
      "Total score (averaged over agents) this episode: 22.402499499265105\n",
      "Total score (averaged over agents) this episode: 22.35249950038269\n",
      "Total score (averaged over agents) this episode: 22.236499502975494\n",
      "Total score (averaged over agents) this episode: 22.30749950138852\n",
      "Total score (averaged over agents) this episode: 22.191999503970145\n",
      "Total score (averaged over agents) this episode: 22.443499498348682\n",
      "Total score (averaged over agents) this episode: 21.828499512095004\n",
      "Total score (averaged over agents) this episode: 22.353999500349165\n",
      "Total score (averaged over agents) this episode: 22.192999503947796\n",
      "Total score (averaged over agents) this episode: 22.390499499533327\n",
      "Total score (averaged over agents) this episode: 21.8594995114021\n",
      "Total score (averaged over agents) this episode: 21.987499508541077\n",
      "Total score (averaged over agents) this episode: 22.474499497655778\n",
      "Total score (averaged over agents) this episode: 22.49749949714169\n",
      "Total score (averaged over agents) this episode: 21.918999510072172\n",
      "Total score (averaged over agents) this episode: 22.144499505031852\n",
      "Total score (averaged over agents) this episode: 22.57399949543178\n",
      "Total score (averaged over agents) this episode: 22.356999500282107\n",
      "Total score (averaged over agents) this episode: 22.705499492492528\n",
      "Total score (averaged over agents) this episode: 22.62249949434772\n",
      "Total score (averaged over agents) this episode: 22.470499497745188\n",
      "Total score (averaged over agents) this episode: 22.567999495565893\n",
      "Total score (averaged over agents) this episode: 22.685999492928385\n",
      "Total score (averaged over agents) this episode: 22.66249949345365\n"
     ]
    }
   ],
   "source": [
    "num_training_steps = 800\n",
    "num_epochs_per_step = 5\n",
    "for i in range(num_training_steps):\n",
    "    step_states,step_actions,step_log_probs,step_rewards,step_advantages,mean_score = generate_trajectories()\n",
    "    for j in range(num_epochs_per_step):\n",
    "        shuffled_indices = np.arange(step_states.size(0))\n",
    "        np.random.shuffle(shuffled_indices)\n",
    "        \n",
    "        minibatch_size = 64\n",
    "        num_minibatches = step_states.size(0) // minibatch_size\n",
    "        for z in range(minibatch_size):\n",
    "            minibatch_indices = shuffled_indices[z*minibatch_size:(z+1)*minibatch_size]\n",
    "            optimize(step_states[minibatch_indices],step_actions[minibatch_indices],step_log_probs[minibatch_indices],step_rewards[minibatch_indices],step_advantages[minibatch_indices])\n",
    "    \n",
    "    print('Total score (averaged over agents) this episode: {}'.format(mean_score))\n",
    "    "
   ]
  },
  {
   "cell_type": "code",
   "execution_count": 122,
   "metadata": {},
   "outputs": [
    {
     "name": "stdout",
     "output_type": "stream",
     "text": [
      "tensor([[1.1928],\n",
      "        [0.7278],\n",
      "        [1.1574],\n",
      "        ...,\n",
      "        [1.0216],\n",
      "        [0.7697],\n",
      "        [1.1263]], device='cuda:0', grad_fn=<ExpBackward>)\n",
      "tensor([[ 0.0432],\n",
      "        [ 0.1180],\n",
      "        [ 0.1171],\n",
      "        ...,\n",
      "        [-0.1346],\n",
      "        [ 0.1364],\n",
      "        [ 0.0123]], device='cuda:0', grad_fn=<ThMulBackward>)\n",
      "tensor([-0.1370], device='cuda:0', grad_fn=<ThSubBackward>)\n",
      "tensor(0.0058, device='cuda:0', grad_fn=<MulBackward>)\n"
     ]
    }
   ],
   "source": [
    "optimize(processed_states,processed_actions,processed_log_probs,processed_returns,processed_adv)"
   ]
  },
  {
   "cell_type": "code",
   "execution_count": null,
   "metadata": {},
   "outputs": [],
   "source": []
  },
  {
   "cell_type": "code",
   "execution_count": 37,
   "metadata": {},
   "outputs": [],
   "source": [
    "import torch\n",
    "import torch.nn as nn\n",
    "import torch.nn.functional as F\n",
    "\n",
    "device = torch.device(\"cuda:0\" if torch.cuda.is_available() else \"cpu\")\n",
    "\n",
    "class Policy(nn.Module):\n",
    "\n",
    "    def __init__(self):\n",
    "        super(Policy, self).__init__()\n",
    "     \n",
    "        self.size = 33\n",
    "        self.fc1 = nn.Linear(self.size, 512)\n",
    "        self.fc2 = nn.Linear(512, 512)\n",
    "        self.fc3 = nn.Linear(512, 4)\n",
    "        \n",
    "        self.critic_fc1 = nn.Linear(self.size,512)\n",
    "        self.critic_fc2 = nn.Linear(512,128)\n",
    "        self.critic_fc3 = nn.Linear(128,1)\n",
    "        self.normalDistParams = torch.ones((1,4),device=device)\n",
    "        self.to(device)\n",
    "        \n",
    "    def forward(self, x,sampled_actions=None):\n",
    "        a  = torch.tensor(x,dtype=torch.float,device=device)\n",
    "        a = F.relu(self.fc1(a))\n",
    "        a = F.relu(self.fc2(a))\n",
    "        a = F.tanh(self.fc3(a))\n",
    "        \n",
    "        v = torch.tensor(x,dtype=torch.float,device=device)\n",
    "        v = F.relu(self.critic_fc1(v))\n",
    "        v = F.relu(self.critic_fc2(v))\n",
    "        v = self.critic_fc3(v)\n",
    "        \n",
    "       \n",
    "        #x is now the mean of a normal distribution from which we\n",
    "        #sample the actual action values\n",
    "        prob_dists = torch.distributions.Normal(a,self.normalDistParams)\n",
    "        if sampled_actions is None:\n",
    "            sampled_actions = prob_dists.sample()\n",
    "        action_probabilities = prob_dists.log_prob(sampled_actions) #Prob of each individual action\n",
    "        summed_action_probabilities = torch.sum(action_probabilities,dim=-1,keepdim=True)\n",
    "        return sampled_actions,summed_action_probabilities,x,v\n",
    "        \n",
    "\n",
    "\n",
    "# run your own policy!\n",
    "policy=Policy().to(device)\n",
    "#policy=pong_utils.Policy().to(device)\n",
    "\n",
    "# we use the adam optimizer with learning rate 2e-4\n",
    "# optim.SGD is also possible\n",
    "import torch.optim as optim\n",
    "optimizer = optim.Adam(policy.parameters(), lr=1e-4)"
   ]
  },
  {
   "cell_type": "code",
   "execution_count": 38,
   "metadata": {},
   "outputs": [],
   "source": [
    "#test_obs = torch.tensor(env_info.vector_observations,dtype=torch.float, device=device)\n",
    "test_actions,test_probs,dist_means,test_val = policy(env_info.vector_observations)"
   ]
  },
  {
   "cell_type": "code",
   "execution_count": 39,
   "metadata": {},
   "outputs": [
    {
     "data": {
      "text/plain": [
       "tensor([[-0.3137],\n",
       "        [-0.3313],\n",
       "        [-0.2845],\n",
       "        [-0.1802],\n",
       "        [-0.2331],\n",
       "        [-0.2591],\n",
       "        [-0.2881],\n",
       "        [-0.1628],\n",
       "        [-0.1802],\n",
       "        [-0.2454],\n",
       "        [-0.2686],\n",
       "        [-0.2311],\n",
       "        [-0.2774],\n",
       "        [-0.3273],\n",
       "        [-0.2627],\n",
       "        [-0.2389],\n",
       "        [-0.2150],\n",
       "        [-0.2420],\n",
       "        [-0.2387],\n",
       "        [-0.1691]], device='cuda:0', grad_fn=<ThAddmmBackward>)"
      ]
     },
     "execution_count": 39,
     "metadata": {},
     "output_type": "execute_result"
    }
   ],
   "source": [
    "test_val"
   ]
  },
  {
   "cell_type": "code",
   "execution_count": 31,
   "metadata": {},
   "outputs": [
    {
     "ename": "NameError",
     "evalue": "name 'test_obs' is not defined",
     "output_type": "error",
     "traceback": [
      "\u001b[1;31m---------------------------------------------------------------------------\u001b[0m",
      "\u001b[1;31mNameError\u001b[0m                                 Traceback (most recent call last)",
      "\u001b[1;32m<ipython-input-31-aa477db075eb>\u001b[0m in \u001b[0;36m<module>\u001b[1;34m\u001b[0m\n\u001b[1;32m----> 1\u001b[1;33m \u001b[0mtest_obs\u001b[0m\u001b[1;33m\u001b[0m\u001b[1;33m\u001b[0m\u001b[0m\n\u001b[0m",
      "\u001b[1;31mNameError\u001b[0m: name 'test_obs' is not defined"
     ]
    }
   ],
   "source": [
    "test_obs"
   ]
  },
  {
   "cell_type": "code",
   "execution_count": 31,
   "metadata": {},
   "outputs": [
    {
     "data": {
      "text/plain": [
       "tensor([[-0.4196],\n",
       "        [-0.2368],\n",
       "        [ 0.0104],\n",
       "        [-0.2756],\n",
       "        [-0.1634],\n",
       "        [-0.3744],\n",
       "        [-0.4036],\n",
       "        [-0.3954],\n",
       "        [-0.2302],\n",
       "        [-0.2640],\n",
       "        [-0.0769],\n",
       "        [-0.4452],\n",
       "        [-0.3922],\n",
       "        [ 0.0270],\n",
       "        [-0.2938],\n",
       "        [-0.2137],\n",
       "        [-0.0689],\n",
       "        [-0.2956],\n",
       "        [-0.0984],\n",
       "        [ 0.0443]])"
      ]
     },
     "execution_count": 31,
     "metadata": {},
     "output_type": "execute_result"
    }
   ],
   "source": [
    "test_val"
   ]
  },
  {
   "cell_type": "code",
   "execution_count": 11,
   "metadata": {},
   "outputs": [
    {
     "data": {
      "text/plain": [
       "tensor([[-8.7777],\n",
       "        [-4.2433],\n",
       "        [-4.0453],\n",
       "        [-6.0767],\n",
       "        [-4.3547],\n",
       "        [-9.4517],\n",
       "        [-4.5175],\n",
       "        [-5.3599],\n",
       "        [-6.1033],\n",
       "        [-4.9137],\n",
       "        [-7.6580],\n",
       "        [-5.1190],\n",
       "        [-5.2781],\n",
       "        [-4.1189],\n",
       "        [-5.9885],\n",
       "        [-6.4951],\n",
       "        [-5.6233],\n",
       "        [-7.9179],\n",
       "        [-5.3300],\n",
       "        [-7.5236]], device='cuda:0', grad_fn=<SumBackward1>)"
      ]
     },
     "execution_count": 11,
     "metadata": {},
     "output_type": "execute_result"
    }
   ],
   "source": [
    "test_probs"
   ]
  },
  {
   "cell_type": "code",
   "execution_count": 14,
   "metadata": {},
   "outputs": [
    {
     "name": "stdout",
     "output_type": "stream",
     "text": [
      "Total score (averaged over agents) this episode: 0.17549999607726932\n"
     ]
    }
   ],
   "source": [
    "env_info = env.reset(train_mode=False)[brain_name]     # reset the environment    \n",
    "states = env_info.vector_observations                  # get the current state (for each agent)\n",
    "scores = np.zeros(num_agents)                          # initialize the score (for each agent)\n",
    "for i in range(1000):\n",
    "    #actions = np.random.randn(num_agents, action_size) # select an action (for each agent)\n",
    "    #actions = np.clip(actions, -1, 1)                  # all actions between -1 and 1\n",
    "    states_tensor = torch.tensor(states,dtype=torch.float,device=device)\n",
    "    actions,act_probs,act_means = policy(states_tensor)\n",
    "    actions = actions.squeeze().cpu().detach().numpy()\n",
    "    env_info = env.step(actions)[brain_name]           # send all actions to tne environment\n",
    "    next_states = env_info.vector_observations         # get next state (for each agent)\n",
    "    rewards = env_info.rewards                         # get reward (for each agent)\n",
    "    dones = env_info.local_done                        # see if episode finished\n",
    "    scores += env_info.rewards                         # update the score (for each agent)\n",
    "    states = next_states                               # roll over states to next time step\n",
    "    if np.any(dones):                                  # exit loop if episode finished\n",
    "        break\n",
    "print('Total score (averaged over agents) this episode: {}'.format(np.mean(scores)))"
   ]
  },
  {
   "cell_type": "code",
   "execution_count": 12,
   "metadata": {},
   "outputs": [],
   "source": [
    "def collect_trajectories(env,policy,tmax=200,nrand=5):\n",
    "    # number of parallel instances\n",
    "    #env_info = env.reset(train_mode=False)[brain_name]\n",
    "    #n=len(env_info.agents)\n",
    "\n",
    "    #initialize returning lists and start the game!\n",
    "    state_list=[]\n",
    "    reward_list=[]\n",
    "    prob_list=[]\n",
    "    action_list=[]\n",
    "\n",
    "    # start all parallel agents\n",
    "    #envs.step([1]*n)\n",
    "    \n",
    "    # perform nrand random steps\n",
    "    for _ in range(nrand):\n",
    "        actions = np.random.randn(num_agents, action_size) # select an action (for each agent)\n",
    "        actions = np.clip(actions, -1, 1)   \n",
    "        env_info = env.step(actions)[brain_name]\n",
    "    \n",
    "    for t in range(tmax):\n",
    "        states_tensor = torch.tensor(env_info.vector_observations,dtype=torch.float,device=device)\n",
    "        actions,probs,action_means = policy(states_tensor)\n",
    "        \n",
    "        actions = actions.squeeze().cpu().detach().numpy()\n",
    "        probs = probs.squeeze().cpu().detach().numpy()\n",
    "        action_means = action_means.squeeze().cpu().detach().numpy()\n",
    "        \n",
    "        env_info = env.step(actions)[brain_name]           # send all actions to tne environment\n",
    "        next_states = env_info.vector_observations         # get next state (for each agent)\n",
    "        rewards = env_info.rewards                         # get reward (for each agent)\n",
    "        dones = env_info.local_done                        # see if episode finished\n",
    "        states = next_states                               # roll over states to next time step\n",
    "        \n",
    "        state_list.append(states_tensor)\n",
    "        reward_list.append(rewards)\n",
    "        prob_list.append(probs)\n",
    "        action_list.append(actions)\n",
    "        \n",
    "        if np.any(dones):                                  # exit loop if episode finished\n",
    "            break\n",
    "\n",
    "    return prob_list, state_list, \\\n",
    "        action_list, reward_list"
   ]
  },
  {
   "cell_type": "code",
   "execution_count": 13,
   "metadata": {},
   "outputs": [],
   "source": [
    "test_probs, test_states, test_actions, test_rewards = \\\n",
    "        collect_trajectories(env, policy, tmax=37)"
   ]
  },
  {
   "cell_type": "code",
   "execution_count": 14,
   "metadata": {},
   "outputs": [],
   "source": [
    "def calculate_normalized_rewards(rewards,discount=0.995):\n",
    "    discounts = discount**np.arange(len(rewards))\n",
    "    discounts_reshaped = discounts[:,np.newaxis]\n",
    "    rewards = np.asarray(rewards)\n",
    "    total_rewards = rewards*discounts_reshaped\n",
    "    #print(rewards)\n",
    "    #print(total_rewards)\n",
    "    future_rewards = np.flipud(np.cumsum(np.flipud(total_rewards),axis=0))\n",
    "    #print(\"Future rewards length = \" + str(len(future_rewards)))\n",
    "    \n",
    "    rewards_mean = np.mean(future_rewards,axis=1)\n",
    "    #print(rewards_mean)\n",
    "    rewards_std = np.std(future_rewards,axis=1) + 1e-10\n",
    "    rewards_normalized = (future_rewards-rewards_mean[:,np.newaxis])/(rewards_std[:,np.newaxis])\n",
    "    #print(rewards_normalized)\n",
    "    #print(\"Rewards normalize dlength : \" + str(len(rewards_normalized)) + \" \" + str(len(rewards_normalized[0])))\n",
    "    return rewards_normalized"
   ]
  },
  {
   "cell_type": "code",
   "execution_count": 15,
   "metadata": {},
   "outputs": [
    {
     "name": "stdout",
     "output_type": "stream",
     "text": [
      "[[0.0, 0.0, 0.0, 0.0, 0.0, 0.0, 0.0, 0.0, 0.0, 0.0, 0.0, 0.0, 0.0, 0.0, 0.0, 0.0, 0.0, 0.0, 0.0, 0.0], [0.0, 0.0, 0.0, 0.0, 0.0, 0.0, 0.0, 0.0, 0.0, 0.0, 0.0, 0.0, 0.0, 0.0, 0.0, 0.0, 0.0, 0.0, 0.0, 0.0], [0.0, 0.0, 0.0, 0.0, 0.0, 0.0, 0.0, 0.0, 0.0, 0.0, 0.0, 0.0, 0.0, 0.0, 0.0, 0.0, 0.0, 0.0, 0.0, 0.0], [0.0, 0.0, 0.0, 0.0, 0.0, 0.0, 0.0, 0.0, 0.0, 0.0, 0.0, 0.0, 0.0, 0.0, 0.0, 0.0, 0.0, 0.0, 0.0, 0.0], [0.0, 0.0, 0.0, 0.0, 0.0, 0.0, 0.0, 0.0, 0.0, 0.0, 0.0, 0.0, 0.0, 0.0, 0.0, 0.0, 0.0, 0.0, 0.0, 0.0], [0.0, 0.0, 0.0, 0.0, 0.0, 0.0, 0.0, 0.0, 0.0, 0.0, 0.0, 0.0, 0.0, 0.0, 0.0, 0.0, 0.0, 0.0, 0.0, 0.0], [0.0, 0.0, 0.0, 0.0, 0.0, 0.0, 0.0, 0.0, 0.0, 0.0, 0.0, 0.0, 0.0, 0.0, 0.0, 0.0, 0.0, 0.0, 0.0, 0.0], [0.0, 0.0, 0.0, 0.0, 0.0, 0.0, 0.0, 0.0, 0.0, 0.0, 0.0, 0.0, 0.0, 0.0, 0.0, 0.0, 0.0, 0.0, 0.0, 0.0], [0.0, 0.0, 0.0, 0.0, 0.0, 0.0, 0.0, 0.0, 0.0, 0.0, 0.0, 0.0, 0.0, 0.0, 0.0, 0.0, 0.0, 0.0, 0.0, 0.0], [0.0, 0.0, 0.0, 0.0, 0.0, 0.0, 0.0, 0.0, 0.0, 0.0, 0.0, 0.0, 0.0, 0.0, 0.0, 0.0, 0.0, 0.0, 0.0, 0.0], [0.0, 0.0, 0.0, 0.0, 0.0, 0.0, 0.0, 0.0, 0.0, 0.0, 0.0, 0.0, 0.0, 0.0, 0.0, 0.0, 0.0, 0.0, 0.0, 0.0], [0.0, 0.0, 0.0, 0.0, 0.0, 0.0, 0.0, 0.0, 0.0, 0.0, 0.0, 0.0, 0.0, 0.0, 0.019999999552965164, 0.0, 0.0, 0.0, 0.0, 0.0], [0.0, 0.0, 0.0, 0.0, 0.0, 0.0, 0.0, 0.0, 0.0, 0.0, 0.0, 0.0, 0.0, 0.0, 0.03999999910593033, 0.0, 0.0, 0.0, 0.0, 0.0], [0.0, 0.0, 0.0, 0.0, 0.0, 0.0, 0.0, 0.0, 0.0, 0.0, 0.0, 0.0, 0.0, 0.0, 0.03999999910593033, 0.0, 0.0, 0.0, 0.0, 0.0], [0.0, 0.0, 0.0, 0.0, 0.0, 0.0, 0.0, 0.0, 0.0, 0.0, 0.0, 0.0, 0.0, 0.0, 0.03999999910593033, 0.0, 0.0, 0.0, 0.0, 0.0], [0.0, 0.0, 0.0, 0.0, 0.0, 0.0, 0.0, 0.0, 0.0, 0.0, 0.0, 0.0, 0.0, 0.0, 0.03999999910593033, 0.0, 0.0, 0.0, 0.0, 0.0], [0.0, 0.0, 0.0, 0.0, 0.0, 0.0, 0.0, 0.0, 0.0, 0.0, 0.0, 0.0, 0.0, 0.0, 0.03999999910593033, 0.0, 0.0, 0.0, 0.0, 0.0], [0.0, 0.0, 0.0, 0.0, 0.0, 0.0, 0.0, 0.0, 0.0, 0.0, 0.0, 0.0, 0.0, 0.0, 0.03999999910593033, 0.0, 0.0, 0.0, 0.0, 0.0], [0.0, 0.0, 0.0, 0.0, 0.0, 0.0, 0.0, 0.0, 0.0, 0.0, 0.0, 0.0, 0.0, 0.0, 0.03999999910593033, 0.0, 0.0, 0.0, 0.0, 0.0], [0.0, 0.0, 0.0, 0.0, 0.0, 0.0, 0.0, 0.0, 0.0, 0.0, 0.0, 0.0, 0.0, 0.0, 0.03999999910593033, 0.0, 0.0, 0.0, 0.0, 0.0], [0.0, 0.0, 0.0, 0.0, 0.0, 0.0, 0.0, 0.0, 0.0, 0.0, 0.0, 0.0, 0.0, 0.0, 0.03999999910593033, 0.0, 0.0, 0.0, 0.0, 0.0], [0.0, 0.0, 0.0, 0.0, 0.0, 0.0, 0.0, 0.0, 0.0, 0.0, 0.0, 0.0, 0.0, 0.0, 0.03999999910593033, 0.0, 0.0, 0.0, 0.0, 0.0], [0.0, 0.0, 0.0, 0.0, 0.0, 0.0, 0.0, 0.0, 0.0, 0.0, 0.0, 0.0, 0.0, 0.0, 0.03999999910593033, 0.0, 0.0, 0.0, 0.0, 0.0], [0.0, 0.0, 0.0, 0.0, 0.0, 0.0, 0.0, 0.0, 0.0, 0.0, 0.0, 0.0, 0.0, 0.0, 0.03999999910593033, 0.0, 0.0, 0.0, 0.0, 0.0], [0.0, 0.0, 0.0, 0.0, 0.0, 0.0, 0.0, 0.0, 0.0, 0.0, 0.0, 0.0, 0.0, 0.0, 0.03999999910593033, 0.0, 0.0, 0.0, 0.0, 0.0], [0.0, 0.0, 0.0, 0.0, 0.0, 0.0, 0.0, 0.0, 0.0, 0.0, 0.0, 0.0, 0.0, 0.0, 0.03999999910593033, 0.0, 0.0, 0.0, 0.0, 0.0], [0.0, 0.0, 0.0, 0.0, 0.0, 0.0, 0.0, 0.0, 0.0, 0.0, 0.0, 0.0, 0.0, 0.0, 0.0, 0.0, 0.0, 0.0, 0.0, 0.0], [0.0, 0.0, 0.0, 0.0, 0.0, 0.0, 0.0, 0.0, 0.0, 0.0, 0.0, 0.0, 0.0, 0.0, 0.0, 0.0, 0.0, 0.0, 0.0, 0.0], [0.0, 0.0, 0.0, 0.0, 0.0, 0.0, 0.0, 0.0, 0.0, 0.0, 0.0, 0.0, 0.0, 0.0, 0.0, 0.0, 0.0, 0.0, 0.0, 0.0], [0.0, 0.0, 0.0, 0.0, 0.0, 0.0, 0.0, 0.0, 0.0, 0.0, 0.0, 0.0, 0.0, 0.0, 0.0, 0.0, 0.0, 0.0, 0.0, 0.0], [0.0, 0.0, 0.0, 0.0, 0.0, 0.0, 0.0, 0.0, 0.0, 0.0, 0.0, 0.0, 0.0, 0.0, 0.0, 0.0, 0.0, 0.0, 0.0, 0.0], [0.0, 0.0, 0.0, 0.0, 0.0, 0.0, 0.0, 0.0, 0.0, 0.0, 0.0, 0.0, 0.0, 0.0, 0.0, 0.0, 0.0, 0.0, 0.0, 0.0], [0.0, 0.0, 0.0, 0.0, 0.0, 0.0, 0.0, 0.0, 0.0, 0.0, 0.0, 0.0, 0.0, 0.0, 0.0, 0.0, 0.0, 0.0, 0.0, 0.0], [0.0, 0.0, 0.0, 0.0, 0.0, 0.0, 0.0, 0.0, 0.0, 0.0, 0.0, 0.0, 0.0, 0.0, 0.0, 0.0, 0.0, 0.0, 0.0, 0.0], [0.0, 0.0, 0.0, 0.0, 0.0, 0.0, 0.0, 0.0, 0.0, 0.0, 0.0, 0.0, 0.0, 0.0, 0.0, 0.0, 0.0, 0.0, 0.0, 0.0], [0.0, 0.0, 0.0, 0.0, 0.0, 0.0, 0.0, 0.0, 0.0, 0.0, 0.0, 0.0, 0.0, 0.0, 0.0, 0.0, 0.0, 0.0, 0.0, 0.0], [0.0, 0.0, 0.0, 0.0, 0.0, 0.0, 0.0, 0.0, 0.0, 0.0, 0.0, 0.0, 0.0, 0.0, 0.0, 0.0, 0.0, 0.0, 0.0, 0.0]]\n"
     ]
    },
    {
     "data": {
      "text/plain": [
       "array([[-0.22941573, -0.22941573, -0.22941573, -0.22941573, -0.22941573,\n",
       "        -0.22941573, -0.22941573, -0.22941573, -0.22941573, -0.22941573,\n",
       "        -0.22941573, -0.22941573, -0.22941573, -0.22941573,  4.35889894,\n",
       "        -0.22941573, -0.22941573, -0.22941573, -0.22941573, -0.22941573],\n",
       "       [-0.22941573, -0.22941573, -0.22941573, -0.22941573, -0.22941573,\n",
       "        -0.22941573, -0.22941573, -0.22941573, -0.22941573, -0.22941573,\n",
       "        -0.22941573, -0.22941573, -0.22941573, -0.22941573,  4.35889894,\n",
       "        -0.22941573, -0.22941573, -0.22941573, -0.22941573, -0.22941573],\n",
       "       [-0.22941573, -0.22941573, -0.22941573, -0.22941573, -0.22941573,\n",
       "        -0.22941573, -0.22941573, -0.22941573, -0.22941573, -0.22941573,\n",
       "        -0.22941573, -0.22941573, -0.22941573, -0.22941573,  4.35889894,\n",
       "        -0.22941573, -0.22941573, -0.22941573, -0.22941573, -0.22941573],\n",
       "       [-0.22941573, -0.22941573, -0.22941573, -0.22941573, -0.22941573,\n",
       "        -0.22941573, -0.22941573, -0.22941573, -0.22941573, -0.22941573,\n",
       "        -0.22941573, -0.22941573, -0.22941573, -0.22941573,  4.35889894,\n",
       "        -0.22941573, -0.22941573, -0.22941573, -0.22941573, -0.22941573],\n",
       "       [-0.22941573, -0.22941573, -0.22941573, -0.22941573, -0.22941573,\n",
       "        -0.22941573, -0.22941573, -0.22941573, -0.22941573, -0.22941573,\n",
       "        -0.22941573, -0.22941573, -0.22941573, -0.22941573,  4.35889894,\n",
       "        -0.22941573, -0.22941573, -0.22941573, -0.22941573, -0.22941573],\n",
       "       [-0.22941573, -0.22941573, -0.22941573, -0.22941573, -0.22941573,\n",
       "        -0.22941573, -0.22941573, -0.22941573, -0.22941573, -0.22941573,\n",
       "        -0.22941573, -0.22941573, -0.22941573, -0.22941573,  4.35889894,\n",
       "        -0.22941573, -0.22941573, -0.22941573, -0.22941573, -0.22941573],\n",
       "       [-0.22941573, -0.22941573, -0.22941573, -0.22941573, -0.22941573,\n",
       "        -0.22941573, -0.22941573, -0.22941573, -0.22941573, -0.22941573,\n",
       "        -0.22941573, -0.22941573, -0.22941573, -0.22941573,  4.35889894,\n",
       "        -0.22941573, -0.22941573, -0.22941573, -0.22941573, -0.22941573],\n",
       "       [-0.22941573, -0.22941573, -0.22941573, -0.22941573, -0.22941573,\n",
       "        -0.22941573, -0.22941573, -0.22941573, -0.22941573, -0.22941573,\n",
       "        -0.22941573, -0.22941573, -0.22941573, -0.22941573,  4.35889894,\n",
       "        -0.22941573, -0.22941573, -0.22941573, -0.22941573, -0.22941573],\n",
       "       [-0.22941573, -0.22941573, -0.22941573, -0.22941573, -0.22941573,\n",
       "        -0.22941573, -0.22941573, -0.22941573, -0.22941573, -0.22941573,\n",
       "        -0.22941573, -0.22941573, -0.22941573, -0.22941573,  4.35889894,\n",
       "        -0.22941573, -0.22941573, -0.22941573, -0.22941573, -0.22941573],\n",
       "       [-0.22941573, -0.22941573, -0.22941573, -0.22941573, -0.22941573,\n",
       "        -0.22941573, -0.22941573, -0.22941573, -0.22941573, -0.22941573,\n",
       "        -0.22941573, -0.22941573, -0.22941573, -0.22941573,  4.35889894,\n",
       "        -0.22941573, -0.22941573, -0.22941573, -0.22941573, -0.22941573],\n",
       "       [-0.22941573, -0.22941573, -0.22941573, -0.22941573, -0.22941573,\n",
       "        -0.22941573, -0.22941573, -0.22941573, -0.22941573, -0.22941573,\n",
       "        -0.22941573, -0.22941573, -0.22941573, -0.22941573,  4.35889894,\n",
       "        -0.22941573, -0.22941573, -0.22941573, -0.22941573, -0.22941573],\n",
       "       [-0.22941573, -0.22941573, -0.22941573, -0.22941573, -0.22941573,\n",
       "        -0.22941573, -0.22941573, -0.22941573, -0.22941573, -0.22941573,\n",
       "        -0.22941573, -0.22941573, -0.22941573, -0.22941573,  4.35889894,\n",
       "        -0.22941573, -0.22941573, -0.22941573, -0.22941573, -0.22941573],\n",
       "       [-0.22941573, -0.22941573, -0.22941573, -0.22941573, -0.22941573,\n",
       "        -0.22941573, -0.22941573, -0.22941573, -0.22941573, -0.22941573,\n",
       "        -0.22941573, -0.22941573, -0.22941573, -0.22941573,  4.35889894,\n",
       "        -0.22941573, -0.22941573, -0.22941573, -0.22941573, -0.22941573],\n",
       "       [-0.22941573, -0.22941573, -0.22941573, -0.22941573, -0.22941573,\n",
       "        -0.22941573, -0.22941573, -0.22941573, -0.22941573, -0.22941573,\n",
       "        -0.22941573, -0.22941573, -0.22941573, -0.22941573,  4.35889894,\n",
       "        -0.22941573, -0.22941573, -0.22941573, -0.22941573, -0.22941573],\n",
       "       [-0.22941573, -0.22941573, -0.22941573, -0.22941573, -0.22941573,\n",
       "        -0.22941573, -0.22941573, -0.22941573, -0.22941573, -0.22941573,\n",
       "        -0.22941573, -0.22941573, -0.22941573, -0.22941573,  4.35889894,\n",
       "        -0.22941573, -0.22941573, -0.22941573, -0.22941573, -0.22941573],\n",
       "       [-0.22941573, -0.22941573, -0.22941573, -0.22941573, -0.22941573,\n",
       "        -0.22941573, -0.22941573, -0.22941573, -0.22941573, -0.22941573,\n",
       "        -0.22941573, -0.22941573, -0.22941573, -0.22941573,  4.35889894,\n",
       "        -0.22941573, -0.22941573, -0.22941573, -0.22941573, -0.22941573],\n",
       "       [-0.22941573, -0.22941573, -0.22941573, -0.22941573, -0.22941573,\n",
       "        -0.22941573, -0.22941573, -0.22941573, -0.22941573, -0.22941573,\n",
       "        -0.22941573, -0.22941573, -0.22941573, -0.22941573,  4.35889894,\n",
       "        -0.22941573, -0.22941573, -0.22941573, -0.22941573, -0.22941573],\n",
       "       [-0.22941573, -0.22941573, -0.22941573, -0.22941573, -0.22941573,\n",
       "        -0.22941573, -0.22941573, -0.22941573, -0.22941573, -0.22941573,\n",
       "        -0.22941573, -0.22941573, -0.22941573, -0.22941573,  4.35889894,\n",
       "        -0.22941573, -0.22941573, -0.22941573, -0.22941573, -0.22941573],\n",
       "       [-0.22941573, -0.22941573, -0.22941573, -0.22941573, -0.22941573,\n",
       "        -0.22941573, -0.22941573, -0.22941573, -0.22941573, -0.22941573,\n",
       "        -0.22941573, -0.22941573, -0.22941573, -0.22941573,  4.35889894,\n",
       "        -0.22941573, -0.22941573, -0.22941573, -0.22941573, -0.22941573],\n",
       "       [-0.22941573, -0.22941573, -0.22941573, -0.22941573, -0.22941573,\n",
       "        -0.22941573, -0.22941573, -0.22941573, -0.22941573, -0.22941573,\n",
       "        -0.22941573, -0.22941573, -0.22941573, -0.22941573,  4.35889894,\n",
       "        -0.22941573, -0.22941573, -0.22941573, -0.22941573, -0.22941573],\n",
       "       [-0.22941573, -0.22941573, -0.22941573, -0.22941573, -0.22941573,\n",
       "        -0.22941573, -0.22941573, -0.22941573, -0.22941573, -0.22941573,\n",
       "        -0.22941573, -0.22941573, -0.22941573, -0.22941573,  4.35889893,\n",
       "        -0.22941573, -0.22941573, -0.22941573, -0.22941573, -0.22941573],\n",
       "       [-0.22941573, -0.22941573, -0.22941573, -0.22941573, -0.22941573,\n",
       "        -0.22941573, -0.22941573, -0.22941573, -0.22941573, -0.22941573,\n",
       "        -0.22941573, -0.22941573, -0.22941573, -0.22941573,  4.35889893,\n",
       "        -0.22941573, -0.22941573, -0.22941573, -0.22941573, -0.22941573],\n",
       "       [-0.22941573, -0.22941573, -0.22941573, -0.22941573, -0.22941573,\n",
       "        -0.22941573, -0.22941573, -0.22941573, -0.22941573, -0.22941573,\n",
       "        -0.22941573, -0.22941573, -0.22941573, -0.22941573,  4.35889893,\n",
       "        -0.22941573, -0.22941573, -0.22941573, -0.22941573, -0.22941573],\n",
       "       [-0.22941573, -0.22941573, -0.22941573, -0.22941573, -0.22941573,\n",
       "        -0.22941573, -0.22941573, -0.22941573, -0.22941573, -0.22941573,\n",
       "        -0.22941573, -0.22941573, -0.22941573, -0.22941573,  4.35889892,\n",
       "        -0.22941573, -0.22941573, -0.22941573, -0.22941573, -0.22941573],\n",
       "       [-0.22941573, -0.22941573, -0.22941573, -0.22941573, -0.22941573,\n",
       "        -0.22941573, -0.22941573, -0.22941573, -0.22941573, -0.22941573,\n",
       "        -0.22941573, -0.22941573, -0.22941573, -0.22941573,  4.35889892,\n",
       "        -0.22941573, -0.22941573, -0.22941573, -0.22941573, -0.22941573],\n",
       "       [-0.22941573, -0.22941573, -0.22941573, -0.22941573, -0.22941573,\n",
       "        -0.22941573, -0.22941573, -0.22941573, -0.22941573, -0.22941573,\n",
       "        -0.22941573, -0.22941573, -0.22941573, -0.22941573,  4.35889889,\n",
       "        -0.22941573, -0.22941573, -0.22941573, -0.22941573, -0.22941573],\n",
       "       [ 0.        ,  0.        ,  0.        ,  0.        ,  0.        ,\n",
       "         0.        ,  0.        ,  0.        ,  0.        ,  0.        ,\n",
       "         0.        ,  0.        ,  0.        ,  0.        ,  0.        ,\n",
       "         0.        ,  0.        ,  0.        ,  0.        ,  0.        ],\n",
       "       [ 0.        ,  0.        ,  0.        ,  0.        ,  0.        ,\n",
       "         0.        ,  0.        ,  0.        ,  0.        ,  0.        ,\n",
       "         0.        ,  0.        ,  0.        ,  0.        ,  0.        ,\n",
       "         0.        ,  0.        ,  0.        ,  0.        ,  0.        ],\n",
       "       [ 0.        ,  0.        ,  0.        ,  0.        ,  0.        ,\n",
       "         0.        ,  0.        ,  0.        ,  0.        ,  0.        ,\n",
       "         0.        ,  0.        ,  0.        ,  0.        ,  0.        ,\n",
       "         0.        ,  0.        ,  0.        ,  0.        ,  0.        ],\n",
       "       [ 0.        ,  0.        ,  0.        ,  0.        ,  0.        ,\n",
       "         0.        ,  0.        ,  0.        ,  0.        ,  0.        ,\n",
       "         0.        ,  0.        ,  0.        ,  0.        ,  0.        ,\n",
       "         0.        ,  0.        ,  0.        ,  0.        ,  0.        ],\n",
       "       [ 0.        ,  0.        ,  0.        ,  0.        ,  0.        ,\n",
       "         0.        ,  0.        ,  0.        ,  0.        ,  0.        ,\n",
       "         0.        ,  0.        ,  0.        ,  0.        ,  0.        ,\n",
       "         0.        ,  0.        ,  0.        ,  0.        ,  0.        ],\n",
       "       [ 0.        ,  0.        ,  0.        ,  0.        ,  0.        ,\n",
       "         0.        ,  0.        ,  0.        ,  0.        ,  0.        ,\n",
       "         0.        ,  0.        ,  0.        ,  0.        ,  0.        ,\n",
       "         0.        ,  0.        ,  0.        ,  0.        ,  0.        ],\n",
       "       [ 0.        ,  0.        ,  0.        ,  0.        ,  0.        ,\n",
       "         0.        ,  0.        ,  0.        ,  0.        ,  0.        ,\n",
       "         0.        ,  0.        ,  0.        ,  0.        ,  0.        ,\n",
       "         0.        ,  0.        ,  0.        ,  0.        ,  0.        ],\n",
       "       [ 0.        ,  0.        ,  0.        ,  0.        ,  0.        ,\n",
       "         0.        ,  0.        ,  0.        ,  0.        ,  0.        ,\n",
       "         0.        ,  0.        ,  0.        ,  0.        ,  0.        ,\n",
       "         0.        ,  0.        ,  0.        ,  0.        ,  0.        ],\n",
       "       [ 0.        ,  0.        ,  0.        ,  0.        ,  0.        ,\n",
       "         0.        ,  0.        ,  0.        ,  0.        ,  0.        ,\n",
       "         0.        ,  0.        ,  0.        ,  0.        ,  0.        ,\n",
       "         0.        ,  0.        ,  0.        ,  0.        ,  0.        ],\n",
       "       [ 0.        ,  0.        ,  0.        ,  0.        ,  0.        ,\n",
       "         0.        ,  0.        ,  0.        ,  0.        ,  0.        ,\n",
       "         0.        ,  0.        ,  0.        ,  0.        ,  0.        ,\n",
       "         0.        ,  0.        ,  0.        ,  0.        ,  0.        ],\n",
       "       [ 0.        ,  0.        ,  0.        ,  0.        ,  0.        ,\n",
       "         0.        ,  0.        ,  0.        ,  0.        ,  0.        ,\n",
       "         0.        ,  0.        ,  0.        ,  0.        ,  0.        ,\n",
       "         0.        ,  0.        ,  0.        ,  0.        ,  0.        ]])"
      ]
     },
     "execution_count": 15,
     "metadata": {},
     "output_type": "execute_result"
    }
   ],
   "source": [
    "print(test_rewards)\n",
    "calculate_normalized_rewards(test_rewards)"
   ]
  },
  {
   "cell_type": "code",
   "execution_count": 16,
   "metadata": {},
   "outputs": [],
   "source": [
    "def clipped_surrogate(policy, old_probs, states, actions, rewards,\n",
    "                      discount = 0.995, epsilon=0.1, beta=0.01):\n",
    "\n",
    "    rewards_normalized = calculate_normalized_rewards(rewards)\n",
    "    \n",
    "    actions = torch.tensor(actions, dtype=torch.float, device=device)\n",
    "    old_probs = torch.tensor(old_probs, dtype=torch.float, device=device)\n",
    "    rewards = torch.tensor(rewards_normalized, dtype=torch.float, device=device)\n",
    "     \n",
    "    \n",
    "    # convert states to policy (or probability)\n",
    "    _,new_probs,_ = policy(torch.stack(states),actions)\n",
    "    new_probs = new_probs.squeeze()\n",
    "\n",
    "    #print(new_probs.shape)\n",
    "    #print(old_probs.shape)\n",
    "    \n",
    "    \n",
    "    #new_probs = torch.where(actions == pong_utils.RIGHT, new_probs, 1.0-new_probs)\n",
    "    \n",
    "    ratio = new_probs/old_probs\n",
    "    ratio = ratio.exp()\n",
    "    #print(ratio)\n",
    "    clipped_ratio = torch.clamp(ratio, 1-epsilon, 1+epsilon)\n",
    "    clipped_surrogate = torch.min(ratio*rewards, clipped_ratio*rewards)\n",
    "    #print(clipped_surrogate)\n",
    "    #print(old_probs)\n",
    "    #print(torch.log(old_probs+1.e-10))\n",
    "    # include a regularization term\n",
    "    # this steers new_policy towards 0.5\n",
    "    # prevents policy to become exactly 0 or 1 helps exploration\n",
    "    # add in 1.e-10 to avoid log(0) which gives nan\n",
    "    entropy = -(new_probs.exp()*torch.log(old_probs.exp()+1.e-10)+ (1.0-new_probs.exp())*torch.log(1.0-old_probs.exp()+1.e-10))\n",
    "    #print(entropy)\n",
    "    #return torch.mean(clipped_surrogate + beta*entropy)\n",
    "    return torch.mean(clipped_surrogate)\n",
    "    #return torch.mean(clipped_surrogate + beta*entropy)"
   ]
  },
  {
   "cell_type": "code",
   "execution_count": 17,
   "metadata": {},
   "outputs": [],
   "source": [
    "policy=Policy().to(device)\n",
    "#policy=pong_utils.Policy().to(device)\n",
    "\n",
    "# we use the adam optimizer with learning rate 2e-4\n",
    "# optim.SGD is also possible\n",
    "import torch.optim as optim\n",
    "optimizer = optim.Adam(policy.parameters(), lr=5e-4)"
   ]
  },
  {
   "cell_type": "code",
   "execution_count": 18,
   "metadata": {},
   "outputs": [
    {
     "data": {
      "text/plain": [
       "tensor(-0.2559, device='cuda:0', grad_fn=<MeanBackward1>)"
      ]
     },
     "execution_count": 18,
     "metadata": {},
     "output_type": "execute_result"
    }
   ],
   "source": [
    "clipped_surrogate(policy,test_probs,test_states,test_actions,test_rewards)"
   ]
  },
  {
   "cell_type": "code",
   "execution_count": 19,
   "metadata": {},
   "outputs": [
    {
     "name": "stderr",
     "output_type": "stream",
     "text": [
      "mkl-random 1.0.1 requires cython, which is not installed.\n",
      "You are using pip version 10.0.1, however version 18.1 is available.\n",
      "You should consider upgrading via the 'python -m pip install --upgrade pip' command.\n",
      "training loop:   0% |                                          | ETA:  --:--:--\r"
     ]
    },
    {
     "name": "stdout",
     "output_type": "stream",
     "text": [
      "Requirement already satisfied: progressbar in c:\\users\\kvjos\\anaconda3\\envs\\drlnd2\\lib\\site-packages (2.5)\n"
     ]
    },
    {
     "name": "stderr",
     "output_type": "stream",
     "text": [
      "training loop:   0% |                                           | ETA:  0:18:03\r"
     ]
    },
    {
     "name": "stdout",
     "output_type": "stream",
     "text": [
      "tensor(0.4070, device='cuda:0', grad_fn=<NegBackward>)\n",
      "tensor(0.4217, device='cuda:0', grad_fn=<NegBackward>)\n",
      "tensor(0.4109, device='cuda:0', grad_fn=<NegBackward>)\n",
      "tensor(0.4173, device='cuda:0', grad_fn=<NegBackward>)\n"
     ]
    },
    {
     "name": "stderr",
     "output_type": "stream",
     "text": [
      "training loop:   0% |                                           | ETA:  0:17:49\r"
     ]
    },
    {
     "name": "stdout",
     "output_type": "stream",
     "text": [
      "tensor(0.4491, device='cuda:0', grad_fn=<NegBackward>)\n",
      "tensor(0.4505, device='cuda:0', grad_fn=<NegBackward>)\n",
      "tensor(0.4508, device='cuda:0', grad_fn=<NegBackward>)\n",
      "tensor(0.4494, device='cuda:0', grad_fn=<NegBackward>)\n"
     ]
    },
    {
     "name": "stderr",
     "output_type": "stream",
     "text": [
      "training loop:   1% |                                           | ETA:  0:17:45\r"
     ]
    },
    {
     "name": "stdout",
     "output_type": "stream",
     "text": [
      "tensor(0.4551, device='cuda:0', grad_fn=<NegBackward>)\n",
      "tensor(0.4555, device='cuda:0', grad_fn=<NegBackward>)\n",
      "tensor(0.4558, device='cuda:0', grad_fn=<NegBackward>)\n",
      "tensor(0.4553, device='cuda:0', grad_fn=<NegBackward>)\n"
     ]
    },
    {
     "name": "stderr",
     "output_type": "stream",
     "text": [
      "training loop:   1% |                                           | ETA:  0:17:39\r"
     ]
    },
    {
     "name": "stdout",
     "output_type": "stream",
     "text": [
      "tensor(0.4493, device='cuda:0', grad_fn=<NegBackward>)\n",
      "tensor(0.4495, device='cuda:0', grad_fn=<NegBackward>)\n",
      "tensor(0.4495, device='cuda:0', grad_fn=<NegBackward>)\n",
      "tensor(0.4492, device='cuda:0', grad_fn=<NegBackward>)\n"
     ]
    },
    {
     "name": "stderr",
     "output_type": "stream",
     "text": [
      "training loop:   1% |                                           | ETA:  0:17:34\r"
     ]
    },
    {
     "name": "stdout",
     "output_type": "stream",
     "text": [
      "tensor(0.3975, device='cuda:0', grad_fn=<NegBackward>)\n",
      "tensor(0.3975, device='cuda:0', grad_fn=<NegBackward>)\n",
      "tensor(0.3975, device='cuda:0', grad_fn=<NegBackward>)\n",
      "tensor(0.3974, device='cuda:0', grad_fn=<NegBackward>)\n"
     ]
    },
    {
     "name": "stderr",
     "output_type": "stream",
     "text": [
      "training loop:   2% |                                           | ETA:  0:17:31\r"
     ]
    },
    {
     "name": "stdout",
     "output_type": "stream",
     "text": [
      "tensor(0.4836, device='cuda:0', grad_fn=<NegBackward>)\n",
      "tensor(0.4835, device='cuda:0', grad_fn=<NegBackward>)\n",
      "tensor(0.4834, device='cuda:0', grad_fn=<NegBackward>)\n",
      "tensor(0.4832, device='cuda:0', grad_fn=<NegBackward>)\n"
     ]
    },
    {
     "name": "stderr",
     "output_type": "stream",
     "text": [
      "training loop:   2% |#                                          | ETA:  0:17:28\r"
     ]
    },
    {
     "name": "stdout",
     "output_type": "stream",
     "text": [
      "tensor(0.3873, device='cuda:0', grad_fn=<NegBackward>)\n",
      "tensor(0.3872, device='cuda:0', grad_fn=<NegBackward>)\n",
      "tensor(0.3872, device='cuda:0', grad_fn=<NegBackward>)\n",
      "tensor(0.3871, device='cuda:0', grad_fn=<NegBackward>)\n"
     ]
    },
    {
     "name": "stderr",
     "output_type": "stream",
     "text": [
      "training loop:   2% |#                                          | ETA:  0:17:24\r"
     ]
    },
    {
     "name": "stdout",
     "output_type": "stream",
     "text": [
      "tensor(0.3947, device='cuda:0', grad_fn=<NegBackward>)\n",
      "tensor(0.3946, device='cuda:0', grad_fn=<NegBackward>)\n",
      "tensor(0.3945, device='cuda:0', grad_fn=<NegBackward>)\n",
      "tensor(0.3944, device='cuda:0', grad_fn=<NegBackward>)\n"
     ]
    },
    {
     "name": "stderr",
     "output_type": "stream",
     "text": [
      "training loop:   3% |#                                          | ETA:  0:17:21\r"
     ]
    },
    {
     "name": "stdout",
     "output_type": "stream",
     "text": [
      "tensor(0.4237, device='cuda:0', grad_fn=<NegBackward>)\n",
      "tensor(0.4237, device='cuda:0', grad_fn=<NegBackward>)\n",
      "tensor(0.4236, device='cuda:0', grad_fn=<NegBackward>)\n",
      "tensor(0.4235, device='cuda:0', grad_fn=<NegBackward>)\n"
     ]
    },
    {
     "name": "stderr",
     "output_type": "stream",
     "text": [
      "training loop:   3% |#                                          | ETA:  0:17:17\r"
     ]
    },
    {
     "name": "stdout",
     "output_type": "stream",
     "text": [
      "tensor(0.2539, device='cuda:0', grad_fn=<NegBackward>)\n",
      "tensor(0.2539, device='cuda:0', grad_fn=<NegBackward>)\n",
      "tensor(0.2538, device='cuda:0', grad_fn=<NegBackward>)\n",
      "tensor(0.2537, device='cuda:0', grad_fn=<NegBackward>)\n",
      "Episode: 10, score: 0.097000\n",
      "[0.         0.         0.         0.         0.         0.84999998\n",
      " 0.         0.         0.         0.17       0.         0.\n",
      " 0.15       0.         0.51999999 0.         0.         0.24999999\n",
      " 0.         0.        ]\n"
     ]
    },
    {
     "name": "stderr",
     "output_type": "stream",
     "text": [
      "training loop:   3% |#                                          | ETA:  0:17:14\r"
     ]
    },
    {
     "name": "stdout",
     "output_type": "stream",
     "text": [
      "tensor(0.1468, device='cuda:0', grad_fn=<NegBackward>)\n",
      "tensor(0.1468, device='cuda:0', grad_fn=<NegBackward>)\n",
      "tensor(0.1468, device='cuda:0', grad_fn=<NegBackward>)\n",
      "tensor(0.1467, device='cuda:0', grad_fn=<NegBackward>)\n"
     ]
    },
    {
     "name": "stderr",
     "output_type": "stream",
     "text": [
      "training loop:   4% |#                                          | ETA:  0:17:11\r"
     ]
    },
    {
     "name": "stdout",
     "output_type": "stream",
     "text": [
      "tensor(0.4454, device='cuda:0', grad_fn=<NegBackward>)\n",
      "tensor(0.4453, device='cuda:0', grad_fn=<NegBackward>)\n",
      "tensor(0.4451, device='cuda:0', grad_fn=<NegBackward>)\n",
      "tensor(0.4449, device='cuda:0', grad_fn=<NegBackward>)\n"
     ]
    },
    {
     "name": "stderr",
     "output_type": "stream",
     "text": [
      "training loop:   4% |#                                          | ETA:  0:17:10\r"
     ]
    },
    {
     "name": "stdout",
     "output_type": "stream",
     "text": [
      "tensor(0.2443, device='cuda:0', grad_fn=<NegBackward>)\n",
      "tensor(0.2442, device='cuda:0', grad_fn=<NegBackward>)\n",
      "tensor(0.2442, device='cuda:0', grad_fn=<NegBackward>)\n",
      "tensor(0.2441, device='cuda:0', grad_fn=<NegBackward>)\n"
     ]
    },
    {
     "name": "stderr",
     "output_type": "stream",
     "text": [
      "training loop:   4% |##                                         | ETA:  0:17:06\r"
     ]
    },
    {
     "name": "stdout",
     "output_type": "stream",
     "text": [
      "tensor(0.4164, device='cuda:0', grad_fn=<NegBackward>)\n",
      "tensor(0.4163, device='cuda:0', grad_fn=<NegBackward>)\n",
      "tensor(0.4161, device='cuda:0', grad_fn=<NegBackward>)\n",
      "tensor(0.4160, device='cuda:0', grad_fn=<NegBackward>)\n"
     ]
    },
    {
     "name": "stderr",
     "output_type": "stream",
     "text": [
      "training loop:   5% |##                                         | ETA:  0:17:02\r"
     ]
    },
    {
     "name": "stdout",
     "output_type": "stream",
     "text": [
      "tensor(0.4546, device='cuda:0', grad_fn=<NegBackward>)\n",
      "tensor(0.4544, device='cuda:0', grad_fn=<NegBackward>)\n",
      "tensor(0.4543, device='cuda:0', grad_fn=<NegBackward>)\n",
      "tensor(0.4542, device='cuda:0', grad_fn=<NegBackward>)\n"
     ]
    },
    {
     "name": "stderr",
     "output_type": "stream",
     "text": [
      "training loop:   5% |##                                         | ETA:  0:16:58\r"
     ]
    },
    {
     "name": "stdout",
     "output_type": "stream",
     "text": [
      "tensor(0.4743, device='cuda:0', grad_fn=<NegBackward>)\n",
      "tensor(0.4741, device='cuda:0', grad_fn=<NegBackward>)\n",
      "tensor(0.4739, device='cuda:0', grad_fn=<NegBackward>)\n",
      "tensor(0.4737, device='cuda:0', grad_fn=<NegBackward>)\n"
     ]
    },
    {
     "name": "stderr",
     "output_type": "stream",
     "text": [
      "training loop:   5% |##                                         | ETA:  0:16:55\r"
     ]
    },
    {
     "name": "stdout",
     "output_type": "stream",
     "text": [
      "tensor(0.4486, device='cuda:0', grad_fn=<NegBackward>)\n",
      "tensor(0.4485, device='cuda:0', grad_fn=<NegBackward>)\n",
      "tensor(0.4484, device='cuda:0', grad_fn=<NegBackward>)\n",
      "tensor(0.4482, device='cuda:0', grad_fn=<NegBackward>)\n"
     ]
    },
    {
     "name": "stderr",
     "output_type": "stream",
     "text": [
      "training loop:   6% |##                                         | ETA:  0:16:51\r"
     ]
    },
    {
     "name": "stdout",
     "output_type": "stream",
     "text": [
      "tensor(0.4322, device='cuda:0', grad_fn=<NegBackward>)\n",
      "tensor(0.4321, device='cuda:0', grad_fn=<NegBackward>)\n",
      "tensor(0.4320, device='cuda:0', grad_fn=<NegBackward>)\n",
      "tensor(0.4318, device='cuda:0', grad_fn=<NegBackward>)\n"
     ]
    },
    {
     "name": "stderr",
     "output_type": "stream",
     "text": [
      "training loop:   6% |##                                         | ETA:  0:16:49\r"
     ]
    },
    {
     "name": "stdout",
     "output_type": "stream",
     "text": [
      "tensor(0.3243, device='cuda:0', grad_fn=<NegBackward>)\n",
      "tensor(0.3242, device='cuda:0', grad_fn=<NegBackward>)\n",
      "tensor(0.3241, device='cuda:0', grad_fn=<NegBackward>)\n",
      "tensor(0.3240, device='cuda:0', grad_fn=<NegBackward>)\n"
     ]
    },
    {
     "name": "stderr",
     "output_type": "stream",
     "text": [
      "training loop:   6% |##                                         | ETA:  0:16:47\r"
     ]
    },
    {
     "name": "stdout",
     "output_type": "stream",
     "text": [
      "tensor(0.2827, device='cuda:0', grad_fn=<NegBackward>)\n",
      "tensor(0.2826, device='cuda:0', grad_fn=<NegBackward>)\n",
      "tensor(0.2825, device='cuda:0', grad_fn=<NegBackward>)\n",
      "tensor(0.2824, device='cuda:0', grad_fn=<NegBackward>)\n",
      "Episode: 20, score: 0.047000\n",
      "[0.         0.         0.         0.         0.21       0.\n",
      " 0.29999999 0.         0.         0.         0.         0.\n",
      " 0.07       0.         0.         0.35999999 0.         0.\n",
      " 0.         0.        ]\n"
     ]
    },
    {
     "name": "stderr",
     "output_type": "stream",
     "text": [
      "training loop:   7% |###                                        | ETA:  0:16:46\r"
     ]
    },
    {
     "name": "stdout",
     "output_type": "stream",
     "text": [
      "tensor(0.2725, device='cuda:0', grad_fn=<NegBackward>)\n",
      "tensor(0.2725, device='cuda:0', grad_fn=<NegBackward>)\n",
      "tensor(0.2724, device='cuda:0', grad_fn=<NegBackward>)\n",
      "tensor(0.2723, device='cuda:0', grad_fn=<NegBackward>)\n"
     ]
    },
    {
     "name": "stderr",
     "output_type": "stream",
     "text": [
      "training loop:   7% |###                                        | ETA:  0:16:44\r"
     ]
    },
    {
     "name": "stdout",
     "output_type": "stream",
     "text": [
      "tensor(0.4320, device='cuda:0', grad_fn=<NegBackward>)\n",
      "tensor(0.4319, device='cuda:0', grad_fn=<NegBackward>)\n",
      "tensor(0.4318, device='cuda:0', grad_fn=<NegBackward>)\n",
      "tensor(0.4316, device='cuda:0', grad_fn=<NegBackward>)\n"
     ]
    },
    {
     "name": "stderr",
     "output_type": "stream",
     "text": [
      "training loop:   7% |###                                        | ETA:  0:16:41\r"
     ]
    },
    {
     "name": "stdout",
     "output_type": "stream",
     "text": [
      "tensor(0.3185, device='cuda:0', grad_fn=<NegBackward>)\n",
      "tensor(0.3184, device='cuda:0', grad_fn=<NegBackward>)\n",
      "tensor(0.3184, device='cuda:0', grad_fn=<NegBackward>)\n",
      "tensor(0.3183, device='cuda:0', grad_fn=<NegBackward>)\n"
     ]
    },
    {
     "name": "stderr",
     "output_type": "stream",
     "text": [
      "training loop:   8% |###                                        | ETA:  0:16:39\r"
     ]
    },
    {
     "name": "stdout",
     "output_type": "stream",
     "text": [
      "tensor(0.3206, device='cuda:0', grad_fn=<NegBackward>)\n",
      "tensor(0.3206, device='cuda:0', grad_fn=<NegBackward>)\n",
      "tensor(0.3205, device='cuda:0', grad_fn=<NegBackward>)\n",
      "tensor(0.3204, device='cuda:0', grad_fn=<NegBackward>)\n"
     ]
    },
    {
     "name": "stderr",
     "output_type": "stream",
     "text": [
      "training loop:   8% |###                                        | ETA:  0:16:36\r"
     ]
    },
    {
     "name": "stdout",
     "output_type": "stream",
     "text": [
      "tensor(0.1849, device='cuda:0', grad_fn=<NegBackward>)\n",
      "tensor(0.1848, device='cuda:0', grad_fn=<NegBackward>)\n",
      "tensor(0.1848, device='cuda:0', grad_fn=<NegBackward>)\n",
      "tensor(0.1847, device='cuda:0', grad_fn=<NegBackward>)\n"
     ]
    },
    {
     "name": "stderr",
     "output_type": "stream",
     "text": [
      "training loop:   8% |###                                        | ETA:  0:16:32\r"
     ]
    },
    {
     "name": "stdout",
     "output_type": "stream",
     "text": [
      "tensor(0.2885, device='cuda:0', grad_fn=<NegBackward>)\n",
      "tensor(0.2885, device='cuda:0', grad_fn=<NegBackward>)\n",
      "tensor(0.2884, device='cuda:0', grad_fn=<NegBackward>)\n",
      "tensor(0.2883, device='cuda:0', grad_fn=<NegBackward>)\n"
     ]
    },
    {
     "name": "stderr",
     "output_type": "stream",
     "text": [
      "training loop:   9% |###                                        | ETA:  0:16:28\r"
     ]
    },
    {
     "name": "stdout",
     "output_type": "stream",
     "text": [
      "tensor(0.1953, device='cuda:0', grad_fn=<NegBackward>)\n",
      "tensor(0.1953, device='cuda:0', grad_fn=<NegBackward>)\n",
      "tensor(0.1952, device='cuda:0', grad_fn=<NegBackward>)\n",
      "tensor(0.1952, device='cuda:0', grad_fn=<NegBackward>)\n"
     ]
    },
    {
     "name": "stderr",
     "output_type": "stream",
     "text": [
      "training loop:   9% |####                                       | ETA:  0:16:24\r"
     ]
    },
    {
     "name": "stdout",
     "output_type": "stream",
     "text": [
      "tensor(0.2889, device='cuda:0', grad_fn=<NegBackward>)\n",
      "tensor(0.2888, device='cuda:0', grad_fn=<NegBackward>)\n",
      "tensor(0.2887, device='cuda:0', grad_fn=<NegBackward>)\n",
      "tensor(0.2886, device='cuda:0', grad_fn=<NegBackward>)\n"
     ]
    },
    {
     "name": "stderr",
     "output_type": "stream",
     "text": [
      "training loop:   9% |####                                       | ETA:  0:16:22\r"
     ]
    },
    {
     "name": "stdout",
     "output_type": "stream",
     "text": [
      "tensor(0.2364, device='cuda:0', grad_fn=<NegBackward>)\n",
      "tensor(0.2364, device='cuda:0', grad_fn=<NegBackward>)\n",
      "tensor(0.2364, device='cuda:0', grad_fn=<NegBackward>)\n",
      "tensor(0.2363, device='cuda:0', grad_fn=<NegBackward>)\n"
     ]
    },
    {
     "name": "stderr",
     "output_type": "stream",
     "text": [
      "training loop:  10% |####                                       | ETA:  0:16:19\r"
     ]
    },
    {
     "name": "stdout",
     "output_type": "stream",
     "text": [
      "tensor(0.2564, device='cuda:0', grad_fn=<NegBackward>)\n",
      "tensor(0.2563, device='cuda:0', grad_fn=<NegBackward>)\n",
      "tensor(0.2563, device='cuda:0', grad_fn=<NegBackward>)\n",
      "tensor(0.2562, device='cuda:0', grad_fn=<NegBackward>)\n",
      "Episode: 30, score: 0.028500\n",
      "[0.         0.         0.         0.         0.         0.41999999\n",
      " 0.         0.         0.         0.         0.         0.\n",
      " 0.         0.15       0.         0.         0.         0.\n",
      " 0.         0.        ]\n"
     ]
    },
    {
     "name": "stderr",
     "output_type": "stream",
     "text": [
      "training loop:  10% |####                                       | ETA:  0:16:18\r"
     ]
    },
    {
     "name": "stdout",
     "output_type": "stream",
     "text": [
      "tensor(0.2030, device='cuda:0', grad_fn=<NegBackward>)\n",
      "tensor(0.2030, device='cuda:0', grad_fn=<NegBackward>)\n",
      "tensor(0.2029, device='cuda:0', grad_fn=<NegBackward>)\n",
      "tensor(0.2028, device='cuda:0', grad_fn=<NegBackward>)\n"
     ]
    },
    {
     "name": "stderr",
     "output_type": "stream",
     "text": [
      "training loop:  10% |####                                       | ETA:  0:16:15\r"
     ]
    },
    {
     "name": "stdout",
     "output_type": "stream",
     "text": [
      "tensor(0.0107, device='cuda:0', grad_fn=<NegBackward>)\n",
      "tensor(0.0107, device='cuda:0', grad_fn=<NegBackward>)\n",
      "tensor(0.0107, device='cuda:0', grad_fn=<NegBackward>)\n",
      "tensor(0.0107, device='cuda:0', grad_fn=<NegBackward>)\n"
     ]
    },
    {
     "name": "stderr",
     "output_type": "stream",
     "text": [
      "training loop:  11% |####                                       | ETA:  0:16:11\r"
     ]
    },
    {
     "name": "stdout",
     "output_type": "stream",
     "text": [
      "tensor(0.0210, device='cuda:0', grad_fn=<NegBackward>)\n",
      "tensor(0.0210, device='cuda:0', grad_fn=<NegBackward>)\n",
      "tensor(0.0210, device='cuda:0', grad_fn=<NegBackward>)\n",
      "tensor(0.0210, device='cuda:0', grad_fn=<NegBackward>)\n"
     ]
    },
    {
     "name": "stderr",
     "output_type": "stream",
     "text": [
      "training loop:  11% |####                                       | ETA:  0:16:07\r"
     ]
    },
    {
     "name": "stdout",
     "output_type": "stream",
     "text": [
      "tensor(0.1802, device='cuda:0', grad_fn=<NegBackward>)\n",
      "tensor(0.1802, device='cuda:0', grad_fn=<NegBackward>)\n",
      "tensor(0.1801, device='cuda:0', grad_fn=<NegBackward>)\n",
      "tensor(0.1800, device='cuda:0', grad_fn=<NegBackward>)\n"
     ]
    },
    {
     "name": "stderr",
     "output_type": "stream",
     "text": [
      "training loop:  11% |#####                                      | ETA:  0:16:03\r"
     ]
    },
    {
     "name": "stdout",
     "output_type": "stream",
     "text": [
      "tensor(0.2449, device='cuda:0', grad_fn=<NegBackward>)\n",
      "tensor(0.2449, device='cuda:0', grad_fn=<NegBackward>)\n",
      "tensor(0.2448, device='cuda:0', grad_fn=<NegBackward>)\n",
      "tensor(0.2448, device='cuda:0', grad_fn=<NegBackward>)\n"
     ]
    },
    {
     "name": "stderr",
     "output_type": "stream",
     "text": [
      "training loop:  12% |#####                                      | ETA:  0:15:59\r"
     ]
    },
    {
     "name": "stdout",
     "output_type": "stream",
     "text": [
      "tensor(0.0691, device='cuda:0', grad_fn=<NegBackward>)\n",
      "tensor(0.0691, device='cuda:0', grad_fn=<NegBackward>)\n",
      "tensor(0.0691, device='cuda:0', grad_fn=<NegBackward>)\n",
      "tensor(0.0690, device='cuda:0', grad_fn=<NegBackward>)\n"
     ]
    },
    {
     "name": "stderr",
     "output_type": "stream",
     "text": [
      "training loop:  12% |#####                                      | ETA:  0:15:54\r"
     ]
    },
    {
     "name": "stdout",
     "output_type": "stream",
     "text": [
      "tensor(0.3140, device='cuda:0', grad_fn=<NegBackward>)\n",
      "tensor(0.3139, device='cuda:0', grad_fn=<NegBackward>)\n",
      "tensor(0.3139, device='cuda:0', grad_fn=<NegBackward>)\n",
      "tensor(0.3138, device='cuda:0', grad_fn=<NegBackward>)\n"
     ]
    },
    {
     "name": "stderr",
     "output_type": "stream",
     "text": [
      "training loop:  12% |#####                                      | ETA:  0:15:50\r"
     ]
    },
    {
     "name": "stdout",
     "output_type": "stream",
     "text": [
      "tensor(0.2063, device='cuda:0', grad_fn=<NegBackward>)\n",
      "tensor(0.2063, device='cuda:0', grad_fn=<NegBackward>)\n",
      "tensor(0.2063, device='cuda:0', grad_fn=<NegBackward>)\n",
      "tensor(0.2062, device='cuda:0', grad_fn=<NegBackward>)\n"
     ]
    },
    {
     "name": "stderr",
     "output_type": "stream",
     "text": [
      "training loop:  13% |#####                                      | ETA:  0:15:47\r"
     ]
    },
    {
     "name": "stdout",
     "output_type": "stream",
     "text": [
      "tensor(0.2073, device='cuda:0', grad_fn=<NegBackward>)\n",
      "tensor(0.2073, device='cuda:0', grad_fn=<NegBackward>)\n",
      "tensor(0.2072, device='cuda:0', grad_fn=<NegBackward>)\n",
      "tensor(0.2072, device='cuda:0', grad_fn=<NegBackward>)\n"
     ]
    },
    {
     "name": "stderr",
     "output_type": "stream",
     "text": [
      "training loop:  13% |#####                                      | ETA:  0:15:44\r"
     ]
    },
    {
     "name": "stdout",
     "output_type": "stream",
     "text": [
      "tensor(0.1322, device='cuda:0', grad_fn=<NegBackward>)\n",
      "tensor(0.1322, device='cuda:0', grad_fn=<NegBackward>)\n",
      "tensor(0.1322, device='cuda:0', grad_fn=<NegBackward>)\n",
      "tensor(0.1321, device='cuda:0', grad_fn=<NegBackward>)\n",
      "Episode: 40, score: 0.006000\n",
      "[0.   0.   0.   0.   0.   0.   0.   0.   0.   0.   0.   0.   0.   0.\n",
      " 0.   0.   0.   0.12 0.   0.  ]\n"
     ]
    },
    {
     "name": "stderr",
     "output_type": "stream",
     "text": [
      "training loop:  13% |#####                                      | ETA:  0:15:40\r"
     ]
    },
    {
     "name": "stdout",
     "output_type": "stream",
     "text": [
      "tensor(0.2294, device='cuda:0', grad_fn=<NegBackward>)\n",
      "tensor(0.2294, device='cuda:0', grad_fn=<NegBackward>)\n",
      "tensor(0.2293, device='cuda:0', grad_fn=<NegBackward>)\n",
      "tensor(0.2292, device='cuda:0', grad_fn=<NegBackward>)\n"
     ]
    },
    {
     "name": "stderr",
     "output_type": "stream",
     "text": [
      "training loop:  14% |######                                     | ETA:  0:15:36\r"
     ]
    },
    {
     "name": "stdout",
     "output_type": "stream",
     "text": [
      "tensor(0.4067, device='cuda:0', grad_fn=<NegBackward>)\n",
      "tensor(0.4066, device='cuda:0', grad_fn=<NegBackward>)\n",
      "tensor(0.4065, device='cuda:0', grad_fn=<NegBackward>)\n",
      "tensor(0.4063, device='cuda:0', grad_fn=<NegBackward>)\n"
     ]
    },
    {
     "name": "stderr",
     "output_type": "stream",
     "text": [
      "training loop:  14% |######                                     | ETA:  0:15:31\r"
     ]
    },
    {
     "name": "stdout",
     "output_type": "stream",
     "text": [
      "tensor(0.3695, device='cuda:0', grad_fn=<NegBackward>)\n",
      "tensor(0.3695, device='cuda:0', grad_fn=<NegBackward>)\n",
      "tensor(0.3693, device='cuda:0', grad_fn=<NegBackward>)\n",
      "tensor(0.3692, device='cuda:0', grad_fn=<NegBackward>)\n"
     ]
    },
    {
     "name": "stderr",
     "output_type": "stream",
     "text": [
      "training loop:  14% |######                                     | ETA:  0:15:27\r"
     ]
    },
    {
     "name": "stdout",
     "output_type": "stream",
     "text": [
      "tensor(0.3381, device='cuda:0', grad_fn=<NegBackward>)\n",
      "tensor(0.3380, device='cuda:0', grad_fn=<NegBackward>)\n",
      "tensor(0.3379, device='cuda:0', grad_fn=<NegBackward>)\n",
      "tensor(0.3378, device='cuda:0', grad_fn=<NegBackward>)\n"
     ]
    },
    {
     "name": "stderr",
     "output_type": "stream",
     "text": [
      "training loop:  15% |######                                     | ETA:  0:15:23\r"
     ]
    },
    {
     "name": "stdout",
     "output_type": "stream",
     "text": [
      "tensor(0.3363, device='cuda:0', grad_fn=<NegBackward>)\n",
      "tensor(0.3363, device='cuda:0', grad_fn=<NegBackward>)\n",
      "tensor(0.3362, device='cuda:0', grad_fn=<NegBackward>)\n",
      "tensor(0.3360, device='cuda:0', grad_fn=<NegBackward>)\n"
     ]
    },
    {
     "name": "stderr",
     "output_type": "stream",
     "text": [
      "training loop:  15% |######                                     | ETA:  0:15:19\r"
     ]
    },
    {
     "name": "stdout",
     "output_type": "stream",
     "text": [
      "tensor(0.1594, device='cuda:0', grad_fn=<NegBackward>)\n",
      "tensor(0.1594, device='cuda:0', grad_fn=<NegBackward>)\n",
      "tensor(0.1593, device='cuda:0', grad_fn=<NegBackward>)\n",
      "tensor(0.1593, device='cuda:0', grad_fn=<NegBackward>)\n"
     ]
    },
    {
     "name": "stderr",
     "output_type": "stream",
     "text": [
      "training loop:  15% |######                                     | ETA:  0:15:15\r"
     ]
    },
    {
     "name": "stdout",
     "output_type": "stream",
     "text": [
      "tensor(0.3744, device='cuda:0', grad_fn=<NegBackward>)\n",
      "tensor(0.3744, device='cuda:0', grad_fn=<NegBackward>)\n",
      "tensor(0.3743, device='cuda:0', grad_fn=<NegBackward>)\n",
      "tensor(0.3741, device='cuda:0', grad_fn=<NegBackward>)\n"
     ]
    },
    {
     "name": "stderr",
     "output_type": "stream",
     "text": [
      "training loop:  16% |######                                     | ETA:  0:15:11\r"
     ]
    },
    {
     "name": "stdout",
     "output_type": "stream",
     "text": [
      "tensor(0.2891, device='cuda:0', grad_fn=<NegBackward>)\n",
      "tensor(0.2891, device='cuda:0', grad_fn=<NegBackward>)\n",
      "tensor(0.2890, device='cuda:0', grad_fn=<NegBackward>)\n",
      "tensor(0.2889, device='cuda:0', grad_fn=<NegBackward>)\n"
     ]
    },
    {
     "name": "stderr",
     "output_type": "stream",
     "text": [
      "training loop:  16% |#######                                    | ETA:  0:15:08\r"
     ]
    },
    {
     "name": "stdout",
     "output_type": "stream",
     "text": [
      "tensor(-0., device='cuda:0', grad_fn=<NegBackward>)\n",
      "tensor(-0., device='cuda:0', grad_fn=<NegBackward>)\n",
      "tensor(-0., device='cuda:0', grad_fn=<NegBackward>)\n",
      "tensor(-0., device='cuda:0', grad_fn=<NegBackward>)\n"
     ]
    },
    {
     "name": "stderr",
     "output_type": "stream",
     "text": [
      "training loop:  16% |#######                                    | ETA:  0:15:04\r"
     ]
    },
    {
     "name": "stdout",
     "output_type": "stream",
     "text": [
      "tensor(0.2675, device='cuda:0', grad_fn=<NegBackward>)\n",
      "tensor(0.2675, device='cuda:0', grad_fn=<NegBackward>)\n",
      "tensor(0.2674, device='cuda:0', grad_fn=<NegBackward>)\n",
      "tensor(0.2673, device='cuda:0', grad_fn=<NegBackward>)\n",
      "Episode: 50, score: 0.029500\n",
      "[0.         0.         0.         0.         0.         0.\n",
      " 0.         0.         0.         0.         0.34999999 0.\n",
      " 0.         0.         0.         0.         0.23999999 0.\n",
      " 0.         0.        ]\n"
     ]
    },
    {
     "name": "stderr",
     "output_type": "stream",
     "text": [
      "training loop:  17% |#######                                    | ETA:  0:15:00\r"
     ]
    },
    {
     "name": "stdout",
     "output_type": "stream",
     "text": [
      "tensor(0.3468, device='cuda:0', grad_fn=<NegBackward>)\n",
      "tensor(0.3467, device='cuda:0', grad_fn=<NegBackward>)\n",
      "tensor(0.3465, device='cuda:0', grad_fn=<NegBackward>)\n",
      "tensor(0.3463, device='cuda:0', grad_fn=<NegBackward>)\n"
     ]
    },
    {
     "name": "stderr",
     "output_type": "stream",
     "text": [
      "training loop:  17% |#######                                    | ETA:  0:14:56\r"
     ]
    },
    {
     "name": "stdout",
     "output_type": "stream",
     "text": [
      "tensor(0.2288, device='cuda:0', grad_fn=<NegBackward>)\n",
      "tensor(0.2288, device='cuda:0', grad_fn=<NegBackward>)\n",
      "tensor(0.2286, device='cuda:0', grad_fn=<NegBackward>)\n",
      "tensor(0.2286, device='cuda:0', grad_fn=<NegBackward>)\n"
     ]
    },
    {
     "name": "stderr",
     "output_type": "stream",
     "text": [
      "training loop:  17% |#######                                    | ETA:  0:14:52\r"
     ]
    },
    {
     "name": "stdout",
     "output_type": "stream",
     "text": [
      "tensor(0.2843, device='cuda:0', grad_fn=<NegBackward>)\n",
      "tensor(0.2842, device='cuda:0', grad_fn=<NegBackward>)\n",
      "tensor(0.2842, device='cuda:0', grad_fn=<NegBackward>)\n",
      "tensor(0.2841, device='cuda:0', grad_fn=<NegBackward>)\n"
     ]
    },
    {
     "name": "stderr",
     "output_type": "stream",
     "text": [
      "training loop:  18% |#######                                    | ETA:  0:14:48\r"
     ]
    },
    {
     "name": "stdout",
     "output_type": "stream",
     "text": [
      "tensor(0.2432, device='cuda:0', grad_fn=<NegBackward>)\n",
      "tensor(0.2432, device='cuda:0', grad_fn=<NegBackward>)\n",
      "tensor(0.2431, device='cuda:0', grad_fn=<NegBackward>)\n",
      "tensor(0.2430, device='cuda:0', grad_fn=<NegBackward>)\n"
     ]
    },
    {
     "name": "stderr",
     "output_type": "stream",
     "text": [
      "training loop:  18% |#######                                    | ETA:  0:14:45\r"
     ]
    },
    {
     "name": "stdout",
     "output_type": "stream",
     "text": [
      "tensor(0.3834, device='cuda:0', grad_fn=<NegBackward>)\n",
      "tensor(0.3834, device='cuda:0', grad_fn=<NegBackward>)\n",
      "tensor(0.3832, device='cuda:0', grad_fn=<NegBackward>)\n",
      "tensor(0.3831, device='cuda:0', grad_fn=<NegBackward>)\n"
     ]
    },
    {
     "name": "stderr",
     "output_type": "stream",
     "text": [
      "training loop:  18% |########                                   | ETA:  0:14:41\r"
     ]
    },
    {
     "name": "stdout",
     "output_type": "stream",
     "text": [
      "tensor(0.2194, device='cuda:0', grad_fn=<NegBackward>)\n",
      "tensor(0.2194, device='cuda:0', grad_fn=<NegBackward>)\n",
      "tensor(0.2193, device='cuda:0', grad_fn=<NegBackward>)\n",
      "tensor(0.2192, device='cuda:0', grad_fn=<NegBackward>)\n"
     ]
    },
    {
     "name": "stderr",
     "output_type": "stream",
     "text": [
      "training loop:  19% |########                                   | ETA:  0:14:37\r"
     ]
    },
    {
     "name": "stdout",
     "output_type": "stream",
     "text": [
      "tensor(0.3289, device='cuda:0', grad_fn=<NegBackward>)\n",
      "tensor(0.3288, device='cuda:0', grad_fn=<NegBackward>)\n",
      "tensor(0.3287, device='cuda:0', grad_fn=<NegBackward>)\n",
      "tensor(0.3286, device='cuda:0', grad_fn=<NegBackward>)\n"
     ]
    },
    {
     "name": "stderr",
     "output_type": "stream",
     "text": [
      "training loop:  19% |########                                   | ETA:  0:14:33\r"
     ]
    },
    {
     "name": "stdout",
     "output_type": "stream",
     "text": [
      "tensor(0.2786, device='cuda:0', grad_fn=<NegBackward>)\n",
      "tensor(0.2785, device='cuda:0', grad_fn=<NegBackward>)\n",
      "tensor(0.2785, device='cuda:0', grad_fn=<NegBackward>)\n",
      "tensor(0.2784, device='cuda:0', grad_fn=<NegBackward>)\n"
     ]
    },
    {
     "name": "stderr",
     "output_type": "stream",
     "text": [
      "training loop:  19% |########                                   | ETA:  0:14:29\r"
     ]
    },
    {
     "name": "stdout",
     "output_type": "stream",
     "text": [
      "tensor(0.1781, device='cuda:0', grad_fn=<NegBackward>)\n",
      "tensor(0.1780, device='cuda:0', grad_fn=<NegBackward>)\n",
      "tensor(0.1780, device='cuda:0', grad_fn=<NegBackward>)\n",
      "tensor(0.1779, device='cuda:0', grad_fn=<NegBackward>)\n"
     ]
    },
    {
     "name": "stderr",
     "output_type": "stream",
     "text": [
      "training loop:  20% |########                                   | ETA:  0:14:26\r"
     ]
    },
    {
     "name": "stdout",
     "output_type": "stream",
     "text": [
      "tensor(0.3980, device='cuda:0', grad_fn=<NegBackward>)\n",
      "tensor(0.3979, device='cuda:0', grad_fn=<NegBackward>)\n",
      "tensor(0.3977, device='cuda:0', grad_fn=<NegBackward>)\n",
      "tensor(0.3975, device='cuda:0', grad_fn=<NegBackward>)\n",
      "Episode: 60, score: 0.029500\n",
      "[0.   0.   0.   0.   0.   0.   0.   0.   0.   0.16 0.07 0.   0.   0.17\n",
      " 0.   0.   0.   0.   0.19 0.  ]\n"
     ]
    },
    {
     "name": "stderr",
     "output_type": "stream",
     "text": [
      "training loop:  20% |########                                   | ETA:  0:14:22\r"
     ]
    },
    {
     "name": "stdout",
     "output_type": "stream",
     "text": [
      "tensor(0.0241, device='cuda:0', grad_fn=<NegBackward>)\n",
      "tensor(0.0241, device='cuda:0', grad_fn=<NegBackward>)\n",
      "tensor(0.0241, device='cuda:0', grad_fn=<NegBackward>)\n",
      "tensor(0.0241, device='cuda:0', grad_fn=<NegBackward>)\n"
     ]
    },
    {
     "name": "stderr",
     "output_type": "stream",
     "text": [
      "training loop:  20% |########                                   | ETA:  0:14:19\r"
     ]
    },
    {
     "name": "stdout",
     "output_type": "stream",
     "text": [
      "tensor(0.5006, device='cuda:0', grad_fn=<NegBackward>)\n",
      "tensor(0.5005, device='cuda:0', grad_fn=<NegBackward>)\n",
      "tensor(0.5003, device='cuda:0', grad_fn=<NegBackward>)\n",
      "tensor(0.5001, device='cuda:0', grad_fn=<NegBackward>)\n"
     ]
    },
    {
     "name": "stderr",
     "output_type": "stream",
     "text": [
      "training loop:  21% |#########                                  | ETA:  0:14:15\r"
     ]
    },
    {
     "name": "stdout",
     "output_type": "stream",
     "text": [
      "tensor(0.2027, device='cuda:0', grad_fn=<NegBackward>)\n",
      "tensor(0.2028, device='cuda:0', grad_fn=<NegBackward>)\n",
      "tensor(0.2026, device='cuda:0', grad_fn=<NegBackward>)\n",
      "tensor(0.2025, device='cuda:0', grad_fn=<NegBackward>)\n"
     ]
    },
    {
     "name": "stderr",
     "output_type": "stream",
     "text": [
      "training loop:  21% |#########                                  | ETA:  0:14:11\r"
     ]
    },
    {
     "name": "stdout",
     "output_type": "stream",
     "text": [
      "tensor(0.0301, device='cuda:0', grad_fn=<NegBackward>)\n",
      "tensor(0.0301, device='cuda:0', grad_fn=<NegBackward>)\n",
      "tensor(0.0301, device='cuda:0', grad_fn=<NegBackward>)\n",
      "tensor(0.0301, device='cuda:0', grad_fn=<NegBackward>)\n"
     ]
    },
    {
     "name": "stderr",
     "output_type": "stream",
     "text": [
      "training loop:  21% |#########                                  | ETA:  0:14:08\r"
     ]
    },
    {
     "name": "stdout",
     "output_type": "stream",
     "text": [
      "tensor(0.4014, device='cuda:0', grad_fn=<NegBackward>)\n",
      "tensor(0.4013, device='cuda:0', grad_fn=<NegBackward>)\n",
      "tensor(0.4012, device='cuda:0', grad_fn=<NegBackward>)\n",
      "tensor(0.4010, device='cuda:0', grad_fn=<NegBackward>)\n"
     ]
    },
    {
     "name": "stderr",
     "output_type": "stream",
     "text": [
      "training loop:  22% |#########                                  | ETA:  0:14:04\r"
     ]
    },
    {
     "name": "stdout",
     "output_type": "stream",
     "text": [
      "tensor(0.2294, device='cuda:0', grad_fn=<NegBackward>)\n",
      "tensor(0.2293, device='cuda:0', grad_fn=<NegBackward>)\n",
      "tensor(0.2292, device='cuda:0', grad_fn=<NegBackward>)\n",
      "tensor(0.2292, device='cuda:0', grad_fn=<NegBackward>)\n"
     ]
    },
    {
     "name": "stderr",
     "output_type": "stream",
     "text": [
      "training loop:  22% |#########                                  | ETA:  0:14:00\r"
     ]
    },
    {
     "name": "stdout",
     "output_type": "stream",
     "text": [
      "tensor(0.4114, device='cuda:0', grad_fn=<NegBackward>)\n",
      "tensor(0.4113, device='cuda:0', grad_fn=<NegBackward>)\n",
      "tensor(0.4112, device='cuda:0', grad_fn=<NegBackward>)\n",
      "tensor(0.4110, device='cuda:0', grad_fn=<NegBackward>)\n"
     ]
    },
    {
     "name": "stderr",
     "output_type": "stream",
     "text": [
      "training loop:  22% |#########                                  | ETA:  0:13:57\r"
     ]
    },
    {
     "name": "stdout",
     "output_type": "stream",
     "text": [
      "tensor(0.2423, device='cuda:0', grad_fn=<NegBackward>)\n",
      "tensor(0.2423, device='cuda:0', grad_fn=<NegBackward>)\n",
      "tensor(0.2422, device='cuda:0', grad_fn=<NegBackward>)\n",
      "tensor(0.2421, device='cuda:0', grad_fn=<NegBackward>)\n"
     ]
    },
    {
     "name": "stderr",
     "output_type": "stream",
     "text": [
      "training loop:  23% |#########                                  | ETA:  0:13:53\r"
     ]
    },
    {
     "name": "stdout",
     "output_type": "stream",
     "text": [
      "tensor(0.3174, device='cuda:0', grad_fn=<NegBackward>)\n",
      "tensor(0.3173, device='cuda:0', grad_fn=<NegBackward>)\n",
      "tensor(0.3172, device='cuda:0', grad_fn=<NegBackward>)\n",
      "tensor(0.3172, device='cuda:0', grad_fn=<NegBackward>)\n"
     ]
    },
    {
     "name": "stderr",
     "output_type": "stream",
     "text": [
      "training loop:  23% |##########                                 | ETA:  0:13:49\r"
     ]
    },
    {
     "name": "stdout",
     "output_type": "stream",
     "text": [
      "tensor(0.2232, device='cuda:0', grad_fn=<NegBackward>)\n",
      "tensor(0.2232, device='cuda:0', grad_fn=<NegBackward>)\n",
      "tensor(0.2231, device='cuda:0', grad_fn=<NegBackward>)\n",
      "tensor(0.2230, device='cuda:0', grad_fn=<NegBackward>)\n",
      "Episode: 70, score: 0.009500\n",
      "[0.   0.   0.   0.   0.   0.   0.   0.   0.   0.   0.   0.   0.   0.\n",
      " 0.   0.   0.19 0.   0.   0.  ]\n"
     ]
    },
    {
     "name": "stderr",
     "output_type": "stream",
     "text": [
      "training loop:  23% |##########                                 | ETA:  0:13:46\r"
     ]
    },
    {
     "name": "stdout",
     "output_type": "stream",
     "text": [
      "tensor(-0., device='cuda:0', grad_fn=<NegBackward>)\n",
      "tensor(-0., device='cuda:0', grad_fn=<NegBackward>)\n",
      "tensor(-0., device='cuda:0', grad_fn=<NegBackward>)\n",
      "tensor(-0., device='cuda:0', grad_fn=<NegBackward>)\n"
     ]
    },
    {
     "name": "stderr",
     "output_type": "stream",
     "text": [
      "training loop:  24% |##########                                 | ETA:  0:13:42\r"
     ]
    },
    {
     "name": "stdout",
     "output_type": "stream",
     "text": [
      "tensor(0.2707, device='cuda:0', grad_fn=<NegBackward>)\n",
      "tensor(0.2707, device='cuda:0', grad_fn=<NegBackward>)\n",
      "tensor(0.2706, device='cuda:0', grad_fn=<NegBackward>)\n",
      "tensor(0.2705, device='cuda:0', grad_fn=<NegBackward>)\n"
     ]
    },
    {
     "name": "stderr",
     "output_type": "stream",
     "text": [
      "training loop:  24% |##########                                 | ETA:  0:13:39\r"
     ]
    },
    {
     "name": "stdout",
     "output_type": "stream",
     "text": [
      "tensor(0.3011, device='cuda:0', grad_fn=<NegBackward>)\n",
      "tensor(0.3010, device='cuda:0', grad_fn=<NegBackward>)\n",
      "tensor(0.3009, device='cuda:0', grad_fn=<NegBackward>)\n",
      "tensor(0.3008, device='cuda:0', grad_fn=<NegBackward>)\n"
     ]
    },
    {
     "name": "stderr",
     "output_type": "stream",
     "text": [
      "training loop:  24% |##########                                 | ETA:  0:13:35\r"
     ]
    },
    {
     "name": "stdout",
     "output_type": "stream",
     "text": [
      "tensor(-0., device='cuda:0', grad_fn=<NegBackward>)\n",
      "tensor(-0., device='cuda:0', grad_fn=<NegBackward>)\n",
      "tensor(-0., device='cuda:0', grad_fn=<NegBackward>)\n",
      "tensor(-0., device='cuda:0', grad_fn=<NegBackward>)\n"
     ]
    },
    {
     "name": "stderr",
     "output_type": "stream",
     "text": [
      "training loop:  25% |##########                                 | ETA:  0:13:32\r"
     ]
    },
    {
     "name": "stdout",
     "output_type": "stream",
     "text": [
      "tensor(0.1868, device='cuda:0', grad_fn=<NegBackward>)\n",
      "tensor(0.1867, device='cuda:0', grad_fn=<NegBackward>)\n",
      "tensor(0.1867, device='cuda:0', grad_fn=<NegBackward>)\n",
      "tensor(0.1866, device='cuda:0', grad_fn=<NegBackward>)\n"
     ]
    },
    {
     "name": "stderr",
     "output_type": "stream",
     "text": [
      "training loop:  25% |##########                                 | ETA:  0:13:28\r"
     ]
    },
    {
     "name": "stdout",
     "output_type": "stream",
     "text": [
      "tensor(0.1107, device='cuda:0', grad_fn=<NegBackward>)\n",
      "tensor(0.1106, device='cuda:0', grad_fn=<NegBackward>)\n",
      "tensor(0.1106, device='cuda:0', grad_fn=<NegBackward>)\n",
      "tensor(0.1105, device='cuda:0', grad_fn=<NegBackward>)\n"
     ]
    },
    {
     "name": "stderr",
     "output_type": "stream",
     "text": [
      "training loop:  25% |###########                                | ETA:  0:13:25\r"
     ]
    },
    {
     "name": "stdout",
     "output_type": "stream",
     "text": [
      "tensor(0.3481, device='cuda:0', grad_fn=<NegBackward>)\n",
      "tensor(0.3480, device='cuda:0', grad_fn=<NegBackward>)\n",
      "tensor(0.3478, device='cuda:0', grad_fn=<NegBackward>)\n",
      "tensor(0.3477, device='cuda:0', grad_fn=<NegBackward>)\n"
     ]
    },
    {
     "name": "stderr",
     "output_type": "stream",
     "text": [
      "training loop:  26% |###########                                | ETA:  0:13:21\r"
     ]
    },
    {
     "name": "stdout",
     "output_type": "stream",
     "text": [
      "tensor(0.0826, device='cuda:0', grad_fn=<NegBackward>)\n",
      "tensor(0.0826, device='cuda:0', grad_fn=<NegBackward>)\n",
      "tensor(0.0826, device='cuda:0', grad_fn=<NegBackward>)\n",
      "tensor(0.0825, device='cuda:0', grad_fn=<NegBackward>)\n"
     ]
    },
    {
     "name": "stderr",
     "output_type": "stream",
     "text": [
      "training loop:  26% |###########                                | ETA:  0:13:17\r"
     ]
    },
    {
     "name": "stdout",
     "output_type": "stream",
     "text": [
      "tensor(0.2412, device='cuda:0', grad_fn=<NegBackward>)\n",
      "tensor(0.2411, device='cuda:0', grad_fn=<NegBackward>)\n",
      "tensor(0.2411, device='cuda:0', grad_fn=<NegBackward>)\n",
      "tensor(0.2409, device='cuda:0', grad_fn=<NegBackward>)\n"
     ]
    },
    {
     "name": "stderr",
     "output_type": "stream",
     "text": [
      "training loop:  26% |###########                                | ETA:  0:13:14\r"
     ]
    },
    {
     "name": "stdout",
     "output_type": "stream",
     "text": [
      "tensor(0.2305, device='cuda:0', grad_fn=<NegBackward>)\n",
      "tensor(0.2305, device='cuda:0', grad_fn=<NegBackward>)\n",
      "tensor(0.2304, device='cuda:0', grad_fn=<NegBackward>)\n",
      "tensor(0.2303, device='cuda:0', grad_fn=<NegBackward>)\n",
      "Episode: 80, score: 0.006000\n",
      "[0.   0.   0.   0.   0.   0.   0.   0.   0.12 0.   0.   0.   0.   0.\n",
      " 0.   0.   0.   0.   0.   0.  ]\n"
     ]
    },
    {
     "name": "stderr",
     "output_type": "stream",
     "text": [
      "training loop:  27% |###########                                | ETA:  0:13:10\r"
     ]
    },
    {
     "name": "stdout",
     "output_type": "stream",
     "text": [
      "tensor(0.2749, device='cuda:0', grad_fn=<NegBackward>)\n",
      "tensor(0.2748, device='cuda:0', grad_fn=<NegBackward>)\n",
      "tensor(0.2747, device='cuda:0', grad_fn=<NegBackward>)\n",
      "tensor(0.2747, device='cuda:0', grad_fn=<NegBackward>)\n"
     ]
    },
    {
     "name": "stderr",
     "output_type": "stream",
     "text": [
      "training loop:  27% |###########                                | ETA:  0:13:07\r"
     ]
    },
    {
     "name": "stdout",
     "output_type": "stream",
     "text": [
      "tensor(0.3349, device='cuda:0', grad_fn=<NegBackward>)\n",
      "tensor(0.3348, device='cuda:0', grad_fn=<NegBackward>)\n",
      "tensor(0.3347, device='cuda:0', grad_fn=<NegBackward>)\n",
      "tensor(0.3346, device='cuda:0', grad_fn=<NegBackward>)\n"
     ]
    },
    {
     "name": "stderr",
     "output_type": "stream",
     "text": [
      "training loop:  27% |###########                                | ETA:  0:13:03\r"
     ]
    },
    {
     "name": "stdout",
     "output_type": "stream",
     "text": [
      "tensor(0.1390, device='cuda:0', grad_fn=<NegBackward>)\n",
      "tensor(0.1390, device='cuda:0', grad_fn=<NegBackward>)\n",
      "tensor(0.1390, device='cuda:0', grad_fn=<NegBackward>)\n",
      "tensor(0.1389, device='cuda:0', grad_fn=<NegBackward>)\n"
     ]
    },
    {
     "name": "stderr",
     "output_type": "stream",
     "text": [
      "training loop:  28% |############                               | ETA:  0:12:59\r"
     ]
    },
    {
     "name": "stdout",
     "output_type": "stream",
     "text": [
      "tensor(0.3756, device='cuda:0', grad_fn=<NegBackward>)\n",
      "tensor(0.3756, device='cuda:0', grad_fn=<NegBackward>)\n",
      "tensor(0.3754, device='cuda:0', grad_fn=<NegBackward>)\n",
      "tensor(0.3753, device='cuda:0', grad_fn=<NegBackward>)\n"
     ]
    },
    {
     "name": "stderr",
     "output_type": "stream",
     "text": [
      "training loop:  28% |############                               | ETA:  0:12:56\r"
     ]
    },
    {
     "name": "stdout",
     "output_type": "stream",
     "text": [
      "tensor(0.4167, device='cuda:0', grad_fn=<NegBackward>)\n",
      "tensor(0.4167, device='cuda:0', grad_fn=<NegBackward>)\n",
      "tensor(0.4165, device='cuda:0', grad_fn=<NegBackward>)\n",
      "tensor(0.4163, device='cuda:0', grad_fn=<NegBackward>)\n"
     ]
    },
    {
     "name": "stderr",
     "output_type": "stream",
     "text": [
      "training loop:  28% |############                               | ETA:  0:12:52\r"
     ]
    },
    {
     "name": "stdout",
     "output_type": "stream",
     "text": [
      "tensor(0.4024, device='cuda:0', grad_fn=<NegBackward>)\n",
      "tensor(0.4023, device='cuda:0', grad_fn=<NegBackward>)\n",
      "tensor(0.4022, device='cuda:0', grad_fn=<NegBackward>)\n",
      "tensor(0.4020, device='cuda:0', grad_fn=<NegBackward>)\n"
     ]
    },
    {
     "name": "stderr",
     "output_type": "stream",
     "text": [
      "training loop:  29% |############                               | ETA:  0:12:49\r"
     ]
    },
    {
     "name": "stdout",
     "output_type": "stream",
     "text": [
      "tensor(0.1590, device='cuda:0', grad_fn=<NegBackward>)\n",
      "tensor(0.1590, device='cuda:0', grad_fn=<NegBackward>)\n",
      "tensor(0.1589, device='cuda:0', grad_fn=<NegBackward>)\n",
      "tensor(0.1588, device='cuda:0', grad_fn=<NegBackward>)\n"
     ]
    },
    {
     "name": "stderr",
     "output_type": "stream",
     "text": [
      "training loop:  29% |############                               | ETA:  0:12:46\r"
     ]
    },
    {
     "name": "stdout",
     "output_type": "stream",
     "text": [
      "tensor(0.1554, device='cuda:0', grad_fn=<NegBackward>)\n",
      "tensor(0.1554, device='cuda:0', grad_fn=<NegBackward>)\n",
      "tensor(0.1553, device='cuda:0', grad_fn=<NegBackward>)\n",
      "tensor(0.1553, device='cuda:0', grad_fn=<NegBackward>)\n"
     ]
    },
    {
     "name": "stderr",
     "output_type": "stream",
     "text": [
      "training loop:  29% |############                               | ETA:  0:12:44\r"
     ]
    },
    {
     "name": "stdout",
     "output_type": "stream",
     "text": [
      "tensor(0.3245, device='cuda:0', grad_fn=<NegBackward>)\n",
      "tensor(0.3244, device='cuda:0', grad_fn=<NegBackward>)\n",
      "tensor(0.3244, device='cuda:0', grad_fn=<NegBackward>)\n",
      "tensor(0.3243, device='cuda:0', grad_fn=<NegBackward>)\n"
     ]
    },
    {
     "name": "stderr",
     "output_type": "stream",
     "text": [
      "training loop:  30% |############                               | ETA:  0:12:41\r"
     ]
    },
    {
     "name": "stdout",
     "output_type": "stream",
     "text": [
      "tensor(0.3742, device='cuda:0', grad_fn=<NegBackward>)\n",
      "tensor(0.3742, device='cuda:0', grad_fn=<NegBackward>)\n",
      "tensor(0.3740, device='cuda:0', grad_fn=<NegBackward>)\n",
      "tensor(0.3739, device='cuda:0', grad_fn=<NegBackward>)\n",
      "Episode: 90, score: 0.028500\n",
      "[0.         0.         0.22999999 0.         0.         0.\n",
      " 0.         0.         0.         0.         0.         0.\n",
      " 0.         0.         0.16       0.         0.         0.\n",
      " 0.18       0.        ]\n"
     ]
    },
    {
     "name": "stderr",
     "output_type": "stream",
     "text": [
      "training loop:  30% |#############                              | ETA:  0:12:38\r"
     ]
    },
    {
     "name": "stdout",
     "output_type": "stream",
     "text": [
      "tensor(-0., device='cuda:0', grad_fn=<NegBackward>)\n",
      "tensor(-0., device='cuda:0', grad_fn=<NegBackward>)\n",
      "tensor(-0., device='cuda:0', grad_fn=<NegBackward>)\n",
      "tensor(-0., device='cuda:0', grad_fn=<NegBackward>)\n"
     ]
    },
    {
     "name": "stderr",
     "output_type": "stream",
     "text": [
      "training loop:  30% |#############                              | ETA:  0:12:36\r"
     ]
    },
    {
     "name": "stdout",
     "output_type": "stream",
     "text": [
      "tensor(0.0764, device='cuda:0', grad_fn=<NegBackward>)\n",
      "tensor(0.0764, device='cuda:0', grad_fn=<NegBackward>)\n",
      "tensor(0.0764, device='cuda:0', grad_fn=<NegBackward>)\n",
      "tensor(0.0763, device='cuda:0', grad_fn=<NegBackward>)\n"
     ]
    },
    {
     "name": "stderr",
     "output_type": "stream",
     "text": [
      "training loop:  31% |#############                              | ETA:  0:12:32\r"
     ]
    },
    {
     "name": "stdout",
     "output_type": "stream",
     "text": [
      "tensor(0.3471, device='cuda:0', grad_fn=<NegBackward>)\n",
      "tensor(0.3470, device='cuda:0', grad_fn=<NegBackward>)\n",
      "tensor(0.3468, device='cuda:0', grad_fn=<NegBackward>)\n",
      "tensor(0.3467, device='cuda:0', grad_fn=<NegBackward>)\n"
     ]
    },
    {
     "name": "stderr",
     "output_type": "stream",
     "text": [
      "training loop:  31% |#############                              | ETA:  0:12:28\r"
     ]
    },
    {
     "name": "stdout",
     "output_type": "stream",
     "text": [
      "tensor(0.2909, device='cuda:0', grad_fn=<NegBackward>)\n",
      "tensor(0.2909, device='cuda:0', grad_fn=<NegBackward>)\n",
      "tensor(0.2909, device='cuda:0', grad_fn=<NegBackward>)\n",
      "tensor(0.2908, device='cuda:0', grad_fn=<NegBackward>)\n"
     ]
    },
    {
     "name": "stderr",
     "output_type": "stream",
     "text": [
      "training loop:  31% |#############                              | ETA:  0:12:25\r"
     ]
    },
    {
     "name": "stdout",
     "output_type": "stream",
     "text": [
      "tensor(0.1473, device='cuda:0', grad_fn=<NegBackward>)\n",
      "tensor(0.1473, device='cuda:0', grad_fn=<NegBackward>)\n",
      "tensor(0.1472, device='cuda:0', grad_fn=<NegBackward>)\n",
      "tensor(0.1472, device='cuda:0', grad_fn=<NegBackward>)\n"
     ]
    },
    {
     "name": "stderr",
     "output_type": "stream",
     "text": [
      "training loop:  32% |#############                              | ETA:  0:12:21\r"
     ]
    },
    {
     "name": "stdout",
     "output_type": "stream",
     "text": [
      "tensor(0.4280, device='cuda:0', grad_fn=<NegBackward>)\n",
      "tensor(0.4279, device='cuda:0', grad_fn=<NegBackward>)\n",
      "tensor(0.4277, device='cuda:0', grad_fn=<NegBackward>)\n",
      "tensor(0.4275, device='cuda:0', grad_fn=<NegBackward>)\n"
     ]
    },
    {
     "name": "stderr",
     "output_type": "stream",
     "text": [
      "training loop:  32% |#############                              | ETA:  0:12:18\r"
     ]
    },
    {
     "name": "stdout",
     "output_type": "stream",
     "text": [
      "tensor(0.3895, device='cuda:0', grad_fn=<NegBackward>)\n",
      "tensor(0.3895, device='cuda:0', grad_fn=<NegBackward>)\n",
      "tensor(0.3894, device='cuda:0', grad_fn=<NegBackward>)\n",
      "tensor(0.3892, device='cuda:0', grad_fn=<NegBackward>)\n"
     ]
    },
    {
     "name": "stderr",
     "output_type": "stream",
     "text": [
      "training loop:  32% |##############                             | ETA:  0:12:14\r"
     ]
    },
    {
     "name": "stdout",
     "output_type": "stream",
     "text": [
      "tensor(0.3729, device='cuda:0', grad_fn=<NegBackward>)\n",
      "tensor(0.3728, device='cuda:0', grad_fn=<NegBackward>)\n",
      "tensor(0.3726, device='cuda:0', grad_fn=<NegBackward>)\n",
      "tensor(0.3725, device='cuda:0', grad_fn=<NegBackward>)\n"
     ]
    },
    {
     "name": "stderr",
     "output_type": "stream",
     "text": [
      "training loop:  33% |##############                             | ETA:  0:12:11\r"
     ]
    },
    {
     "name": "stdout",
     "output_type": "stream",
     "text": [
      "tensor(0.2851, device='cuda:0', grad_fn=<NegBackward>)\n",
      "tensor(0.2850, device='cuda:0', grad_fn=<NegBackward>)\n",
      "tensor(0.2849, device='cuda:0', grad_fn=<NegBackward>)\n",
      "tensor(0.2847, device='cuda:0', grad_fn=<NegBackward>)\n"
     ]
    },
    {
     "name": "stderr",
     "output_type": "stream",
     "text": [
      "training loop:  33% |##############                             | ETA:  0:12:08\r"
     ]
    },
    {
     "name": "stdout",
     "output_type": "stream",
     "text": [
      "tensor(0.1773, device='cuda:0', grad_fn=<NegBackward>)\n",
      "tensor(0.1773, device='cuda:0', grad_fn=<NegBackward>)\n",
      "tensor(0.1772, device='cuda:0', grad_fn=<NegBackward>)\n",
      "tensor(0.1772, device='cuda:0', grad_fn=<NegBackward>)\n",
      "Episode: 100, score: 0.010500\n",
      "[0.   0.   0.   0.   0.   0.   0.   0.   0.   0.   0.   0.   0.   0.\n",
      " 0.21 0.   0.   0.   0.   0.  ]\n"
     ]
    },
    {
     "name": "stderr",
     "output_type": "stream",
     "text": [
      "training loop:  33% |##############                             | ETA:  0:12:04\r"
     ]
    },
    {
     "name": "stdout",
     "output_type": "stream",
     "text": [
      "tensor(0.1858, device='cuda:0', grad_fn=<NegBackward>)\n",
      "tensor(0.1858, device='cuda:0', grad_fn=<NegBackward>)\n",
      "tensor(0.1857, device='cuda:0', grad_fn=<NegBackward>)\n",
      "tensor(0.1856, device='cuda:0', grad_fn=<NegBackward>)\n"
     ]
    },
    {
     "name": "stderr",
     "output_type": "stream",
     "text": [
      "training loop:  34% |##############                             | ETA:  0:12:01\r"
     ]
    },
    {
     "name": "stdout",
     "output_type": "stream",
     "text": [
      "tensor(0.2590, device='cuda:0', grad_fn=<NegBackward>)\n",
      "tensor(0.2589, device='cuda:0', grad_fn=<NegBackward>)\n",
      "tensor(0.2588, device='cuda:0', grad_fn=<NegBackward>)\n",
      "tensor(0.2587, device='cuda:0', grad_fn=<NegBackward>)\n"
     ]
    },
    {
     "name": "stderr",
     "output_type": "stream",
     "text": [
      "training loop:  34% |##############                             | ETA:  0:11:57\r"
     ]
    },
    {
     "name": "stdout",
     "output_type": "stream",
     "text": [
      "tensor(0.3347, device='cuda:0', grad_fn=<NegBackward>)\n",
      "tensor(0.3347, device='cuda:0', grad_fn=<NegBackward>)\n",
      "tensor(0.3346, device='cuda:0', grad_fn=<NegBackward>)\n",
      "tensor(0.3345, device='cuda:0', grad_fn=<NegBackward>)\n"
     ]
    },
    {
     "name": "stderr",
     "output_type": "stream",
     "text": [
      "training loop:  34% |##############                             | ETA:  0:11:54\r"
     ]
    },
    {
     "name": "stdout",
     "output_type": "stream",
     "text": [
      "tensor(0.2043, device='cuda:0', grad_fn=<NegBackward>)\n",
      "tensor(0.2042, device='cuda:0', grad_fn=<NegBackward>)\n",
      "tensor(0.2042, device='cuda:0', grad_fn=<NegBackward>)\n",
      "tensor(0.2041, device='cuda:0', grad_fn=<NegBackward>)\n"
     ]
    },
    {
     "name": "stderr",
     "output_type": "stream",
     "text": [
      "training loop:  35% |###############                            | ETA:  0:11:51\r"
     ]
    },
    {
     "name": "stdout",
     "output_type": "stream",
     "text": [
      "tensor(0.4129, device='cuda:0', grad_fn=<NegBackward>)\n",
      "tensor(0.4128, device='cuda:0', grad_fn=<NegBackward>)\n",
      "tensor(0.4126, device='cuda:0', grad_fn=<NegBackward>)\n",
      "tensor(0.4125, device='cuda:0', grad_fn=<NegBackward>)\n"
     ]
    },
    {
     "name": "stderr",
     "output_type": "stream",
     "text": [
      "training loop:  35% |###############                            | ETA:  0:11:47\r"
     ]
    },
    {
     "name": "stdout",
     "output_type": "stream",
     "text": [
      "tensor(0.2386, device='cuda:0', grad_fn=<NegBackward>)\n",
      "tensor(0.2386, device='cuda:0', grad_fn=<NegBackward>)\n",
      "tensor(0.2386, device='cuda:0', grad_fn=<NegBackward>)\n",
      "tensor(0.2385, device='cuda:0', grad_fn=<NegBackward>)\n"
     ]
    },
    {
     "name": "stderr",
     "output_type": "stream",
     "text": [
      "training loop:  35% |###############                            | ETA:  0:11:44\r"
     ]
    },
    {
     "name": "stdout",
     "output_type": "stream",
     "text": [
      "tensor(0.3848, device='cuda:0', grad_fn=<NegBackward>)\n",
      "tensor(0.3847, device='cuda:0', grad_fn=<NegBackward>)\n",
      "tensor(0.3846, device='cuda:0', grad_fn=<NegBackward>)\n",
      "tensor(0.3845, device='cuda:0', grad_fn=<NegBackward>)\n"
     ]
    },
    {
     "name": "stderr",
     "output_type": "stream",
     "text": [
      "training loop:  36% |###############                            | ETA:  0:11:40\r"
     ]
    },
    {
     "name": "stdout",
     "output_type": "stream",
     "text": [
      "tensor(0.3170, device='cuda:0', grad_fn=<NegBackward>)\n",
      "tensor(0.3169, device='cuda:0', grad_fn=<NegBackward>)\n",
      "tensor(0.3167, device='cuda:0', grad_fn=<NegBackward>)\n",
      "tensor(0.3166, device='cuda:0', grad_fn=<NegBackward>)\n"
     ]
    },
    {
     "name": "stderr",
     "output_type": "stream",
     "text": [
      "training loop:  36% |###############                            | ETA:  0:11:37\r"
     ]
    },
    {
     "name": "stdout",
     "output_type": "stream",
     "text": [
      "tensor(-0., device='cuda:0', grad_fn=<NegBackward>)\n",
      "tensor(-0., device='cuda:0', grad_fn=<NegBackward>)\n",
      "tensor(-0., device='cuda:0', grad_fn=<NegBackward>)\n",
      "tensor(-0., device='cuda:0', grad_fn=<NegBackward>)\n"
     ]
    },
    {
     "name": "stderr",
     "output_type": "stream",
     "text": [
      "training loop:  36% |###############                            | ETA:  0:11:33\r"
     ]
    },
    {
     "name": "stdout",
     "output_type": "stream",
     "text": [
      "tensor(0.2074, device='cuda:0', grad_fn=<NegBackward>)\n",
      "tensor(0.2074, device='cuda:0', grad_fn=<NegBackward>)\n",
      "tensor(0.2073, device='cuda:0', grad_fn=<NegBackward>)\n",
      "tensor(0.2073, device='cuda:0', grad_fn=<NegBackward>)\n",
      "Episode: 110, score: 0.004500\n",
      "[0.   0.   0.   0.   0.   0.   0.   0.   0.   0.   0.   0.   0.   0.\n",
      " 0.   0.   0.   0.   0.   0.09]\n"
     ]
    },
    {
     "name": "stderr",
     "output_type": "stream",
     "text": [
      "training loop:  37% |###############                            | ETA:  0:11:30\r"
     ]
    },
    {
     "name": "stdout",
     "output_type": "stream",
     "text": [
      "tensor(0.3033, device='cuda:0', grad_fn=<NegBackward>)\n",
      "tensor(0.3032, device='cuda:0', grad_fn=<NegBackward>)\n",
      "tensor(0.3031, device='cuda:0', grad_fn=<NegBackward>)\n",
      "tensor(0.3030, device='cuda:0', grad_fn=<NegBackward>)\n"
     ]
    },
    {
     "name": "stderr",
     "output_type": "stream",
     "text": [
      "training loop:  37% |################                           | ETA:  0:11:27\r"
     ]
    },
    {
     "name": "stdout",
     "output_type": "stream",
     "text": [
      "tensor(0.4619, device='cuda:0', grad_fn=<NegBackward>)\n",
      "tensor(0.4618, device='cuda:0', grad_fn=<NegBackward>)\n",
      "tensor(0.4616, device='cuda:0', grad_fn=<NegBackward>)\n",
      "tensor(0.4614, device='cuda:0', grad_fn=<NegBackward>)\n"
     ]
    },
    {
     "name": "stderr",
     "output_type": "stream",
     "text": [
      "training loop:  37% |################                           | ETA:  0:11:23\r"
     ]
    },
    {
     "name": "stdout",
     "output_type": "stream",
     "text": [
      "tensor(0.1354, device='cuda:0', grad_fn=<NegBackward>)\n",
      "tensor(0.1354, device='cuda:0', grad_fn=<NegBackward>)\n",
      "tensor(0.1354, device='cuda:0', grad_fn=<NegBackward>)\n",
      "tensor(0.1353, device='cuda:0', grad_fn=<NegBackward>)\n"
     ]
    },
    {
     "name": "stderr",
     "output_type": "stream",
     "text": [
      "training loop:  38% |################                           | ETA:  0:11:20\r"
     ]
    },
    {
     "name": "stdout",
     "output_type": "stream",
     "text": [
      "tensor(0.2713, device='cuda:0', grad_fn=<NegBackward>)\n",
      "tensor(0.2712, device='cuda:0', grad_fn=<NegBackward>)\n",
      "tensor(0.2711, device='cuda:0', grad_fn=<NegBackward>)\n",
      "tensor(0.2711, device='cuda:0', grad_fn=<NegBackward>)\n"
     ]
    },
    {
     "name": "stderr",
     "output_type": "stream",
     "text": [
      "training loop:  38% |################                           | ETA:  0:11:16\r"
     ]
    },
    {
     "name": "stdout",
     "output_type": "stream",
     "text": [
      "tensor(-0., device='cuda:0', grad_fn=<NegBackward>)\n",
      "tensor(-0., device='cuda:0', grad_fn=<NegBackward>)\n",
      "tensor(-0., device='cuda:0', grad_fn=<NegBackward>)\n",
      "tensor(-0., device='cuda:0', grad_fn=<NegBackward>)\n"
     ]
    },
    {
     "name": "stderr",
     "output_type": "stream",
     "text": [
      "training loop:  38% |################                           | ETA:  0:11:13\r"
     ]
    },
    {
     "name": "stdout",
     "output_type": "stream",
     "text": [
      "tensor(0.2268, device='cuda:0', grad_fn=<NegBackward>)\n",
      "tensor(0.2267, device='cuda:0', grad_fn=<NegBackward>)\n",
      "tensor(0.2266, device='cuda:0', grad_fn=<NegBackward>)\n",
      "tensor(0.2266, device='cuda:0', grad_fn=<NegBackward>)\n"
     ]
    },
    {
     "name": "stderr",
     "output_type": "stream",
     "text": [
      "training loop:  39% |################                           | ETA:  0:11:09\r"
     ]
    },
    {
     "name": "stdout",
     "output_type": "stream",
     "text": [
      "tensor(0.3286, device='cuda:0', grad_fn=<NegBackward>)\n",
      "tensor(0.3286, device='cuda:0', grad_fn=<NegBackward>)\n",
      "tensor(0.3285, device='cuda:0', grad_fn=<NegBackward>)\n",
      "tensor(0.3284, device='cuda:0', grad_fn=<NegBackward>)\n"
     ]
    },
    {
     "name": "stderr",
     "output_type": "stream",
     "text": [
      "training loop:  39% |################                           | ETA:  0:11:06\r"
     ]
    },
    {
     "name": "stdout",
     "output_type": "stream",
     "text": [
      "tensor(-0., device='cuda:0', grad_fn=<NegBackward>)\n",
      "tensor(-0., device='cuda:0', grad_fn=<NegBackward>)\n",
      "tensor(-0., device='cuda:0', grad_fn=<NegBackward>)\n",
      "tensor(-0., device='cuda:0', grad_fn=<NegBackward>)\n"
     ]
    },
    {
     "name": "stderr",
     "output_type": "stream",
     "text": [
      "training loop:  39% |#################                          | ETA:  0:11:02\r"
     ]
    },
    {
     "name": "stdout",
     "output_type": "stream",
     "text": [
      "tensor(0.2373, device='cuda:0', grad_fn=<NegBackward>)\n",
      "tensor(0.2373, device='cuda:0', grad_fn=<NegBackward>)\n",
      "tensor(0.2372, device='cuda:0', grad_fn=<NegBackward>)\n",
      "tensor(0.2371, device='cuda:0', grad_fn=<NegBackward>)\n"
     ]
    },
    {
     "name": "stderr",
     "output_type": "stream",
     "text": [
      "training loop:  40% |#################                          | ETA:  0:10:58\r"
     ]
    },
    {
     "name": "stdout",
     "output_type": "stream",
     "text": [
      "tensor(0.2842, device='cuda:0', grad_fn=<NegBackward>)\n",
      "tensor(0.2842, device='cuda:0', grad_fn=<NegBackward>)\n",
      "tensor(0.2841, device='cuda:0', grad_fn=<NegBackward>)\n",
      "tensor(0.2840, device='cuda:0', grad_fn=<NegBackward>)\n",
      "Episode: 120, score: 0.024500\n",
      "[0.         0.         0.         0.         0.         0.\n",
      " 0.         0.         0.         0.         0.         0.\n",
      " 0.         0.         0.         0.         0.         0.\n",
      " 0.48999999 0.        ]\n"
     ]
    },
    {
     "name": "stderr",
     "output_type": "stream",
     "text": [
      "training loop:  40% |#################                          | ETA:  0:10:55\r"
     ]
    },
    {
     "name": "stdout",
     "output_type": "stream",
     "text": [
      "tensor(0.4041, device='cuda:0', grad_fn=<NegBackward>)\n",
      "tensor(0.4040, device='cuda:0', grad_fn=<NegBackward>)\n",
      "tensor(0.4039, device='cuda:0', grad_fn=<NegBackward>)\n",
      "tensor(0.4038, device='cuda:0', grad_fn=<NegBackward>)\n"
     ]
    },
    {
     "name": "stderr",
     "output_type": "stream",
     "text": [
      "training loop:  40% |#################                          | ETA:  0:10:51\r"
     ]
    },
    {
     "name": "stdout",
     "output_type": "stream",
     "text": [
      "tensor(0.1707, device='cuda:0', grad_fn=<NegBackward>)\n",
      "tensor(0.1707, device='cuda:0', grad_fn=<NegBackward>)\n",
      "tensor(0.1707, device='cuda:0', grad_fn=<NegBackward>)\n",
      "tensor(0.1706, device='cuda:0', grad_fn=<NegBackward>)\n"
     ]
    },
    {
     "name": "stderr",
     "output_type": "stream",
     "text": [
      "training loop:  41% |#################                          | ETA:  0:10:47\r"
     ]
    },
    {
     "name": "stdout",
     "output_type": "stream",
     "text": [
      "tensor(0.1749, device='cuda:0', grad_fn=<NegBackward>)\n",
      "tensor(0.1749, device='cuda:0', grad_fn=<NegBackward>)\n",
      "tensor(0.1748, device='cuda:0', grad_fn=<NegBackward>)\n",
      "tensor(0.1747, device='cuda:0', grad_fn=<NegBackward>)\n"
     ]
    },
    {
     "name": "stderr",
     "output_type": "stream",
     "text": [
      "training loop:  41% |#################                          | ETA:  0:10:44\r"
     ]
    },
    {
     "name": "stdout",
     "output_type": "stream",
     "text": [
      "tensor(0.0931, device='cuda:0', grad_fn=<NegBackward>)\n",
      "tensor(0.0931, device='cuda:0', grad_fn=<NegBackward>)\n",
      "tensor(0.0930, device='cuda:0', grad_fn=<NegBackward>)\n",
      "tensor(0.0930, device='cuda:0', grad_fn=<NegBackward>)\n"
     ]
    },
    {
     "name": "stderr",
     "output_type": "stream",
     "text": [
      "training loop:  41% |#################                          | ETA:  0:10:40\r"
     ]
    },
    {
     "name": "stdout",
     "output_type": "stream",
     "text": [
      "tensor(0.1123, device='cuda:0', grad_fn=<NegBackward>)\n",
      "tensor(0.1123, device='cuda:0', grad_fn=<NegBackward>)\n",
      "tensor(0.1123, device='cuda:0', grad_fn=<NegBackward>)\n",
      "tensor(0.1122, device='cuda:0', grad_fn=<NegBackward>)\n"
     ]
    },
    {
     "name": "stderr",
     "output_type": "stream",
     "text": [
      "training loop:  42% |##################                         | ETA:  0:10:36\r"
     ]
    },
    {
     "name": "stdout",
     "output_type": "stream",
     "text": [
      "tensor(0.0884, device='cuda:0', grad_fn=<NegBackward>)\n",
      "tensor(0.0884, device='cuda:0', grad_fn=<NegBackward>)\n",
      "tensor(0.0884, device='cuda:0', grad_fn=<NegBackward>)\n",
      "tensor(0.0883, device='cuda:0', grad_fn=<NegBackward>)\n"
     ]
    },
    {
     "name": "stderr",
     "output_type": "stream",
     "text": [
      "training loop:  42% |##################                         | ETA:  0:10:32\r"
     ]
    },
    {
     "name": "stdout",
     "output_type": "stream",
     "text": [
      "tensor(0.1736, device='cuda:0', grad_fn=<NegBackward>)\n",
      "tensor(0.1735, device='cuda:0', grad_fn=<NegBackward>)\n",
      "tensor(0.1735, device='cuda:0', grad_fn=<NegBackward>)\n",
      "tensor(0.1734, device='cuda:0', grad_fn=<NegBackward>)\n"
     ]
    },
    {
     "name": "stderr",
     "output_type": "stream",
     "text": [
      "training loop:  42% |##################                         | ETA:  0:10:29\r"
     ]
    },
    {
     "name": "stdout",
     "output_type": "stream",
     "text": [
      "tensor(0.2489, device='cuda:0', grad_fn=<NegBackward>)\n",
      "tensor(0.2489, device='cuda:0', grad_fn=<NegBackward>)\n",
      "tensor(0.2488, device='cuda:0', grad_fn=<NegBackward>)\n",
      "tensor(0.2487, device='cuda:0', grad_fn=<NegBackward>)\n"
     ]
    },
    {
     "name": "stderr",
     "output_type": "stream",
     "text": [
      "training loop:  43% |##################                         | ETA:  0:10:25\r"
     ]
    },
    {
     "name": "stdout",
     "output_type": "stream",
     "text": [
      "tensor(0.1890, device='cuda:0', grad_fn=<NegBackward>)\n",
      "tensor(0.1890, device='cuda:0', grad_fn=<NegBackward>)\n",
      "tensor(0.1889, device='cuda:0', grad_fn=<NegBackward>)\n",
      "tensor(0.1889, device='cuda:0', grad_fn=<NegBackward>)\n"
     ]
    },
    {
     "name": "stderr",
     "output_type": "stream",
     "text": [
      "training loop:  43% |##################                         | ETA:  0:10:22\r"
     ]
    },
    {
     "name": "stdout",
     "output_type": "stream",
     "text": [
      "tensor(0.0368, device='cuda:0', grad_fn=<NegBackward>)\n",
      "tensor(0.0368, device='cuda:0', grad_fn=<NegBackward>)\n",
      "tensor(0.0368, device='cuda:0', grad_fn=<NegBackward>)\n",
      "tensor(0.0368, device='cuda:0', grad_fn=<NegBackward>)\n",
      "Episode: 130, score: 0.005000\n",
      "[0.  0.  0.  0.  0.1 0.  0.  0.  0.  0.  0.  0.  0.  0.  0.  0.  0.  0.\n",
      " 0.  0. ]\n"
     ]
    },
    {
     "name": "stderr",
     "output_type": "stream",
     "text": [
      "training loop:  43% |##################                         | ETA:  0:10:18\r"
     ]
    },
    {
     "name": "stdout",
     "output_type": "stream",
     "text": [
      "tensor(0.1789, device='cuda:0', grad_fn=<NegBackward>)\n",
      "tensor(0.1789, device='cuda:0', grad_fn=<NegBackward>)\n",
      "tensor(0.1788, device='cuda:0', grad_fn=<NegBackward>)\n",
      "tensor(0.1787, device='cuda:0', grad_fn=<NegBackward>)\n"
     ]
    },
    {
     "name": "stderr",
     "output_type": "stream",
     "text": [
      "training loop:  44% |##################                         | ETA:  0:10:14\r"
     ]
    },
    {
     "name": "stdout",
     "output_type": "stream",
     "text": [
      "tensor(0.1481, device='cuda:0', grad_fn=<NegBackward>)\n",
      "tensor(0.1481, device='cuda:0', grad_fn=<NegBackward>)\n",
      "tensor(0.1480, device='cuda:0', grad_fn=<NegBackward>)\n",
      "tensor(0.1480, device='cuda:0', grad_fn=<NegBackward>)\n"
     ]
    },
    {
     "name": "stderr",
     "output_type": "stream",
     "text": [
      "training loop:  44% |###################                        | ETA:  0:10:11\r"
     ]
    },
    {
     "name": "stdout",
     "output_type": "stream",
     "text": [
      "tensor(0.3292, device='cuda:0', grad_fn=<NegBackward>)\n",
      "tensor(0.3292, device='cuda:0', grad_fn=<NegBackward>)\n",
      "tensor(0.3291, device='cuda:0', grad_fn=<NegBackward>)\n",
      "tensor(0.3290, device='cuda:0', grad_fn=<NegBackward>)\n"
     ]
    },
    {
     "name": "stderr",
     "output_type": "stream",
     "text": [
      "training loop:  44% |###################                        | ETA:  0:10:08\r"
     ]
    },
    {
     "name": "stdout",
     "output_type": "stream",
     "text": [
      "tensor(0.3254, device='cuda:0', grad_fn=<NegBackward>)\n",
      "tensor(0.3254, device='cuda:0', grad_fn=<NegBackward>)\n",
      "tensor(0.3252, device='cuda:0', grad_fn=<NegBackward>)\n",
      "tensor(0.3251, device='cuda:0', grad_fn=<NegBackward>)\n"
     ]
    },
    {
     "name": "stderr",
     "output_type": "stream",
     "text": [
      "training loop:  45% |###################                        | ETA:  0:10:04\r"
     ]
    },
    {
     "name": "stdout",
     "output_type": "stream",
     "text": [
      "tensor(0.2907, device='cuda:0', grad_fn=<NegBackward>)\n",
      "tensor(0.2907, device='cuda:0', grad_fn=<NegBackward>)\n",
      "tensor(0.2906, device='cuda:0', grad_fn=<NegBackward>)\n",
      "tensor(0.2905, device='cuda:0', grad_fn=<NegBackward>)\n"
     ]
    },
    {
     "name": "stderr",
     "output_type": "stream",
     "text": [
      "training loop:  45% |###################                        | ETA:  0:10:01\r"
     ]
    },
    {
     "name": "stdout",
     "output_type": "stream",
     "text": [
      "tensor(0.3116, device='cuda:0', grad_fn=<NegBackward>)\n",
      "tensor(0.3116, device='cuda:0', grad_fn=<NegBackward>)\n",
      "tensor(0.3114, device='cuda:0', grad_fn=<NegBackward>)\n",
      "tensor(0.3113, device='cuda:0', grad_fn=<NegBackward>)\n"
     ]
    },
    {
     "name": "stderr",
     "output_type": "stream",
     "text": [
      "training loop:  45% |###################                        | ETA:  0:09:57\r"
     ]
    },
    {
     "name": "stdout",
     "output_type": "stream",
     "text": [
      "tensor(0.0912, device='cuda:0', grad_fn=<NegBackward>)\n",
      "tensor(0.0912, device='cuda:0', grad_fn=<NegBackward>)\n",
      "tensor(0.0912, device='cuda:0', grad_fn=<NegBackward>)\n",
      "tensor(0.0912, device='cuda:0', grad_fn=<NegBackward>)\n"
     ]
    },
    {
     "name": "stderr",
     "output_type": "stream",
     "text": [
      "training loop:  46% |###################                        | ETA:  0:09:54\r"
     ]
    },
    {
     "name": "stdout",
     "output_type": "stream",
     "text": [
      "tensor(0.1149, device='cuda:0', grad_fn=<NegBackward>)\n",
      "tensor(0.1149, device='cuda:0', grad_fn=<NegBackward>)\n",
      "tensor(0.1149, device='cuda:0', grad_fn=<NegBackward>)\n",
      "tensor(0.1148, device='cuda:0', grad_fn=<NegBackward>)\n"
     ]
    },
    {
     "name": "stderr",
     "output_type": "stream",
     "text": [
      "training loop:  46% |###################                        | ETA:  0:09:50\r"
     ]
    },
    {
     "name": "stdout",
     "output_type": "stream",
     "text": [
      "tensor(0.0618, device='cuda:0', grad_fn=<NegBackward>)\n",
      "tensor(0.0618, device='cuda:0', grad_fn=<NegBackward>)\n",
      "tensor(0.0619, device='cuda:0', grad_fn=<NegBackward>)\n",
      "tensor(0.0618, device='cuda:0', grad_fn=<NegBackward>)\n"
     ]
    },
    {
     "name": "stderr",
     "output_type": "stream",
     "text": [
      "training loop:  46% |####################                       | ETA:  0:09:47\r"
     ]
    },
    {
     "name": "stdout",
     "output_type": "stream",
     "text": [
      "tensor(0.1742, device='cuda:0', grad_fn=<NegBackward>)\n",
      "tensor(0.1742, device='cuda:0', grad_fn=<NegBackward>)\n",
      "tensor(0.1742, device='cuda:0', grad_fn=<NegBackward>)\n",
      "tensor(0.1741, device='cuda:0', grad_fn=<NegBackward>)\n",
      "Episode: 140, score: 0.016000\n",
      "[0.   0.12 0.   0.   0.   0.   0.   0.2  0.   0.   0.   0.   0.   0.\n",
      " 0.   0.   0.   0.   0.   0.  ]\n"
     ]
    },
    {
     "name": "stderr",
     "output_type": "stream",
     "text": [
      "training loop:  47% |####################                       | ETA:  0:09:43\r"
     ]
    },
    {
     "name": "stdout",
     "output_type": "stream",
     "text": [
      "tensor(0.0841, device='cuda:0', grad_fn=<NegBackward>)\n",
      "tensor(0.0841, device='cuda:0', grad_fn=<NegBackward>)\n",
      "tensor(0.0841, device='cuda:0', grad_fn=<NegBackward>)\n",
      "tensor(0.0841, device='cuda:0', grad_fn=<NegBackward>)\n"
     ]
    },
    {
     "name": "stderr",
     "output_type": "stream",
     "text": [
      "training loop:  47% |####################                       | ETA:  0:09:39\r"
     ]
    },
    {
     "name": "stdout",
     "output_type": "stream",
     "text": [
      "tensor(0.3638, device='cuda:0', grad_fn=<NegBackward>)\n",
      "tensor(0.3637, device='cuda:0', grad_fn=<NegBackward>)\n",
      "tensor(0.3636, device='cuda:0', grad_fn=<NegBackward>)\n",
      "tensor(0.3635, device='cuda:0', grad_fn=<NegBackward>)\n"
     ]
    },
    {
     "name": "stderr",
     "output_type": "stream",
     "text": [
      "training loop:  47% |####################                       | ETA:  0:09:36\r"
     ]
    },
    {
     "name": "stdout",
     "output_type": "stream",
     "text": [
      "tensor(0.4161, device='cuda:0', grad_fn=<NegBackward>)\n",
      "tensor(0.4160, device='cuda:0', grad_fn=<NegBackward>)\n",
      "tensor(0.4159, device='cuda:0', grad_fn=<NegBackward>)\n",
      "tensor(0.4158, device='cuda:0', grad_fn=<NegBackward>)\n"
     ]
    },
    {
     "name": "stderr",
     "output_type": "stream",
     "text": [
      "training loop:  48% |####################                       | ETA:  0:09:32\r"
     ]
    },
    {
     "name": "stdout",
     "output_type": "stream",
     "text": [
      "tensor(0.3478, device='cuda:0', grad_fn=<NegBackward>)\n",
      "tensor(0.3477, device='cuda:0', grad_fn=<NegBackward>)\n",
      "tensor(0.3476, device='cuda:0', grad_fn=<NegBackward>)\n",
      "tensor(0.3475, device='cuda:0', grad_fn=<NegBackward>)\n"
     ]
    },
    {
     "name": "stderr",
     "output_type": "stream",
     "text": [
      "training loop:  48% |####################                       | ETA:  0:09:28\r"
     ]
    },
    {
     "name": "stdout",
     "output_type": "stream",
     "text": [
      "tensor(0.1975, device='cuda:0', grad_fn=<NegBackward>)\n",
      "tensor(0.1975, device='cuda:0', grad_fn=<NegBackward>)\n",
      "tensor(0.1974, device='cuda:0', grad_fn=<NegBackward>)\n",
      "tensor(0.1974, device='cuda:0', grad_fn=<NegBackward>)\n"
     ]
    },
    {
     "name": "stderr",
     "output_type": "stream",
     "text": [
      "training loop:  48% |####################                       | ETA:  0:09:24\r"
     ]
    },
    {
     "name": "stdout",
     "output_type": "stream",
     "text": [
      "tensor(-0., device='cuda:0', grad_fn=<NegBackward>)\n",
      "tensor(-0., device='cuda:0', grad_fn=<NegBackward>)\n",
      "tensor(-0., device='cuda:0', grad_fn=<NegBackward>)\n",
      "tensor(-0., device='cuda:0', grad_fn=<NegBackward>)\n"
     ]
    },
    {
     "name": "stderr",
     "output_type": "stream",
     "text": [
      "training loop:  49% |#####################                      | ETA:  0:09:21\r"
     ]
    },
    {
     "name": "stdout",
     "output_type": "stream",
     "text": [
      "tensor(0.0304, device='cuda:0', grad_fn=<NegBackward>)\n",
      "tensor(0.0304, device='cuda:0', grad_fn=<NegBackward>)\n",
      "tensor(0.0304, device='cuda:0', grad_fn=<NegBackward>)\n",
      "tensor(0.0304, device='cuda:0', grad_fn=<NegBackward>)\n"
     ]
    },
    {
     "name": "stderr",
     "output_type": "stream",
     "text": [
      "training loop:  49% |#####################                      | ETA:  0:09:17\r"
     ]
    },
    {
     "name": "stdout",
     "output_type": "stream",
     "text": [
      "tensor(0.2039, device='cuda:0', grad_fn=<NegBackward>)\n",
      "tensor(0.2039, device='cuda:0', grad_fn=<NegBackward>)\n",
      "tensor(0.2038, device='cuda:0', grad_fn=<NegBackward>)\n",
      "tensor(0.2038, device='cuda:0', grad_fn=<NegBackward>)\n"
     ]
    },
    {
     "name": "stderr",
     "output_type": "stream",
     "text": [
      "training loop:  49% |#####################                      | ETA:  0:09:13\r"
     ]
    },
    {
     "name": "stdout",
     "output_type": "stream",
     "text": [
      "tensor(0.2929, device='cuda:0', grad_fn=<NegBackward>)\n",
      "tensor(0.2929, device='cuda:0', grad_fn=<NegBackward>)\n",
      "tensor(0.2928, device='cuda:0', grad_fn=<NegBackward>)\n",
      "tensor(0.2927, device='cuda:0', grad_fn=<NegBackward>)\n"
     ]
    },
    {
     "name": "stderr",
     "output_type": "stream",
     "text": [
      "training loop:  50% |#####################                      | ETA:  0:09:09\r"
     ]
    },
    {
     "name": "stdout",
     "output_type": "stream",
     "text": [
      "tensor(0.2855, device='cuda:0', grad_fn=<NegBackward>)\n",
      "tensor(0.2854, device='cuda:0', grad_fn=<NegBackward>)\n",
      "tensor(0.2853, device='cuda:0', grad_fn=<NegBackward>)\n",
      "tensor(0.2852, device='cuda:0', grad_fn=<NegBackward>)\n",
      "Episode: 150, score: 0.015500\n",
      "[0.11 0.   0.   0.   0.   0.2  0.   0.   0.   0.   0.   0.   0.   0.\n",
      " 0.   0.   0.   0.   0.   0.  ]\n"
     ]
    },
    {
     "name": "stderr",
     "output_type": "stream",
     "text": [
      "training loop:  50% |#####################                      | ETA:  0:09:06\r"
     ]
    },
    {
     "name": "stdout",
     "output_type": "stream",
     "text": [
      "tensor(0.3105, device='cuda:0', grad_fn=<NegBackward>)\n",
      "tensor(0.3104, device='cuda:0', grad_fn=<NegBackward>)\n",
      "tensor(0.3104, device='cuda:0', grad_fn=<NegBackward>)\n",
      "tensor(0.3103, device='cuda:0', grad_fn=<NegBackward>)\n"
     ]
    },
    {
     "name": "stderr",
     "output_type": "stream",
     "text": [
      "training loop:  50% |#####################                      | ETA:  0:09:02\r"
     ]
    },
    {
     "name": "stdout",
     "output_type": "stream",
     "text": [
      "tensor(0.1397, device='cuda:0', grad_fn=<NegBackward>)\n",
      "tensor(0.1397, device='cuda:0', grad_fn=<NegBackward>)\n",
      "tensor(0.1397, device='cuda:0', grad_fn=<NegBackward>)\n",
      "tensor(0.1396, device='cuda:0', grad_fn=<NegBackward>)\n"
     ]
    },
    {
     "name": "stderr",
     "output_type": "stream",
     "text": [
      "training loop:  51% |#####################                      | ETA:  0:08:58\r"
     ]
    },
    {
     "name": "stdout",
     "output_type": "stream",
     "text": [
      "tensor(0.1604, device='cuda:0', grad_fn=<NegBackward>)\n",
      "tensor(0.1604, device='cuda:0', grad_fn=<NegBackward>)\n",
      "tensor(0.1604, device='cuda:0', grad_fn=<NegBackward>)\n",
      "tensor(0.1603, device='cuda:0', grad_fn=<NegBackward>)\n"
     ]
    },
    {
     "name": "stderr",
     "output_type": "stream",
     "text": [
      "training loop:  51% |######################                     | ETA:  0:08:54\r"
     ]
    },
    {
     "name": "stdout",
     "output_type": "stream",
     "text": [
      "tensor(-0., device='cuda:0', grad_fn=<NegBackward>)\n",
      "tensor(-0., device='cuda:0', grad_fn=<NegBackward>)\n",
      "tensor(-0., device='cuda:0', grad_fn=<NegBackward>)\n",
      "tensor(-0., device='cuda:0', grad_fn=<NegBackward>)\n"
     ]
    },
    {
     "name": "stderr",
     "output_type": "stream",
     "text": [
      "training loop:  51% |######################                     | ETA:  0:08:51\r"
     ]
    },
    {
     "name": "stdout",
     "output_type": "stream",
     "text": [
      "tensor(0.1963, device='cuda:0', grad_fn=<NegBackward>)\n",
      "tensor(0.1962, device='cuda:0', grad_fn=<NegBackward>)\n",
      "tensor(0.1962, device='cuda:0', grad_fn=<NegBackward>)\n",
      "tensor(0.1961, device='cuda:0', grad_fn=<NegBackward>)\n"
     ]
    },
    {
     "name": "stderr",
     "output_type": "stream",
     "text": [
      "training loop:  52% |######################                     | ETA:  0:08:47\r"
     ]
    },
    {
     "name": "stdout",
     "output_type": "stream",
     "text": [
      "tensor(0.2689, device='cuda:0', grad_fn=<NegBackward>)\n",
      "tensor(0.2689, device='cuda:0', grad_fn=<NegBackward>)\n",
      "tensor(0.2688, device='cuda:0', grad_fn=<NegBackward>)\n",
      "tensor(0.2688, device='cuda:0', grad_fn=<NegBackward>)\n"
     ]
    },
    {
     "name": "stderr",
     "output_type": "stream",
     "text": [
      "training loop:  52% |######################                     | ETA:  0:08:43\r"
     ]
    },
    {
     "name": "stdout",
     "output_type": "stream",
     "text": [
      "tensor(0.0741, device='cuda:0', grad_fn=<NegBackward>)\n",
      "tensor(0.0741, device='cuda:0', grad_fn=<NegBackward>)\n",
      "tensor(0.0741, device='cuda:0', grad_fn=<NegBackward>)\n",
      "tensor(0.0741, device='cuda:0', grad_fn=<NegBackward>)\n"
     ]
    },
    {
     "name": "stderr",
     "output_type": "stream",
     "text": [
      "training loop:  52% |######################                     | ETA:  0:08:39\r"
     ]
    },
    {
     "name": "stdout",
     "output_type": "stream",
     "text": [
      "tensor(0.3159, device='cuda:0', grad_fn=<NegBackward>)\n",
      "tensor(0.3159, device='cuda:0', grad_fn=<NegBackward>)\n",
      "tensor(0.3158, device='cuda:0', grad_fn=<NegBackward>)\n",
      "tensor(0.3157, device='cuda:0', grad_fn=<NegBackward>)\n"
     ]
    },
    {
     "name": "stderr",
     "output_type": "stream",
     "text": [
      "training loop:  53% |######################                     | ETA:  0:08:36\r"
     ]
    },
    {
     "name": "stdout",
     "output_type": "stream",
     "text": [
      "tensor(0.3212, device='cuda:0', grad_fn=<NegBackward>)\n",
      "tensor(0.3211, device='cuda:0', grad_fn=<NegBackward>)\n",
      "tensor(0.3210, device='cuda:0', grad_fn=<NegBackward>)\n",
      "tensor(0.3209, device='cuda:0', grad_fn=<NegBackward>)\n"
     ]
    },
    {
     "name": "stderr",
     "output_type": "stream",
     "text": [
      "training loop:  53% |######################                     | ETA:  0:08:32\r"
     ]
    },
    {
     "name": "stdout",
     "output_type": "stream",
     "text": [
      "tensor(0.3588, device='cuda:0', grad_fn=<NegBackward>)\n",
      "tensor(0.3587, device='cuda:0', grad_fn=<NegBackward>)\n",
      "tensor(0.3585, device='cuda:0', grad_fn=<NegBackward>)\n",
      "tensor(0.3584, device='cuda:0', grad_fn=<NegBackward>)\n",
      "Episode: 160, score: 0.026500\n",
      "[0.   0.   0.   0.   0.13 0.   0.   0.   0.   0.   0.   0.   0.   0.\n",
      " 0.21 0.   0.   0.   0.19 0.  ]\n"
     ]
    },
    {
     "name": "stderr",
     "output_type": "stream",
     "text": [
      "training loop:  53% |#######################                    | ETA:  0:08:28\r"
     ]
    },
    {
     "name": "stdout",
     "output_type": "stream",
     "text": [
      "tensor(0.3166, device='cuda:0', grad_fn=<NegBackward>)\n",
      "tensor(0.3166, device='cuda:0', grad_fn=<NegBackward>)\n",
      "tensor(0.3165, device='cuda:0', grad_fn=<NegBackward>)\n",
      "tensor(0.3165, device='cuda:0', grad_fn=<NegBackward>)\n"
     ]
    },
    {
     "name": "stderr",
     "output_type": "stream",
     "text": [
      "training loop:  54% |#######################                    | ETA:  0:08:24\r"
     ]
    },
    {
     "name": "stdout",
     "output_type": "stream",
     "text": [
      "tensor(-0., device='cuda:0', grad_fn=<NegBackward>)\n",
      "tensor(-0., device='cuda:0', grad_fn=<NegBackward>)\n",
      "tensor(-0., device='cuda:0', grad_fn=<NegBackward>)\n",
      "tensor(-0., device='cuda:0', grad_fn=<NegBackward>)\n"
     ]
    },
    {
     "name": "stderr",
     "output_type": "stream",
     "text": [
      "training loop:  54% |#######################                    | ETA:  0:08:21\r"
     ]
    },
    {
     "name": "stdout",
     "output_type": "stream",
     "text": [
      "tensor(0.2169, device='cuda:0', grad_fn=<NegBackward>)\n",
      "tensor(0.2168, device='cuda:0', grad_fn=<NegBackward>)\n",
      "tensor(0.2168, device='cuda:0', grad_fn=<NegBackward>)\n",
      "tensor(0.2167, device='cuda:0', grad_fn=<NegBackward>)\n"
     ]
    },
    {
     "name": "stderr",
     "output_type": "stream",
     "text": [
      "training loop:  54% |#######################                    | ETA:  0:08:17\r"
     ]
    },
    {
     "name": "stdout",
     "output_type": "stream",
     "text": [
      "tensor(0.2915, device='cuda:0', grad_fn=<NegBackward>)\n",
      "tensor(0.2914, device='cuda:0', grad_fn=<NegBackward>)\n",
      "tensor(0.2914, device='cuda:0', grad_fn=<NegBackward>)\n",
      "tensor(0.2913, device='cuda:0', grad_fn=<NegBackward>)\n"
     ]
    },
    {
     "name": "stderr",
     "output_type": "stream",
     "text": [
      "training loop:  55% |#######################                    | ETA:  0:08:13\r"
     ]
    },
    {
     "name": "stdout",
     "output_type": "stream",
     "text": [
      "tensor(-0., device='cuda:0', grad_fn=<NegBackward>)\n",
      "tensor(-0., device='cuda:0', grad_fn=<NegBackward>)\n",
      "tensor(-0., device='cuda:0', grad_fn=<NegBackward>)\n",
      "tensor(-0., device='cuda:0', grad_fn=<NegBackward>)\n"
     ]
    },
    {
     "name": "stderr",
     "output_type": "stream",
     "text": [
      "training loop:  55% |#######################                    | ETA:  0:08:10\r"
     ]
    },
    {
     "name": "stdout",
     "output_type": "stream",
     "text": [
      "tensor(0.3192, device='cuda:0', grad_fn=<NegBackward>)\n",
      "tensor(0.3192, device='cuda:0', grad_fn=<NegBackward>)\n",
      "tensor(0.3191, device='cuda:0', grad_fn=<NegBackward>)\n",
      "tensor(0.3190, device='cuda:0', grad_fn=<NegBackward>)\n"
     ]
    },
    {
     "name": "stderr",
     "output_type": "stream",
     "text": [
      "training loop:  55% |#######################                    | ETA:  0:08:06\r"
     ]
    },
    {
     "name": "stdout",
     "output_type": "stream",
     "text": [
      "tensor(0.0190, device='cuda:0', grad_fn=<NegBackward>)\n",
      "tensor(0.0190, device='cuda:0', grad_fn=<NegBackward>)\n",
      "tensor(0.0190, device='cuda:0', grad_fn=<NegBackward>)\n",
      "tensor(0.0190, device='cuda:0', grad_fn=<NegBackward>)\n"
     ]
    },
    {
     "name": "stderr",
     "output_type": "stream",
     "text": [
      "training loop:  56% |########################                   | ETA:  0:08:02\r"
     ]
    },
    {
     "name": "stdout",
     "output_type": "stream",
     "text": [
      "tensor(0.1604, device='cuda:0', grad_fn=<NegBackward>)\n",
      "tensor(0.1603, device='cuda:0', grad_fn=<NegBackward>)\n",
      "tensor(0.1603, device='cuda:0', grad_fn=<NegBackward>)\n",
      "tensor(0.1602, device='cuda:0', grad_fn=<NegBackward>)\n"
     ]
    },
    {
     "name": "stderr",
     "output_type": "stream",
     "text": [
      "training loop:  56% |########################                   | ETA:  0:07:58\r"
     ]
    },
    {
     "name": "stdout",
     "output_type": "stream",
     "text": [
      "tensor(0.0978, device='cuda:0', grad_fn=<NegBackward>)\n",
      "tensor(0.0978, device='cuda:0', grad_fn=<NegBackward>)\n",
      "tensor(0.0977, device='cuda:0', grad_fn=<NegBackward>)\n",
      "tensor(0.0977, device='cuda:0', grad_fn=<NegBackward>)\n"
     ]
    },
    {
     "name": "stderr",
     "output_type": "stream",
     "text": [
      "training loop:  56% |########################                   | ETA:  0:07:55\r"
     ]
    },
    {
     "name": "stdout",
     "output_type": "stream",
     "text": [
      "tensor(0.1372, device='cuda:0', grad_fn=<NegBackward>)\n",
      "tensor(0.1371, device='cuda:0', grad_fn=<NegBackward>)\n",
      "tensor(0.1371, device='cuda:0', grad_fn=<NegBackward>)\n",
      "tensor(0.1371, device='cuda:0', grad_fn=<NegBackward>)\n",
      "Episode: 170, score: 0.020000\n",
      "[0.22999999 0.         0.         0.         0.         0.\n",
      " 0.         0.         0.         0.         0.         0.\n",
      " 0.         0.         0.         0.         0.         0.\n",
      " 0.17       0.        ]\n"
     ]
    },
    {
     "name": "stderr",
     "output_type": "stream",
     "text": [
      "training loop:  57% |########################                   | ETA:  0:07:51\r"
     ]
    },
    {
     "name": "stdout",
     "output_type": "stream",
     "text": [
      "tensor(0.2853, device='cuda:0', grad_fn=<NegBackward>)\n",
      "tensor(0.2853, device='cuda:0', grad_fn=<NegBackward>)\n",
      "tensor(0.2851, device='cuda:0', grad_fn=<NegBackward>)\n",
      "tensor(0.2850, device='cuda:0', grad_fn=<NegBackward>)\n"
     ]
    },
    {
     "name": "stderr",
     "output_type": "stream",
     "text": [
      "training loop:  57% |########################                   | ETA:  0:07:47\r"
     ]
    },
    {
     "name": "stdout",
     "output_type": "stream",
     "text": [
      "tensor(-0., device='cuda:0', grad_fn=<NegBackward>)\n",
      "tensor(-0., device='cuda:0', grad_fn=<NegBackward>)\n",
      "tensor(-0., device='cuda:0', grad_fn=<NegBackward>)\n",
      "tensor(-0., device='cuda:0', grad_fn=<NegBackward>)\n"
     ]
    },
    {
     "name": "stderr",
     "output_type": "stream",
     "text": [
      "training loop:  57% |########################                   | ETA:  0:07:44\r"
     ]
    },
    {
     "name": "stdout",
     "output_type": "stream",
     "text": [
      "tensor(0.3022, device='cuda:0', grad_fn=<NegBackward>)\n",
      "tensor(0.3022, device='cuda:0', grad_fn=<NegBackward>)\n",
      "tensor(0.3021, device='cuda:0', grad_fn=<NegBackward>)\n",
      "tensor(0.3020, device='cuda:0', grad_fn=<NegBackward>)\n"
     ]
    },
    {
     "name": "stderr",
     "output_type": "stream",
     "text": [
      "training loop:  58% |########################                   | ETA:  0:07:40\r"
     ]
    },
    {
     "name": "stdout",
     "output_type": "stream",
     "text": [
      "tensor(0.3996, device='cuda:0', grad_fn=<NegBackward>)\n",
      "tensor(0.3997, device='cuda:0', grad_fn=<NegBackward>)\n",
      "tensor(0.3996, device='cuda:0', grad_fn=<NegBackward>)\n",
      "tensor(0.3992, device='cuda:0', grad_fn=<NegBackward>)\n"
     ]
    },
    {
     "name": "stderr",
     "output_type": "stream",
     "text": [
      "training loop:  58% |#########################                  | ETA:  0:07:36\r"
     ]
    },
    {
     "name": "stdout",
     "output_type": "stream",
     "text": [
      "tensor(-0., device='cuda:0', grad_fn=<NegBackward>)\n",
      "tensor(-0., device='cuda:0', grad_fn=<NegBackward>)\n",
      "tensor(-0., device='cuda:0', grad_fn=<NegBackward>)\n",
      "tensor(-0., device='cuda:0', grad_fn=<NegBackward>)\n"
     ]
    },
    {
     "name": "stderr",
     "output_type": "stream",
     "text": [
      "training loop:  58% |#########################                  | ETA:  0:07:32\r"
     ]
    },
    {
     "name": "stdout",
     "output_type": "stream",
     "text": [
      "tensor(0.1079, device='cuda:0', grad_fn=<NegBackward>)\n",
      "tensor(0.1079, device='cuda:0', grad_fn=<NegBackward>)\n",
      "tensor(0.1078, device='cuda:0', grad_fn=<NegBackward>)\n",
      "tensor(0.1078, device='cuda:0', grad_fn=<NegBackward>)\n"
     ]
    },
    {
     "name": "stderr",
     "output_type": "stream",
     "text": [
      "training loop:  59% |#########################                  | ETA:  0:07:29\r"
     ]
    },
    {
     "name": "stdout",
     "output_type": "stream",
     "text": [
      "tensor(-0., device='cuda:0', grad_fn=<NegBackward>)\n",
      "tensor(-0., device='cuda:0', grad_fn=<NegBackward>)\n",
      "tensor(-0., device='cuda:0', grad_fn=<NegBackward>)\n",
      "tensor(-0., device='cuda:0', grad_fn=<NegBackward>)\n"
     ]
    },
    {
     "name": "stderr",
     "output_type": "stream",
     "text": [
      "training loop:  59% |#########################                  | ETA:  0:07:25\r"
     ]
    },
    {
     "name": "stdout",
     "output_type": "stream",
     "text": [
      "tensor(0.3391, device='cuda:0', grad_fn=<NegBackward>)\n",
      "tensor(0.3390, device='cuda:0', grad_fn=<NegBackward>)\n",
      "tensor(0.3388, device='cuda:0', grad_fn=<NegBackward>)\n",
      "tensor(0.3387, device='cuda:0', grad_fn=<NegBackward>)\n"
     ]
    },
    {
     "name": "stderr",
     "output_type": "stream",
     "text": [
      "training loop:  59% |#########################                  | ETA:  0:07:21\r"
     ]
    },
    {
     "name": "stdout",
     "output_type": "stream",
     "text": [
      "tensor(0.1215, device='cuda:0', grad_fn=<NegBackward>)\n",
      "tensor(0.1215, device='cuda:0', grad_fn=<NegBackward>)\n",
      "tensor(0.1215, device='cuda:0', grad_fn=<NegBackward>)\n",
      "tensor(0.1214, device='cuda:0', grad_fn=<NegBackward>)\n"
     ]
    },
    {
     "name": "stderr",
     "output_type": "stream",
     "text": [
      "training loop:  60% |#########################                  | ETA:  0:07:18\r"
     ]
    },
    {
     "name": "stdout",
     "output_type": "stream",
     "text": [
      "tensor(0.2518, device='cuda:0', grad_fn=<NegBackward>)\n",
      "tensor(0.2518, device='cuda:0', grad_fn=<NegBackward>)\n",
      "tensor(0.2517, device='cuda:0', grad_fn=<NegBackward>)\n",
      "tensor(0.2516, device='cuda:0', grad_fn=<NegBackward>)\n",
      "Episode: 180, score: 0.014500\n",
      "[0.         0.         0.         0.         0.         0.\n",
      " 0.         0.         0.28999999 0.         0.         0.\n",
      " 0.         0.         0.         0.         0.         0.\n",
      " 0.         0.        ]\n"
     ]
    },
    {
     "name": "stderr",
     "output_type": "stream",
     "text": [
      "training loop:  60% |#########################                  | ETA:  0:07:14\r"
     ]
    },
    {
     "name": "stdout",
     "output_type": "stream",
     "text": [
      "tensor(0.0373, device='cuda:0', grad_fn=<NegBackward>)\n",
      "tensor(0.0373, device='cuda:0', grad_fn=<NegBackward>)\n",
      "tensor(0.0373, device='cuda:0', grad_fn=<NegBackward>)\n",
      "tensor(0.0373, device='cuda:0', grad_fn=<NegBackward>)\n"
     ]
    },
    {
     "name": "stderr",
     "output_type": "stream",
     "text": [
      "training loop:  60% |##########################                 | ETA:  0:07:10\r"
     ]
    },
    {
     "name": "stdout",
     "output_type": "stream",
     "text": [
      "tensor(0.1110, device='cuda:0', grad_fn=<NegBackward>)\n",
      "tensor(0.1110, device='cuda:0', grad_fn=<NegBackward>)\n",
      "tensor(0.1109, device='cuda:0', grad_fn=<NegBackward>)\n",
      "tensor(0.1109, device='cuda:0', grad_fn=<NegBackward>)\n"
     ]
    },
    {
     "name": "stderr",
     "output_type": "stream",
     "text": [
      "training loop:  61% |##########################                 | ETA:  0:07:06\r"
     ]
    },
    {
     "name": "stdout",
     "output_type": "stream",
     "text": [
      "tensor(0.3012, device='cuda:0', grad_fn=<NegBackward>)\n",
      "tensor(0.3012, device='cuda:0', grad_fn=<NegBackward>)\n",
      "tensor(0.3011, device='cuda:0', grad_fn=<NegBackward>)\n",
      "tensor(0.3009, device='cuda:0', grad_fn=<NegBackward>)\n"
     ]
    },
    {
     "name": "stderr",
     "output_type": "stream",
     "text": [
      "training loop:  61% |##########################                 | ETA:  0:07:03\r"
     ]
    },
    {
     "name": "stdout",
     "output_type": "stream",
     "text": [
      "tensor(0.1059, device='cuda:0', grad_fn=<NegBackward>)\n",
      "tensor(0.1059, device='cuda:0', grad_fn=<NegBackward>)\n",
      "tensor(0.1059, device='cuda:0', grad_fn=<NegBackward>)\n",
      "tensor(0.1058, device='cuda:0', grad_fn=<NegBackward>)\n"
     ]
    },
    {
     "name": "stderr",
     "output_type": "stream",
     "text": [
      "training loop:  61% |##########################                 | ETA:  0:06:59\r"
     ]
    },
    {
     "name": "stdout",
     "output_type": "stream",
     "text": [
      "tensor(0.0408, device='cuda:0', grad_fn=<NegBackward>)\n",
      "tensor(0.0407, device='cuda:0', grad_fn=<NegBackward>)\n",
      "tensor(0.0407, device='cuda:0', grad_fn=<NegBackward>)\n",
      "tensor(0.0407, device='cuda:0', grad_fn=<NegBackward>)\n"
     ]
    },
    {
     "name": "stderr",
     "output_type": "stream",
     "text": [
      "training loop:  62% |##########################                 | ETA:  0:06:55\r"
     ]
    },
    {
     "name": "stdout",
     "output_type": "stream",
     "text": [
      "tensor(0.1698, device='cuda:0', grad_fn=<NegBackward>)\n",
      "tensor(0.1698, device='cuda:0', grad_fn=<NegBackward>)\n",
      "tensor(0.1697, device='cuda:0', grad_fn=<NegBackward>)\n",
      "tensor(0.1697, device='cuda:0', grad_fn=<NegBackward>)\n"
     ]
    },
    {
     "name": "stderr",
     "output_type": "stream",
     "text": [
      "training loop:  62% |##########################                 | ETA:  0:06:52\r"
     ]
    },
    {
     "name": "stdout",
     "output_type": "stream",
     "text": [
      "tensor(0.0622, device='cuda:0', grad_fn=<NegBackward>)\n",
      "tensor(0.0622, device='cuda:0', grad_fn=<NegBackward>)\n",
      "tensor(0.0621, device='cuda:0', grad_fn=<NegBackward>)\n",
      "tensor(0.0621, device='cuda:0', grad_fn=<NegBackward>)\n"
     ]
    },
    {
     "name": "stderr",
     "output_type": "stream",
     "text": [
      "training loop:  62% |##########################                 | ETA:  0:06:48\r"
     ]
    },
    {
     "name": "stdout",
     "output_type": "stream",
     "text": [
      "tensor(0.3865, device='cuda:0', grad_fn=<NegBackward>)\n",
      "tensor(0.3864, device='cuda:0', grad_fn=<NegBackward>)\n",
      "tensor(0.3862, device='cuda:0', grad_fn=<NegBackward>)\n",
      "tensor(0.3860, device='cuda:0', grad_fn=<NegBackward>)\n"
     ]
    },
    {
     "name": "stderr",
     "output_type": "stream",
     "text": [
      "training loop:  63% |###########################                | ETA:  0:06:44\r"
     ]
    },
    {
     "name": "stdout",
     "output_type": "stream",
     "text": [
      "tensor(0.4341, device='cuda:0', grad_fn=<NegBackward>)\n",
      "tensor(0.4341, device='cuda:0', grad_fn=<NegBackward>)\n",
      "tensor(0.4340, device='cuda:0', grad_fn=<NegBackward>)\n",
      "tensor(0.4337, device='cuda:0', grad_fn=<NegBackward>)\n"
     ]
    },
    {
     "name": "stderr",
     "output_type": "stream",
     "text": [
      "training loop:  63% |###########################                | ETA:  0:06:41\r"
     ]
    },
    {
     "name": "stdout",
     "output_type": "stream",
     "text": [
      "tensor(0.2135, device='cuda:0', grad_fn=<NegBackward>)\n",
      "tensor(0.2135, device='cuda:0', grad_fn=<NegBackward>)\n",
      "tensor(0.2134, device='cuda:0', grad_fn=<NegBackward>)\n",
      "tensor(0.2133, device='cuda:0', grad_fn=<NegBackward>)\n",
      "Episode: 190, score: 0.030000\n",
      "[0.         0.07       0.         0.         0.         0.\n",
      " 0.         0.         0.35999999 0.04       0.         0.\n",
      " 0.         0.         0.         0.         0.13       0.\n",
      " 0.         0.        ]\n"
     ]
    },
    {
     "name": "stderr",
     "output_type": "stream",
     "text": [
      "training loop:  63% |###########################                | ETA:  0:06:37\r"
     ]
    },
    {
     "name": "stdout",
     "output_type": "stream",
     "text": [
      "tensor(0.3971, device='cuda:0', grad_fn=<NegBackward>)\n",
      "tensor(0.3971, device='cuda:0', grad_fn=<NegBackward>)\n",
      "tensor(0.3970, device='cuda:0', grad_fn=<NegBackward>)\n",
      "tensor(0.3968, device='cuda:0', grad_fn=<NegBackward>)\n"
     ]
    },
    {
     "name": "stderr",
     "output_type": "stream",
     "text": [
      "training loop:  64% |###########################                | ETA:  0:06:33\r"
     ]
    },
    {
     "name": "stdout",
     "output_type": "stream",
     "text": [
      "tensor(0.2629, device='cuda:0', grad_fn=<NegBackward>)\n",
      "tensor(0.2628, device='cuda:0', grad_fn=<NegBackward>)\n",
      "tensor(0.2627, device='cuda:0', grad_fn=<NegBackward>)\n",
      "tensor(0.2626, device='cuda:0', grad_fn=<NegBackward>)\n"
     ]
    },
    {
     "name": "stderr",
     "output_type": "stream",
     "text": [
      "training loop:  64% |###########################                | ETA:  0:06:30\r"
     ]
    },
    {
     "name": "stdout",
     "output_type": "stream",
     "text": [
      "tensor(0.2580, device='cuda:0', grad_fn=<NegBackward>)\n",
      "tensor(0.2580, device='cuda:0', grad_fn=<NegBackward>)\n",
      "tensor(0.2579, device='cuda:0', grad_fn=<NegBackward>)\n",
      "tensor(0.2579, device='cuda:0', grad_fn=<NegBackward>)\n"
     ]
    },
    {
     "name": "stderr",
     "output_type": "stream",
     "text": [
      "training loop:  64% |###########################                | ETA:  0:06:26\r"
     ]
    },
    {
     "name": "stdout",
     "output_type": "stream",
     "text": [
      "tensor(0.4438, device='cuda:0', grad_fn=<NegBackward>)\n",
      "tensor(0.4438, device='cuda:0', grad_fn=<NegBackward>)\n",
      "tensor(0.4439, device='cuda:0', grad_fn=<NegBackward>)\n",
      "tensor(0.4437, device='cuda:0', grad_fn=<NegBackward>)\n"
     ]
    },
    {
     "name": "stderr",
     "output_type": "stream",
     "text": [
      "training loop:  65% |###########################                | ETA:  0:06:22\r"
     ]
    },
    {
     "name": "stdout",
     "output_type": "stream",
     "text": [
      "tensor(0.2711, device='cuda:0', grad_fn=<NegBackward>)\n",
      "tensor(0.2718, device='cuda:0', grad_fn=<NegBackward>)\n",
      "tensor(0.2710, device='cuda:0', grad_fn=<NegBackward>)\n",
      "tensor(0.2715, device='cuda:0', grad_fn=<NegBackward>)\n"
     ]
    },
    {
     "name": "stderr",
     "output_type": "stream",
     "text": [
      "training loop:  65% |############################               | ETA:  0:06:19\r"
     ]
    },
    {
     "name": "stdout",
     "output_type": "stream",
     "text": [
      "tensor(0.2963, device='cuda:0', grad_fn=<NegBackward>)\n",
      "tensor(0.2966, device='cuda:0', grad_fn=<NegBackward>)\n",
      "tensor(0.2961, device='cuda:0', grad_fn=<NegBackward>)\n",
      "tensor(0.2963, device='cuda:0', grad_fn=<NegBackward>)\n"
     ]
    },
    {
     "name": "stderr",
     "output_type": "stream",
     "text": [
      "training loop:  65% |############################               | ETA:  0:06:15\r"
     ]
    },
    {
     "name": "stdout",
     "output_type": "stream",
     "text": [
      "tensor(0.3650, device='cuda:0', grad_fn=<NegBackward>)\n",
      "tensor(0.3652, device='cuda:0', grad_fn=<NegBackward>)\n",
      "tensor(0.3649, device='cuda:0', grad_fn=<NegBackward>)\n",
      "tensor(0.3648, device='cuda:0', grad_fn=<NegBackward>)\n"
     ]
    },
    {
     "name": "stderr",
     "output_type": "stream",
     "text": [
      "training loop:  66% |############################               | ETA:  0:06:11\r"
     ]
    },
    {
     "name": "stdout",
     "output_type": "stream",
     "text": [
      "tensor(0.2584, device='cuda:0', grad_fn=<NegBackward>)\n",
      "tensor(0.2586, device='cuda:0', grad_fn=<NegBackward>)\n",
      "tensor(0.2583, device='cuda:0', grad_fn=<NegBackward>)\n",
      "tensor(0.2584, device='cuda:0', grad_fn=<NegBackward>)\n"
     ]
    },
    {
     "name": "stderr",
     "output_type": "stream",
     "text": [
      "training loop:  66% |############################               | ETA:  0:06:08\r"
     ]
    },
    {
     "name": "stdout",
     "output_type": "stream",
     "text": [
      "tensor(-0., device='cuda:0', grad_fn=<NegBackward>)\n",
      "tensor(-0., device='cuda:0', grad_fn=<NegBackward>)\n",
      "tensor(-0., device='cuda:0', grad_fn=<NegBackward>)\n",
      "tensor(-0., device='cuda:0', grad_fn=<NegBackward>)\n"
     ]
    },
    {
     "name": "stderr",
     "output_type": "stream",
     "text": [
      "training loop:  66% |############################               | ETA:  0:06:04\r"
     ]
    },
    {
     "name": "stdout",
     "output_type": "stream",
     "text": [
      "tensor(0.3828, device='cuda:0', grad_fn=<NegBackward>)\n",
      "tensor(0.3828, device='cuda:0', grad_fn=<NegBackward>)\n",
      "tensor(0.3826, device='cuda:0', grad_fn=<NegBackward>)\n",
      "tensor(0.3825, device='cuda:0', grad_fn=<NegBackward>)\n",
      "Episode: 200, score: 0.027000\n",
      "[0.         0.         0.         0.         0.         0.29999999\n",
      " 0.         0.         0.         0.         0.         0.\n",
      " 0.         0.         0.         0.         0.12       0.\n",
      " 0.         0.12      ]\n"
     ]
    },
    {
     "name": "stderr",
     "output_type": "stream",
     "text": [
      "training loop:  67% |############################               | ETA:  0:06:00\r"
     ]
    },
    {
     "name": "stdout",
     "output_type": "stream",
     "text": [
      "tensor(0.2191, device='cuda:0', grad_fn=<NegBackward>)\n",
      "tensor(0.2191, device='cuda:0', grad_fn=<NegBackward>)\n",
      "tensor(0.2189, device='cuda:0', grad_fn=<NegBackward>)\n",
      "tensor(0.2188, device='cuda:0', grad_fn=<NegBackward>)\n"
     ]
    },
    {
     "name": "stderr",
     "output_type": "stream",
     "text": [
      "training loop:  67% |############################               | ETA:  0:05:57\r"
     ]
    },
    {
     "name": "stdout",
     "output_type": "stream",
     "text": [
      "tensor(0.3851, device='cuda:0', grad_fn=<NegBackward>)\n",
      "tensor(0.3851, device='cuda:0', grad_fn=<NegBackward>)\n",
      "tensor(0.3849, device='cuda:0', grad_fn=<NegBackward>)\n",
      "tensor(0.3848, device='cuda:0', grad_fn=<NegBackward>)\n"
     ]
    },
    {
     "name": "stderr",
     "output_type": "stream",
     "text": [
      "training loop:  67% |#############################              | ETA:  0:05:53\r"
     ]
    },
    {
     "name": "stdout",
     "output_type": "stream",
     "text": [
      "tensor(0.3942, device='cuda:0', grad_fn=<NegBackward>)\n",
      "tensor(0.3941, device='cuda:0', grad_fn=<NegBackward>)\n",
      "tensor(0.3940, device='cuda:0', grad_fn=<NegBackward>)\n",
      "tensor(0.3938, device='cuda:0', grad_fn=<NegBackward>)\n"
     ]
    },
    {
     "name": "stderr",
     "output_type": "stream",
     "text": [
      "training loop:  68% |#############################              | ETA:  0:05:49\r"
     ]
    },
    {
     "name": "stdout",
     "output_type": "stream",
     "text": [
      "tensor(0.1510, device='cuda:0', grad_fn=<NegBackward>)\n",
      "tensor(0.1509, device='cuda:0', grad_fn=<NegBackward>)\n",
      "tensor(0.1509, device='cuda:0', grad_fn=<NegBackward>)\n",
      "tensor(0.1508, device='cuda:0', grad_fn=<NegBackward>)\n"
     ]
    },
    {
     "name": "stderr",
     "output_type": "stream",
     "text": [
      "training loop:  68% |#############################              | ETA:  0:05:46\r"
     ]
    },
    {
     "name": "stdout",
     "output_type": "stream",
     "text": [
      "tensor(-0., device='cuda:0', grad_fn=<NegBackward>)\n",
      "tensor(-0., device='cuda:0', grad_fn=<NegBackward>)\n",
      "tensor(-0., device='cuda:0', grad_fn=<NegBackward>)\n",
      "tensor(-0., device='cuda:0', grad_fn=<NegBackward>)\n"
     ]
    },
    {
     "name": "stderr",
     "output_type": "stream",
     "text": [
      "training loop:  68% |#############################              | ETA:  0:05:42\r"
     ]
    },
    {
     "name": "stdout",
     "output_type": "stream",
     "text": [
      "tensor(0.3762, device='cuda:0', grad_fn=<NegBackward>)\n",
      "tensor(0.3761, device='cuda:0', grad_fn=<NegBackward>)\n",
      "tensor(0.3759, device='cuda:0', grad_fn=<NegBackward>)\n",
      "tensor(0.3758, device='cuda:0', grad_fn=<NegBackward>)\n"
     ]
    },
    {
     "name": "stderr",
     "output_type": "stream",
     "text": [
      "training loop:  69% |#############################              | ETA:  0:05:38\r"
     ]
    },
    {
     "name": "stdout",
     "output_type": "stream",
     "text": [
      "tensor(0.1242, device='cuda:0', grad_fn=<NegBackward>)\n",
      "tensor(0.1242, device='cuda:0', grad_fn=<NegBackward>)\n",
      "tensor(0.1242, device='cuda:0', grad_fn=<NegBackward>)\n",
      "tensor(0.1241, device='cuda:0', grad_fn=<NegBackward>)\n"
     ]
    },
    {
     "name": "stderr",
     "output_type": "stream",
     "text": [
      "training loop:  69% |#############################              | ETA:  0:05:35\r"
     ]
    },
    {
     "name": "stdout",
     "output_type": "stream",
     "text": [
      "tensor(0.2836, device='cuda:0', grad_fn=<NegBackward>)\n",
      "tensor(0.2836, device='cuda:0', grad_fn=<NegBackward>)\n",
      "tensor(0.2835, device='cuda:0', grad_fn=<NegBackward>)\n",
      "tensor(0.2834, device='cuda:0', grad_fn=<NegBackward>)\n"
     ]
    },
    {
     "name": "stderr",
     "output_type": "stream",
     "text": [
      "training loop:  69% |#############################              | ETA:  0:05:31\r"
     ]
    },
    {
     "name": "stdout",
     "output_type": "stream",
     "text": [
      "tensor(0.4371, device='cuda:0', grad_fn=<NegBackward>)\n",
      "tensor(0.4369, device='cuda:0', grad_fn=<NegBackward>)\n",
      "tensor(0.4368, device='cuda:0', grad_fn=<NegBackward>)\n",
      "tensor(0.4366, device='cuda:0', grad_fn=<NegBackward>)\n"
     ]
    },
    {
     "name": "stderr",
     "output_type": "stream",
     "text": [
      "training loop:  70% |##############################             | ETA:  0:05:27\r"
     ]
    },
    {
     "name": "stdout",
     "output_type": "stream",
     "text": [
      "tensor(0.2523, device='cuda:0', grad_fn=<NegBackward>)\n",
      "tensor(0.2522, device='cuda:0', grad_fn=<NegBackward>)\n",
      "tensor(0.2521, device='cuda:0', grad_fn=<NegBackward>)\n",
      "tensor(0.2519, device='cuda:0', grad_fn=<NegBackward>)\n",
      "Episode: 210, score: 0.021000\n",
      "[0.13 0.   0.   0.   0.   0.   0.07 0.   0.   0.   0.   0.   0.   0.\n",
      " 0.   0.   0.22 0.   0.   0.  ]\n"
     ]
    },
    {
     "name": "stderr",
     "output_type": "stream",
     "text": [
      "training loop:  70% |##############################             | ETA:  0:05:24\r"
     ]
    },
    {
     "name": "stdout",
     "output_type": "stream",
     "text": [
      "tensor(0.4480, device='cuda:0', grad_fn=<NegBackward>)\n",
      "tensor(0.4478, device='cuda:0', grad_fn=<NegBackward>)\n",
      "tensor(0.4477, device='cuda:0', grad_fn=<NegBackward>)\n",
      "tensor(0.4475, device='cuda:0', grad_fn=<NegBackward>)\n"
     ]
    },
    {
     "name": "stderr",
     "output_type": "stream",
     "text": [
      "training loop:  70% |##############################             | ETA:  0:05:20\r"
     ]
    },
    {
     "name": "stdout",
     "output_type": "stream",
     "text": [
      "tensor(0.0788, device='cuda:0', grad_fn=<NegBackward>)\n",
      "tensor(0.0788, device='cuda:0', grad_fn=<NegBackward>)\n",
      "tensor(0.0787, device='cuda:0', grad_fn=<NegBackward>)\n",
      "tensor(0.0787, device='cuda:0', grad_fn=<NegBackward>)\n"
     ]
    },
    {
     "name": "stderr",
     "output_type": "stream",
     "text": [
      "training loop:  71% |##############################             | ETA:  0:05:16\r"
     ]
    },
    {
     "name": "stdout",
     "output_type": "stream",
     "text": [
      "tensor(0.1012, device='cuda:0', grad_fn=<NegBackward>)\n",
      "tensor(0.1011, device='cuda:0', grad_fn=<NegBackward>)\n",
      "tensor(0.1011, device='cuda:0', grad_fn=<NegBackward>)\n",
      "tensor(0.1011, device='cuda:0', grad_fn=<NegBackward>)\n"
     ]
    },
    {
     "name": "stderr",
     "output_type": "stream",
     "text": [
      "training loop:  71% |##############################             | ETA:  0:05:13\r"
     ]
    },
    {
     "name": "stdout",
     "output_type": "stream",
     "text": [
      "tensor(0.3372, device='cuda:0', grad_fn=<NegBackward>)\n",
      "tensor(0.3372, device='cuda:0', grad_fn=<NegBackward>)\n",
      "tensor(0.3371, device='cuda:0', grad_fn=<NegBackward>)\n",
      "tensor(0.3370, device='cuda:0', grad_fn=<NegBackward>)\n"
     ]
    },
    {
     "name": "stderr",
     "output_type": "stream",
     "text": [
      "training loop:  71% |##############################             | ETA:  0:05:09\r"
     ]
    },
    {
     "name": "stdout",
     "output_type": "stream",
     "text": [
      "tensor(0.3199, device='cuda:0', grad_fn=<NegBackward>)\n",
      "tensor(0.3198, device='cuda:0', grad_fn=<NegBackward>)\n",
      "tensor(0.3197, device='cuda:0', grad_fn=<NegBackward>)\n",
      "tensor(0.3196, device='cuda:0', grad_fn=<NegBackward>)\n"
     ]
    },
    {
     "name": "stderr",
     "output_type": "stream",
     "text": [
      "training loop:  72% |##############################             | ETA:  0:05:05\r"
     ]
    },
    {
     "name": "stdout",
     "output_type": "stream",
     "text": [
      "tensor(-0., device='cuda:0', grad_fn=<NegBackward>)\n",
      "tensor(-0., device='cuda:0', grad_fn=<NegBackward>)\n",
      "tensor(-0., device='cuda:0', grad_fn=<NegBackward>)\n",
      "tensor(-0., device='cuda:0', grad_fn=<NegBackward>)\n"
     ]
    },
    {
     "name": "stderr",
     "output_type": "stream",
     "text": [
      "training loop:  72% |###############################            | ETA:  0:05:02\r"
     ]
    },
    {
     "name": "stdout",
     "output_type": "stream",
     "text": [
      "tensor(0.2995, device='cuda:0', grad_fn=<NegBackward>)\n",
      "tensor(0.2995, device='cuda:0', grad_fn=<NegBackward>)\n",
      "tensor(0.2994, device='cuda:0', grad_fn=<NegBackward>)\n",
      "tensor(0.2993, device='cuda:0', grad_fn=<NegBackward>)\n"
     ]
    },
    {
     "name": "stderr",
     "output_type": "stream",
     "text": [
      "training loop:  72% |###############################            | ETA:  0:04:58\r"
     ]
    },
    {
     "name": "stdout",
     "output_type": "stream",
     "text": [
      "tensor(0.3617, device='cuda:0', grad_fn=<NegBackward>)\n",
      "tensor(0.3617, device='cuda:0', grad_fn=<NegBackward>)\n",
      "tensor(0.3615, device='cuda:0', grad_fn=<NegBackward>)\n",
      "tensor(0.3614, device='cuda:0', grad_fn=<NegBackward>)\n"
     ]
    },
    {
     "name": "stderr",
     "output_type": "stream",
     "text": [
      "training loop:  73% |###############################            | ETA:  0:04:54\r"
     ]
    },
    {
     "name": "stdout",
     "output_type": "stream",
     "text": [
      "tensor(0.2549, device='cuda:0', grad_fn=<NegBackward>)\n",
      "tensor(0.2549, device='cuda:0', grad_fn=<NegBackward>)\n",
      "tensor(0.2548, device='cuda:0', grad_fn=<NegBackward>)\n",
      "tensor(0.2548, device='cuda:0', grad_fn=<NegBackward>)\n"
     ]
    },
    {
     "name": "stderr",
     "output_type": "stream",
     "text": [
      "training loop:  73% |###############################            | ETA:  0:04:51\r"
     ]
    },
    {
     "name": "stdout",
     "output_type": "stream",
     "text": [
      "tensor(0.3910, device='cuda:0', grad_fn=<NegBackward>)\n",
      "tensor(0.3909, device='cuda:0', grad_fn=<NegBackward>)\n",
      "tensor(0.3908, device='cuda:0', grad_fn=<NegBackward>)\n",
      "tensor(0.3907, device='cuda:0', grad_fn=<NegBackward>)\n",
      "Episode: 220, score: 0.009000\n",
      "[0.   0.   0.   0.   0.   0.02 0.   0.   0.1  0.   0.   0.   0.   0.\n",
      " 0.06 0.   0.   0.   0.   0.  ]\n"
     ]
    },
    {
     "name": "stderr",
     "output_type": "stream",
     "text": [
      "training loop:  73% |###############################            | ETA:  0:04:47\r"
     ]
    },
    {
     "name": "stdout",
     "output_type": "stream",
     "text": [
      "tensor(0.3080, device='cuda:0', grad_fn=<NegBackward>)\n",
      "tensor(0.3080, device='cuda:0', grad_fn=<NegBackward>)\n",
      "tensor(0.3079, device='cuda:0', grad_fn=<NegBackward>)\n",
      "tensor(0.3078, device='cuda:0', grad_fn=<NegBackward>)\n"
     ]
    },
    {
     "name": "stderr",
     "output_type": "stream",
     "text": [
      "training loop:  74% |###############################            | ETA:  0:04:43\r"
     ]
    },
    {
     "name": "stdout",
     "output_type": "stream",
     "text": [
      "tensor(0.2928, device='cuda:0', grad_fn=<NegBackward>)\n",
      "tensor(0.2928, device='cuda:0', grad_fn=<NegBackward>)\n",
      "tensor(0.2927, device='cuda:0', grad_fn=<NegBackward>)\n",
      "tensor(0.2926, device='cuda:0', grad_fn=<NegBackward>)\n"
     ]
    },
    {
     "name": "stderr",
     "output_type": "stream",
     "text": [
      "training loop:  74% |###############################            | ETA:  0:04:40\r"
     ]
    },
    {
     "name": "stdout",
     "output_type": "stream",
     "text": [
      "tensor(0.1248, device='cuda:0', grad_fn=<NegBackward>)\n",
      "tensor(0.1247, device='cuda:0', grad_fn=<NegBackward>)\n",
      "tensor(0.1247, device='cuda:0', grad_fn=<NegBackward>)\n",
      "tensor(0.1247, device='cuda:0', grad_fn=<NegBackward>)\n"
     ]
    },
    {
     "name": "stderr",
     "output_type": "stream",
     "text": [
      "training loop:  74% |################################           | ETA:  0:04:36\r"
     ]
    },
    {
     "name": "stdout",
     "output_type": "stream",
     "text": [
      "tensor(0.2666, device='cuda:0', grad_fn=<NegBackward>)\n",
      "tensor(0.2666, device='cuda:0', grad_fn=<NegBackward>)\n",
      "tensor(0.2664, device='cuda:0', grad_fn=<NegBackward>)\n",
      "tensor(0.2663, device='cuda:0', grad_fn=<NegBackward>)\n"
     ]
    },
    {
     "name": "stderr",
     "output_type": "stream",
     "text": [
      "training loop:  75% |################################           | ETA:  0:04:32\r"
     ]
    },
    {
     "name": "stdout",
     "output_type": "stream",
     "text": [
      "tensor(0.1242, device='cuda:0', grad_fn=<NegBackward>)\n",
      "tensor(0.1242, device='cuda:0', grad_fn=<NegBackward>)\n",
      "tensor(0.1241, device='cuda:0', grad_fn=<NegBackward>)\n",
      "tensor(0.1240, device='cuda:0', grad_fn=<NegBackward>)\n"
     ]
    },
    {
     "name": "stderr",
     "output_type": "stream",
     "text": [
      "training loop:  75% |################################           | ETA:  0:04:29\r"
     ]
    },
    {
     "name": "stdout",
     "output_type": "stream",
     "text": [
      "tensor(0.2377, device='cuda:0', grad_fn=<NegBackward>)\n",
      "tensor(0.2376, device='cuda:0', grad_fn=<NegBackward>)\n",
      "tensor(0.2376, device='cuda:0', grad_fn=<NegBackward>)\n",
      "tensor(0.2375, device='cuda:0', grad_fn=<NegBackward>)\n"
     ]
    },
    {
     "name": "stderr",
     "output_type": "stream",
     "text": [
      "training loop:  75% |################################           | ETA:  0:04:25\r"
     ]
    },
    {
     "name": "stdout",
     "output_type": "stream",
     "text": [
      "tensor(0.4298, device='cuda:0', grad_fn=<NegBackward>)\n",
      "tensor(0.4297, device='cuda:0', grad_fn=<NegBackward>)\n",
      "tensor(0.4295, device='cuda:0', grad_fn=<NegBackward>)\n",
      "tensor(0.4293, device='cuda:0', grad_fn=<NegBackward>)\n"
     ]
    },
    {
     "name": "stderr",
     "output_type": "stream",
     "text": [
      "training loop:  76% |################################           | ETA:  0:04:21\r"
     ]
    },
    {
     "name": "stdout",
     "output_type": "stream",
     "text": [
      "tensor(0.0542, device='cuda:0', grad_fn=<NegBackward>)\n",
      "tensor(0.0542, device='cuda:0', grad_fn=<NegBackward>)\n",
      "tensor(0.0542, device='cuda:0', grad_fn=<NegBackward>)\n",
      "tensor(0.0542, device='cuda:0', grad_fn=<NegBackward>)\n"
     ]
    },
    {
     "name": "stderr",
     "output_type": "stream",
     "text": [
      "training loop:  76% |################################           | ETA:  0:04:18\r"
     ]
    },
    {
     "name": "stdout",
     "output_type": "stream",
     "text": [
      "tensor(0.2945, device='cuda:0', grad_fn=<NegBackward>)\n",
      "tensor(0.2945, device='cuda:0', grad_fn=<NegBackward>)\n",
      "tensor(0.2944, device='cuda:0', grad_fn=<NegBackward>)\n",
      "tensor(0.2943, device='cuda:0', grad_fn=<NegBackward>)\n"
     ]
    },
    {
     "name": "stderr",
     "output_type": "stream",
     "text": [
      "training loop:  76% |################################           | ETA:  0:04:14\r"
     ]
    },
    {
     "name": "stdout",
     "output_type": "stream",
     "text": [
      "tensor(0.2303, device='cuda:0', grad_fn=<NegBackward>)\n",
      "tensor(0.2303, device='cuda:0', grad_fn=<NegBackward>)\n",
      "tensor(0.2302, device='cuda:0', grad_fn=<NegBackward>)\n",
      "tensor(0.2301, device='cuda:0', grad_fn=<NegBackward>)\n",
      "Episode: 230, score: 0.008500\n",
      "[0.   0.   0.   0.   0.   0.   0.   0.   0.   0.   0.   0.   0.   0.17\n",
      " 0.   0.   0.   0.   0.   0.  ]\n"
     ]
    },
    {
     "name": "stderr",
     "output_type": "stream",
     "text": [
      "training loop:  77% |#################################          | ETA:  0:04:10\r"
     ]
    },
    {
     "name": "stdout",
     "output_type": "stream",
     "text": [
      "tensor(0.2269, device='cuda:0', grad_fn=<NegBackward>)\n",
      "tensor(0.2269, device='cuda:0', grad_fn=<NegBackward>)\n",
      "tensor(0.2268, device='cuda:0', grad_fn=<NegBackward>)\n",
      "tensor(0.2267, device='cuda:0', grad_fn=<NegBackward>)\n"
     ]
    },
    {
     "name": "stderr",
     "output_type": "stream",
     "text": [
      "training loop:  77% |#################################          | ETA:  0:04:07\r"
     ]
    },
    {
     "name": "stdout",
     "output_type": "stream",
     "text": [
      "tensor(0.3580, device='cuda:0', grad_fn=<NegBackward>)\n",
      "tensor(0.3579, device='cuda:0', grad_fn=<NegBackward>)\n",
      "tensor(0.3578, device='cuda:0', grad_fn=<NegBackward>)\n",
      "tensor(0.3577, device='cuda:0', grad_fn=<NegBackward>)\n"
     ]
    },
    {
     "name": "stderr",
     "output_type": "stream",
     "text": [
      "training loop:  77% |#################################          | ETA:  0:04:03\r"
     ]
    },
    {
     "name": "stdout",
     "output_type": "stream",
     "text": [
      "tensor(0.2683, device='cuda:0', grad_fn=<NegBackward>)\n",
      "tensor(0.2682, device='cuda:0', grad_fn=<NegBackward>)\n",
      "tensor(0.2681, device='cuda:0', grad_fn=<NegBackward>)\n",
      "tensor(0.2681, device='cuda:0', grad_fn=<NegBackward>)\n"
     ]
    },
    {
     "name": "stderr",
     "output_type": "stream",
     "text": [
      "training loop:  78% |#################################          | ETA:  0:03:59\r"
     ]
    },
    {
     "name": "stdout",
     "output_type": "stream",
     "text": [
      "tensor(0.2181, device='cuda:0', grad_fn=<NegBackward>)\n",
      "tensor(0.2181, device='cuda:0', grad_fn=<NegBackward>)\n",
      "tensor(0.2180, device='cuda:0', grad_fn=<NegBackward>)\n",
      "tensor(0.2179, device='cuda:0', grad_fn=<NegBackward>)\n"
     ]
    },
    {
     "name": "stderr",
     "output_type": "stream",
     "text": [
      "training loop:  78% |#################################          | ETA:  0:03:56\r"
     ]
    },
    {
     "name": "stdout",
     "output_type": "stream",
     "text": [
      "tensor(0.2998, device='cuda:0', grad_fn=<NegBackward>)\n",
      "tensor(0.2998, device='cuda:0', grad_fn=<NegBackward>)\n",
      "tensor(0.2997, device='cuda:0', grad_fn=<NegBackward>)\n",
      "tensor(0.2996, device='cuda:0', grad_fn=<NegBackward>)\n"
     ]
    },
    {
     "name": "stderr",
     "output_type": "stream",
     "text": [
      "training loop:  78% |#################################          | ETA:  0:03:52\r"
     ]
    },
    {
     "name": "stdout",
     "output_type": "stream",
     "text": [
      "tensor(0.3355, device='cuda:0', grad_fn=<NegBackward>)\n",
      "tensor(0.3355, device='cuda:0', grad_fn=<NegBackward>)\n",
      "tensor(0.3353, device='cuda:0', grad_fn=<NegBackward>)\n",
      "tensor(0.3352, device='cuda:0', grad_fn=<NegBackward>)\n"
     ]
    },
    {
     "name": "stderr",
     "output_type": "stream",
     "text": [
      "training loop:  79% |#################################          | ETA:  0:03:48\r"
     ]
    },
    {
     "name": "stdout",
     "output_type": "stream",
     "text": [
      "tensor(0.3380, device='cuda:0', grad_fn=<NegBackward>)\n",
      "tensor(0.3380, device='cuda:0', grad_fn=<NegBackward>)\n",
      "tensor(0.3379, device='cuda:0', grad_fn=<NegBackward>)\n",
      "tensor(0.3379, device='cuda:0', grad_fn=<NegBackward>)\n"
     ]
    },
    {
     "name": "stderr",
     "output_type": "stream",
     "text": [
      "training loop:  79% |##################################         | ETA:  0:03:45\r"
     ]
    },
    {
     "name": "stdout",
     "output_type": "stream",
     "text": [
      "tensor(0.2724, device='cuda:0', grad_fn=<NegBackward>)\n",
      "tensor(0.2724, device='cuda:0', grad_fn=<NegBackward>)\n",
      "tensor(0.2723, device='cuda:0', grad_fn=<NegBackward>)\n",
      "tensor(0.2722, device='cuda:0', grad_fn=<NegBackward>)\n"
     ]
    },
    {
     "name": "stderr",
     "output_type": "stream",
     "text": [
      "training loop:  79% |##################################         | ETA:  0:03:41\r"
     ]
    },
    {
     "name": "stdout",
     "output_type": "stream",
     "text": [
      "tensor(0.1255, device='cuda:0', grad_fn=<NegBackward>)\n",
      "tensor(0.1255, device='cuda:0', grad_fn=<NegBackward>)\n",
      "tensor(0.1254, device='cuda:0', grad_fn=<NegBackward>)\n",
      "tensor(0.1253, device='cuda:0', grad_fn=<NegBackward>)\n"
     ]
    },
    {
     "name": "stderr",
     "output_type": "stream",
     "text": [
      "training loop:  80% |##################################         | ETA:  0:03:38\r"
     ]
    },
    {
     "name": "stdout",
     "output_type": "stream",
     "text": [
      "tensor(0.2257, device='cuda:0', grad_fn=<NegBackward>)\n",
      "tensor(0.2257, device='cuda:0', grad_fn=<NegBackward>)\n",
      "tensor(0.2256, device='cuda:0', grad_fn=<NegBackward>)\n",
      "tensor(0.2255, device='cuda:0', grad_fn=<NegBackward>)\n",
      "Episode: 240, score: 0.016000\n",
      "[0.         0.         0.         0.         0.         0.\n",
      " 0.25999999 0.         0.         0.         0.         0.\n",
      " 0.         0.         0.         0.         0.         0.\n",
      " 0.         0.06      ]\n"
     ]
    },
    {
     "name": "stderr",
     "output_type": "stream",
     "text": [
      "training loop:  80% |##################################         | ETA:  0:03:34\r"
     ]
    },
    {
     "name": "stdout",
     "output_type": "stream",
     "text": [
      "tensor(0.1178, device='cuda:0', grad_fn=<NegBackward>)\n",
      "tensor(0.1178, device='cuda:0', grad_fn=<NegBackward>)\n",
      "tensor(0.1178, device='cuda:0', grad_fn=<NegBackward>)\n",
      "tensor(0.1177, device='cuda:0', grad_fn=<NegBackward>)\n"
     ]
    },
    {
     "name": "stderr",
     "output_type": "stream",
     "text": [
      "training loop:  80% |##################################         | ETA:  0:03:30\r"
     ]
    },
    {
     "name": "stdout",
     "output_type": "stream",
     "text": [
      "tensor(0.2787, device='cuda:0', grad_fn=<NegBackward>)\n",
      "tensor(0.2787, device='cuda:0', grad_fn=<NegBackward>)\n",
      "tensor(0.2786, device='cuda:0', grad_fn=<NegBackward>)\n",
      "tensor(0.2785, device='cuda:0', grad_fn=<NegBackward>)\n"
     ]
    },
    {
     "name": "stderr",
     "output_type": "stream",
     "text": [
      "training loop:  81% |##################################         | ETA:  0:03:27\r"
     ]
    },
    {
     "name": "stdout",
     "output_type": "stream",
     "text": [
      "tensor(0.2120, device='cuda:0', grad_fn=<NegBackward>)\n",
      "tensor(0.2120, device='cuda:0', grad_fn=<NegBackward>)\n",
      "tensor(0.2119, device='cuda:0', grad_fn=<NegBackward>)\n",
      "tensor(0.2118, device='cuda:0', grad_fn=<NegBackward>)\n"
     ]
    },
    {
     "name": "stderr",
     "output_type": "stream",
     "text": [
      "training loop:  81% |##################################         | ETA:  0:03:23\r"
     ]
    },
    {
     "name": "stdout",
     "output_type": "stream",
     "text": [
      "tensor(0.0923, device='cuda:0', grad_fn=<NegBackward>)\n",
      "tensor(0.0922, device='cuda:0', grad_fn=<NegBackward>)\n",
      "tensor(0.0922, device='cuda:0', grad_fn=<NegBackward>)\n",
      "tensor(0.0922, device='cuda:0', grad_fn=<NegBackward>)\n"
     ]
    },
    {
     "name": "stderr",
     "output_type": "stream",
     "text": [
      "training loop:  81% |###################################        | ETA:  0:03:19\r"
     ]
    },
    {
     "name": "stdout",
     "output_type": "stream",
     "text": [
      "tensor(0.3410, device='cuda:0', grad_fn=<NegBackward>)\n",
      "tensor(0.3409, device='cuda:0', grad_fn=<NegBackward>)\n",
      "tensor(0.3408, device='cuda:0', grad_fn=<NegBackward>)\n",
      "tensor(0.3407, device='cuda:0', grad_fn=<NegBackward>)\n"
     ]
    },
    {
     "name": "stderr",
     "output_type": "stream",
     "text": [
      "training loop:  82% |###################################        | ETA:  0:03:16\r"
     ]
    },
    {
     "name": "stdout",
     "output_type": "stream",
     "text": [
      "tensor(0.3374, device='cuda:0', grad_fn=<NegBackward>)\n",
      "tensor(0.3373, device='cuda:0', grad_fn=<NegBackward>)\n",
      "tensor(0.3372, device='cuda:0', grad_fn=<NegBackward>)\n",
      "tensor(0.3371, device='cuda:0', grad_fn=<NegBackward>)\n"
     ]
    },
    {
     "name": "stderr",
     "output_type": "stream",
     "text": [
      "training loop:  82% |###################################        | ETA:  0:03:12\r"
     ]
    },
    {
     "name": "stdout",
     "output_type": "stream",
     "text": [
      "tensor(0.2451, device='cuda:0', grad_fn=<NegBackward>)\n",
      "tensor(0.2450, device='cuda:0', grad_fn=<NegBackward>)\n",
      "tensor(0.2449, device='cuda:0', grad_fn=<NegBackward>)\n",
      "tensor(0.2448, device='cuda:0', grad_fn=<NegBackward>)\n"
     ]
    },
    {
     "name": "stderr",
     "output_type": "stream",
     "text": [
      "training loop:  82% |###################################        | ETA:  0:03:08\r"
     ]
    },
    {
     "name": "stdout",
     "output_type": "stream",
     "text": [
      "tensor(0.0892, device='cuda:0', grad_fn=<NegBackward>)\n",
      "tensor(0.0892, device='cuda:0', grad_fn=<NegBackward>)\n",
      "tensor(0.0892, device='cuda:0', grad_fn=<NegBackward>)\n",
      "tensor(0.0891, device='cuda:0', grad_fn=<NegBackward>)\n"
     ]
    },
    {
     "name": "stderr",
     "output_type": "stream",
     "text": [
      "training loop:  83% |###################################        | ETA:  0:03:05\r"
     ]
    },
    {
     "name": "stdout",
     "output_type": "stream",
     "text": [
      "tensor(0.4296, device='cuda:0', grad_fn=<NegBackward>)\n",
      "tensor(0.4295, device='cuda:0', grad_fn=<NegBackward>)\n",
      "tensor(0.4294, device='cuda:0', grad_fn=<NegBackward>)\n",
      "tensor(0.4292, device='cuda:0', grad_fn=<NegBackward>)\n"
     ]
    },
    {
     "name": "stderr",
     "output_type": "stream",
     "text": [
      "training loop:  83% |###################################        | ETA:  0:03:01\r"
     ]
    },
    {
     "name": "stdout",
     "output_type": "stream",
     "text": [
      "tensor(0.1532, device='cuda:0', grad_fn=<NegBackward>)\n",
      "tensor(0.1531, device='cuda:0', grad_fn=<NegBackward>)\n",
      "tensor(0.1531, device='cuda:0', grad_fn=<NegBackward>)\n",
      "tensor(0.1531, device='cuda:0', grad_fn=<NegBackward>)\n",
      "Episode: 250, score: 0.006500\n",
      "[0.   0.   0.13 0.   0.   0.   0.   0.   0.   0.   0.   0.   0.   0.\n",
      " 0.   0.   0.   0.   0.   0.  ]\n"
     ]
    },
    {
     "name": "stderr",
     "output_type": "stream",
     "text": [
      "training loop:  83% |###################################        | ETA:  0:02:58\r"
     ]
    },
    {
     "name": "stdout",
     "output_type": "stream",
     "text": [
      "tensor(0.2875, device='cuda:0', grad_fn=<NegBackward>)\n",
      "tensor(0.2874, device='cuda:0', grad_fn=<NegBackward>)\n",
      "tensor(0.2873, device='cuda:0', grad_fn=<NegBackward>)\n",
      "tensor(0.2872, device='cuda:0', grad_fn=<NegBackward>)\n"
     ]
    },
    {
     "name": "stderr",
     "output_type": "stream",
     "text": [
      "training loop:  84% |####################################       | ETA:  0:02:54\r"
     ]
    },
    {
     "name": "stdout",
     "output_type": "stream",
     "text": [
      "tensor(0.2442, device='cuda:0', grad_fn=<NegBackward>)\n",
      "tensor(0.2441, device='cuda:0', grad_fn=<NegBackward>)\n",
      "tensor(0.2440, device='cuda:0', grad_fn=<NegBackward>)\n",
      "tensor(0.2440, device='cuda:0', grad_fn=<NegBackward>)\n"
     ]
    },
    {
     "name": "stderr",
     "output_type": "stream",
     "text": [
      "training loop:  84% |####################################       | ETA:  0:02:50\r"
     ]
    },
    {
     "name": "stdout",
     "output_type": "stream",
     "text": [
      "tensor(0.4803, device='cuda:0', grad_fn=<NegBackward>)\n",
      "tensor(0.4801, device='cuda:0', grad_fn=<NegBackward>)\n",
      "tensor(0.4799, device='cuda:0', grad_fn=<NegBackward>)\n",
      "tensor(0.4796, device='cuda:0', grad_fn=<NegBackward>)\n"
     ]
    },
    {
     "name": "stderr",
     "output_type": "stream",
     "text": [
      "training loop:  84% |####################################       | ETA:  0:02:47\r"
     ]
    },
    {
     "name": "stdout",
     "output_type": "stream",
     "text": [
      "tensor(0.3907, device='cuda:0', grad_fn=<NegBackward>)\n",
      "tensor(0.3906, device='cuda:0', grad_fn=<NegBackward>)\n",
      "tensor(0.3905, device='cuda:0', grad_fn=<NegBackward>)\n",
      "tensor(0.3904, device='cuda:0', grad_fn=<NegBackward>)\n"
     ]
    },
    {
     "name": "stderr",
     "output_type": "stream",
     "text": [
      "training loop:  85% |####################################       | ETA:  0:02:43\r"
     ]
    },
    {
     "name": "stdout",
     "output_type": "stream",
     "text": [
      "tensor(0.3272, device='cuda:0', grad_fn=<NegBackward>)\n",
      "tensor(0.3272, device='cuda:0', grad_fn=<NegBackward>)\n",
      "tensor(0.3270, device='cuda:0', grad_fn=<NegBackward>)\n",
      "tensor(0.3269, device='cuda:0', grad_fn=<NegBackward>)\n"
     ]
    },
    {
     "name": "stderr",
     "output_type": "stream",
     "text": [
      "training loop:  85% |####################################       | ETA:  0:02:39\r"
     ]
    },
    {
     "name": "stdout",
     "output_type": "stream",
     "text": [
      "tensor(0.2848, device='cuda:0', grad_fn=<NegBackward>)\n",
      "tensor(0.2847, device='cuda:0', grad_fn=<NegBackward>)\n",
      "tensor(0.2846, device='cuda:0', grad_fn=<NegBackward>)\n",
      "tensor(0.2845, device='cuda:0', grad_fn=<NegBackward>)\n"
     ]
    },
    {
     "name": "stderr",
     "output_type": "stream",
     "text": [
      "training loop:  85% |####################################       | ETA:  0:02:36\r"
     ]
    },
    {
     "name": "stdout",
     "output_type": "stream",
     "text": [
      "tensor(0.3651, device='cuda:0', grad_fn=<NegBackward>)\n",
      "tensor(0.3650, device='cuda:0', grad_fn=<NegBackward>)\n",
      "tensor(0.3648, device='cuda:0', grad_fn=<NegBackward>)\n",
      "tensor(0.3647, device='cuda:0', grad_fn=<NegBackward>)\n"
     ]
    },
    {
     "name": "stderr",
     "output_type": "stream",
     "text": [
      "training loop:  86% |####################################       | ETA:  0:02:32\r"
     ]
    },
    {
     "name": "stdout",
     "output_type": "stream",
     "text": [
      "tensor(0.3506, device='cuda:0', grad_fn=<NegBackward>)\n",
      "tensor(0.3505, device='cuda:0', grad_fn=<NegBackward>)\n",
      "tensor(0.3504, device='cuda:0', grad_fn=<NegBackward>)\n",
      "tensor(0.3502, device='cuda:0', grad_fn=<NegBackward>)\n"
     ]
    },
    {
     "name": "stderr",
     "output_type": "stream",
     "text": [
      "training loop:  86% |#####################################      | ETA:  0:02:28\r"
     ]
    },
    {
     "name": "stdout",
     "output_type": "stream",
     "text": [
      "tensor(0.3945, device='cuda:0', grad_fn=<NegBackward>)\n",
      "tensor(0.3945, device='cuda:0', grad_fn=<NegBackward>)\n",
      "tensor(0.3943, device='cuda:0', grad_fn=<NegBackward>)\n",
      "tensor(0.3942, device='cuda:0', grad_fn=<NegBackward>)\n"
     ]
    },
    {
     "name": "stderr",
     "output_type": "stream",
     "text": [
      "training loop:  86% |#####################################      | ETA:  0:02:25\r"
     ]
    },
    {
     "name": "stdout",
     "output_type": "stream",
     "text": [
      "tensor(0.2574, device='cuda:0', grad_fn=<NegBackward>)\n",
      "tensor(0.2575, device='cuda:0', grad_fn=<NegBackward>)\n",
      "tensor(0.2573, device='cuda:0', grad_fn=<NegBackward>)\n",
      "tensor(0.2573, device='cuda:0', grad_fn=<NegBackward>)\n",
      "Episode: 260, score: 0.016000\n",
      "[0.   0.   0.   0.   0.   0.   0.   0.   0.   0.   0.   0.18 0.   0.\n",
      " 0.   0.   0.   0.14 0.   0.  ]\n"
     ]
    },
    {
     "name": "stderr",
     "output_type": "stream",
     "text": [
      "training loop:  87% |#####################################      | ETA:  0:02:21\r"
     ]
    },
    {
     "name": "stdout",
     "output_type": "stream",
     "text": [
      "tensor(0.2716, device='cuda:0', grad_fn=<NegBackward>)\n",
      "tensor(0.2715, device='cuda:0', grad_fn=<NegBackward>)\n",
      "tensor(0.2714, device='cuda:0', grad_fn=<NegBackward>)\n",
      "tensor(0.2713, device='cuda:0', grad_fn=<NegBackward>)\n"
     ]
    },
    {
     "name": "stderr",
     "output_type": "stream",
     "text": [
      "training loop:  87% |#####################################      | ETA:  0:02:17\r"
     ]
    },
    {
     "name": "stdout",
     "output_type": "stream",
     "text": [
      "tensor(0.2590, device='cuda:0', grad_fn=<NegBackward>)\n",
      "tensor(0.2589, device='cuda:0', grad_fn=<NegBackward>)\n",
      "tensor(0.2588, device='cuda:0', grad_fn=<NegBackward>)\n",
      "tensor(0.2587, device='cuda:0', grad_fn=<NegBackward>)\n"
     ]
    },
    {
     "name": "stderr",
     "output_type": "stream",
     "text": [
      "training loop:  87% |#####################################      | ETA:  0:02:14\r"
     ]
    },
    {
     "name": "stdout",
     "output_type": "stream",
     "text": [
      "tensor(0.2886, device='cuda:0', grad_fn=<NegBackward>)\n",
      "tensor(0.2885, device='cuda:0', grad_fn=<NegBackward>)\n",
      "tensor(0.2885, device='cuda:0', grad_fn=<NegBackward>)\n",
      "tensor(0.2884, device='cuda:0', grad_fn=<NegBackward>)\n"
     ]
    },
    {
     "name": "stderr",
     "output_type": "stream",
     "text": [
      "training loop:  88% |#####################################      | ETA:  0:02:10\r"
     ]
    },
    {
     "name": "stdout",
     "output_type": "stream",
     "text": [
      "tensor(0.2692, device='cuda:0', grad_fn=<NegBackward>)\n",
      "tensor(0.2692, device='cuda:0', grad_fn=<NegBackward>)\n",
      "tensor(0.2691, device='cuda:0', grad_fn=<NegBackward>)\n",
      "tensor(0.2690, device='cuda:0', grad_fn=<NegBackward>)\n"
     ]
    },
    {
     "name": "stderr",
     "output_type": "stream",
     "text": [
      "training loop:  88% |#####################################      | ETA:  0:02:07\r"
     ]
    },
    {
     "name": "stdout",
     "output_type": "stream",
     "text": [
      "tensor(0.2127, device='cuda:0', grad_fn=<NegBackward>)\n",
      "tensor(0.2127, device='cuda:0', grad_fn=<NegBackward>)\n",
      "tensor(0.2126, device='cuda:0', grad_fn=<NegBackward>)\n",
      "tensor(0.2125, device='cuda:0', grad_fn=<NegBackward>)\n"
     ]
    },
    {
     "name": "stderr",
     "output_type": "stream",
     "text": [
      "training loop:  88% |######################################     | ETA:  0:02:03\r"
     ]
    },
    {
     "name": "stdout",
     "output_type": "stream",
     "text": [
      "tensor(0.2746, device='cuda:0', grad_fn=<NegBackward>)\n",
      "tensor(0.2745, device='cuda:0', grad_fn=<NegBackward>)\n",
      "tensor(0.2745, device='cuda:0', grad_fn=<NegBackward>)\n",
      "tensor(0.2744, device='cuda:0', grad_fn=<NegBackward>)\n"
     ]
    },
    {
     "name": "stderr",
     "output_type": "stream",
     "text": [
      "training loop:  89% |######################################     | ETA:  0:01:59\r"
     ]
    },
    {
     "name": "stdout",
     "output_type": "stream",
     "text": [
      "tensor(0.2124, device='cuda:0', grad_fn=<NegBackward>)\n",
      "tensor(0.2123, device='cuda:0', grad_fn=<NegBackward>)\n",
      "tensor(0.2122, device='cuda:0', grad_fn=<NegBackward>)\n",
      "tensor(0.2122, device='cuda:0', grad_fn=<NegBackward>)\n"
     ]
    },
    {
     "name": "stderr",
     "output_type": "stream",
     "text": [
      "training loop:  89% |######################################     | ETA:  0:01:56\r"
     ]
    },
    {
     "name": "stdout",
     "output_type": "stream",
     "text": [
      "tensor(0.1883, device='cuda:0', grad_fn=<NegBackward>)\n",
      "tensor(0.1882, device='cuda:0', grad_fn=<NegBackward>)\n",
      "tensor(0.1882, device='cuda:0', grad_fn=<NegBackward>)\n",
      "tensor(0.1881, device='cuda:0', grad_fn=<NegBackward>)\n"
     ]
    },
    {
     "name": "stderr",
     "output_type": "stream",
     "text": [
      "training loop:  89% |######################################     | ETA:  0:01:52\r"
     ]
    },
    {
     "name": "stdout",
     "output_type": "stream",
     "text": [
      "tensor(0.3064, device='cuda:0', grad_fn=<NegBackward>)\n",
      "tensor(0.3063, device='cuda:0', grad_fn=<NegBackward>)\n",
      "tensor(0.3062, device='cuda:0', grad_fn=<NegBackward>)\n",
      "tensor(0.3061, device='cuda:0', grad_fn=<NegBackward>)\n"
     ]
    },
    {
     "name": "stderr",
     "output_type": "stream",
     "text": [
      "training loop:  90% |######################################     | ETA:  0:01:48\r"
     ]
    },
    {
     "name": "stdout",
     "output_type": "stream",
     "text": [
      "tensor(-0., device='cuda:0', grad_fn=<NegBackward>)\n",
      "tensor(-0., device='cuda:0', grad_fn=<NegBackward>)\n",
      "tensor(-0., device='cuda:0', grad_fn=<NegBackward>)\n",
      "tensor(-0., device='cuda:0', grad_fn=<NegBackward>)\n",
      "Episode: 270, score: 0.000000\n",
      "[0. 0. 0. 0. 0. 0. 0. 0. 0. 0. 0. 0. 0. 0. 0. 0. 0. 0. 0. 0.]\n"
     ]
    },
    {
     "name": "stderr",
     "output_type": "stream",
     "text": [
      "training loop:  90% |######################################     | ETA:  0:01:45\r"
     ]
    },
    {
     "name": "stdout",
     "output_type": "stream",
     "text": [
      "tensor(0.0901, device='cuda:0', grad_fn=<NegBackward>)\n",
      "tensor(0.0901, device='cuda:0', grad_fn=<NegBackward>)\n",
      "tensor(0.0901, device='cuda:0', grad_fn=<NegBackward>)\n",
      "tensor(0.0900, device='cuda:0', grad_fn=<NegBackward>)\n"
     ]
    },
    {
     "name": "stderr",
     "output_type": "stream",
     "text": [
      "training loop:  90% |######################################     | ETA:  0:01:41\r"
     ]
    },
    {
     "name": "stdout",
     "output_type": "stream",
     "text": [
      "tensor(0.0343, device='cuda:0', grad_fn=<NegBackward>)\n",
      "tensor(0.0342, device='cuda:0', grad_fn=<NegBackward>)\n",
      "tensor(0.0342, device='cuda:0', grad_fn=<NegBackward>)\n",
      "tensor(0.0342, device='cuda:0', grad_fn=<NegBackward>)\n"
     ]
    },
    {
     "name": "stderr",
     "output_type": "stream",
     "text": [
      "training loop:  91% |#######################################    | ETA:  0:01:38\r"
     ]
    },
    {
     "name": "stdout",
     "output_type": "stream",
     "text": [
      "tensor(0.3976, device='cuda:0', grad_fn=<NegBackward>)\n",
      "tensor(0.3976, device='cuda:0', grad_fn=<NegBackward>)\n",
      "tensor(0.3974, device='cuda:0', grad_fn=<NegBackward>)\n",
      "tensor(0.3973, device='cuda:0', grad_fn=<NegBackward>)\n"
     ]
    },
    {
     "name": "stderr",
     "output_type": "stream",
     "text": [
      "training loop:  91% |#######################################    | ETA:  0:01:34\r"
     ]
    },
    {
     "name": "stdout",
     "output_type": "stream",
     "text": [
      "tensor(0.2669, device='cuda:0', grad_fn=<NegBackward>)\n",
      "tensor(0.2668, device='cuda:0', grad_fn=<NegBackward>)\n",
      "tensor(0.2667, device='cuda:0', grad_fn=<NegBackward>)\n",
      "tensor(0.2666, device='cuda:0', grad_fn=<NegBackward>)\n"
     ]
    },
    {
     "name": "stderr",
     "output_type": "stream",
     "text": [
      "training loop:  91% |#######################################    | ETA:  0:01:30\r"
     ]
    },
    {
     "name": "stdout",
     "output_type": "stream",
     "text": [
      "tensor(0.3287, device='cuda:0', grad_fn=<NegBackward>)\n",
      "tensor(0.3286, device='cuda:0', grad_fn=<NegBackward>)\n",
      "tensor(0.3286, device='cuda:0', grad_fn=<NegBackward>)\n",
      "tensor(0.3285, device='cuda:0', grad_fn=<NegBackward>)\n"
     ]
    },
    {
     "name": "stderr",
     "output_type": "stream",
     "text": [
      "training loop:  92% |#######################################    | ETA:  0:01:27\r"
     ]
    },
    {
     "name": "stdout",
     "output_type": "stream",
     "text": [
      "tensor(0.2036, device='cuda:0', grad_fn=<NegBackward>)\n",
      "tensor(0.2036, device='cuda:0', grad_fn=<NegBackward>)\n",
      "tensor(0.2035, device='cuda:0', grad_fn=<NegBackward>)\n",
      "tensor(0.2034, device='cuda:0', grad_fn=<NegBackward>)\n"
     ]
    },
    {
     "name": "stderr",
     "output_type": "stream",
     "text": [
      "training loop:  92% |#######################################    | ETA:  0:01:23\r"
     ]
    },
    {
     "name": "stdout",
     "output_type": "stream",
     "text": [
      "tensor(0.2335, device='cuda:0', grad_fn=<NegBackward>)\n",
      "tensor(0.2334, device='cuda:0', grad_fn=<NegBackward>)\n",
      "tensor(0.2333, device='cuda:0', grad_fn=<NegBackward>)\n",
      "tensor(0.2332, device='cuda:0', grad_fn=<NegBackward>)\n"
     ]
    },
    {
     "name": "stderr",
     "output_type": "stream",
     "text": [
      "training loop:  92% |#######################################    | ETA:  0:01:19\r"
     ]
    },
    {
     "name": "stdout",
     "output_type": "stream",
     "text": [
      "tensor(0.2860, device='cuda:0', grad_fn=<NegBackward>)\n",
      "tensor(0.2859, device='cuda:0', grad_fn=<NegBackward>)\n",
      "tensor(0.2859, device='cuda:0', grad_fn=<NegBackward>)\n",
      "tensor(0.2858, device='cuda:0', grad_fn=<NegBackward>)\n"
     ]
    },
    {
     "name": "stderr",
     "output_type": "stream",
     "text": [
      "training loop:  93% |#######################################    | ETA:  0:01:16\r"
     ]
    },
    {
     "name": "stdout",
     "output_type": "stream",
     "text": [
      "tensor(0.1784, device='cuda:0', grad_fn=<NegBackward>)\n",
      "tensor(0.1784, device='cuda:0', grad_fn=<NegBackward>)\n",
      "tensor(0.1783, device='cuda:0', grad_fn=<NegBackward>)\n",
      "tensor(0.1782, device='cuda:0', grad_fn=<NegBackward>)\n"
     ]
    },
    {
     "name": "stderr",
     "output_type": "stream",
     "text": [
      "training loop:  93% |########################################   | ETA:  0:01:12\r"
     ]
    },
    {
     "name": "stdout",
     "output_type": "stream",
     "text": [
      "tensor(0.2894, device='cuda:0', grad_fn=<NegBackward>)\n",
      "tensor(0.2893, device='cuda:0', grad_fn=<NegBackward>)\n",
      "tensor(0.2892, device='cuda:0', grad_fn=<NegBackward>)\n",
      "tensor(0.2891, device='cuda:0', grad_fn=<NegBackward>)\n",
      "Episode: 280, score: 0.078000\n",
      "[0.         0.2        0.         0.26999999 0.11       0.\n",
      " 0.         0.         0.         0.         0.         0.05\n",
      " 0.         0.70999998 0.         0.         0.         0.22\n",
      " 0.         0.        ]\n"
     ]
    },
    {
     "name": "stderr",
     "output_type": "stream",
     "text": [
      "training loop:  93% |########################################   | ETA:  0:01:08\r"
     ]
    },
    {
     "name": "stdout",
     "output_type": "stream",
     "text": [
      "tensor(0.3030, device='cuda:0', grad_fn=<NegBackward>)\n",
      "tensor(0.3030, device='cuda:0', grad_fn=<NegBackward>)\n",
      "tensor(0.3029, device='cuda:0', grad_fn=<NegBackward>)\n",
      "tensor(0.3027, device='cuda:0', grad_fn=<NegBackward>)\n"
     ]
    },
    {
     "name": "stderr",
     "output_type": "stream",
     "text": [
      "training loop:  94% |########################################   | ETA:  0:01:05\r"
     ]
    },
    {
     "name": "stdout",
     "output_type": "stream",
     "text": [
      "tensor(0.2404, device='cuda:0', grad_fn=<NegBackward>)\n",
      "tensor(0.2403, device='cuda:0', grad_fn=<NegBackward>)\n",
      "tensor(0.2402, device='cuda:0', grad_fn=<NegBackward>)\n",
      "tensor(0.2401, device='cuda:0', grad_fn=<NegBackward>)\n"
     ]
    },
    {
     "name": "stderr",
     "output_type": "stream",
     "text": [
      "training loop:  94% |########################################   | ETA:  0:01:01\r"
     ]
    },
    {
     "name": "stdout",
     "output_type": "stream",
     "text": [
      "tensor(0.3407, device='cuda:0', grad_fn=<NegBackward>)\n",
      "tensor(0.3405, device='cuda:0', grad_fn=<NegBackward>)\n",
      "tensor(0.3403, device='cuda:0', grad_fn=<NegBackward>)\n",
      "tensor(0.3402, device='cuda:0', grad_fn=<NegBackward>)\n"
     ]
    },
    {
     "name": "stderr",
     "output_type": "stream",
     "text": [
      "training loop:  94% |########################################   | ETA:  0:00:58\r"
     ]
    },
    {
     "name": "stdout",
     "output_type": "stream",
     "text": [
      "tensor(0.3228, device='cuda:0', grad_fn=<NegBackward>)\n",
      "tensor(0.3228, device='cuda:0', grad_fn=<NegBackward>)\n",
      "tensor(0.3227, device='cuda:0', grad_fn=<NegBackward>)\n",
      "tensor(0.3226, device='cuda:0', grad_fn=<NegBackward>)\n"
     ]
    },
    {
     "name": "stderr",
     "output_type": "stream",
     "text": [
      "training loop:  95% |########################################   | ETA:  0:00:54\r"
     ]
    },
    {
     "name": "stdout",
     "output_type": "stream",
     "text": [
      "tensor(0.4067, device='cuda:0', grad_fn=<NegBackward>)\n",
      "tensor(0.4068, device='cuda:0', grad_fn=<NegBackward>)\n",
      "tensor(0.4065, device='cuda:0', grad_fn=<NegBackward>)\n",
      "tensor(0.4063, device='cuda:0', grad_fn=<NegBackward>)\n"
     ]
    },
    {
     "name": "stderr",
     "output_type": "stream",
     "text": [
      "training loop:  95% |########################################   | ETA:  0:00:50\r"
     ]
    },
    {
     "name": "stdout",
     "output_type": "stream",
     "text": [
      "tensor(0.2642, device='cuda:0', grad_fn=<NegBackward>)\n",
      "tensor(0.2643, device='cuda:0', grad_fn=<NegBackward>)\n",
      "tensor(0.2641, device='cuda:0', grad_fn=<NegBackward>)\n",
      "tensor(0.2641, device='cuda:0', grad_fn=<NegBackward>)\n"
     ]
    },
    {
     "name": "stderr",
     "output_type": "stream",
     "text": [
      "training loop:  95% |#########################################  | ETA:  0:00:47\r"
     ]
    },
    {
     "name": "stdout",
     "output_type": "stream",
     "text": [
      "tensor(-0., device='cuda:0', grad_fn=<NegBackward>)\n",
      "tensor(-0., device='cuda:0', grad_fn=<NegBackward>)\n",
      "tensor(-0., device='cuda:0', grad_fn=<NegBackward>)\n",
      "tensor(-0., device='cuda:0', grad_fn=<NegBackward>)\n"
     ]
    },
    {
     "name": "stderr",
     "output_type": "stream",
     "text": [
      "training loop:  96% |#########################################  | ETA:  0:00:43\r"
     ]
    },
    {
     "name": "stdout",
     "output_type": "stream",
     "text": [
      "tensor(0.3738, device='cuda:0', grad_fn=<NegBackward>)\n",
      "tensor(0.3737, device='cuda:0', grad_fn=<NegBackward>)\n",
      "tensor(0.3736, device='cuda:0', grad_fn=<NegBackward>)\n",
      "tensor(0.3735, device='cuda:0', grad_fn=<NegBackward>)\n"
     ]
    },
    {
     "name": "stderr",
     "output_type": "stream",
     "text": [
      "training loop:  96% |#########################################  | ETA:  0:00:39\r"
     ]
    },
    {
     "name": "stdout",
     "output_type": "stream",
     "text": [
      "tensor(0.4689, device='cuda:0', grad_fn=<NegBackward>)\n",
      "tensor(0.4688, device='cuda:0', grad_fn=<NegBackward>)\n",
      "tensor(0.4686, device='cuda:0', grad_fn=<NegBackward>)\n",
      "tensor(0.4684, device='cuda:0', grad_fn=<NegBackward>)\n"
     ]
    },
    {
     "name": "stderr",
     "output_type": "stream",
     "text": [
      "training loop:  96% |#########################################  | ETA:  0:00:36\r"
     ]
    },
    {
     "name": "stdout",
     "output_type": "stream",
     "text": [
      "tensor(0.3163, device='cuda:0', grad_fn=<NegBackward>)\n",
      "tensor(0.3163, device='cuda:0', grad_fn=<NegBackward>)\n",
      "tensor(0.3162, device='cuda:0', grad_fn=<NegBackward>)\n",
      "tensor(0.3161, device='cuda:0', grad_fn=<NegBackward>)\n",
      "Episode: 290, score: 0.024000\n",
      "[0.         0.         0.         0.         0.         0.\n",
      " 0.07       0.         0.         0.31999999 0.         0.\n",
      " 0.         0.         0.         0.         0.         0.\n",
      " 0.         0.09      ]\n"
     ]
    },
    {
     "name": "stderr",
     "output_type": "stream",
     "text": [
      "training loop:  97% |#########################################  | ETA:  0:00:32\r"
     ]
    },
    {
     "name": "stdout",
     "output_type": "stream",
     "text": [
      "tensor(0.3361, device='cuda:0', grad_fn=<NegBackward>)\n",
      "tensor(0.3361, device='cuda:0', grad_fn=<NegBackward>)\n",
      "tensor(0.3359, device='cuda:0', grad_fn=<NegBackward>)\n",
      "tensor(0.3359, device='cuda:0', grad_fn=<NegBackward>)\n"
     ]
    },
    {
     "name": "stderr",
     "output_type": "stream",
     "text": [
      "training loop:  97% |#########################################  | ETA:  0:00:29\r"
     ]
    },
    {
     "name": "stdout",
     "output_type": "stream",
     "text": [
      "tensor(0.2939, device='cuda:0', grad_fn=<NegBackward>)\n",
      "tensor(0.2938, device='cuda:0', grad_fn=<NegBackward>)\n",
      "tensor(0.2937, device='cuda:0', grad_fn=<NegBackward>)\n",
      "tensor(0.2937, device='cuda:0', grad_fn=<NegBackward>)\n"
     ]
    },
    {
     "name": "stderr",
     "output_type": "stream",
     "text": [
      "training loop:  97% |#########################################  | ETA:  0:00:25\r"
     ]
    },
    {
     "name": "stdout",
     "output_type": "stream",
     "text": [
      "tensor(0.2194, device='cuda:0', grad_fn=<NegBackward>)\n",
      "tensor(0.2194, device='cuda:0', grad_fn=<NegBackward>)\n",
      "tensor(0.2192, device='cuda:0', grad_fn=<NegBackward>)\n",
      "tensor(0.2191, device='cuda:0', grad_fn=<NegBackward>)\n"
     ]
    },
    {
     "name": "stderr",
     "output_type": "stream",
     "text": [
      "training loop:  98% |########################################## | ETA:  0:00:21\r"
     ]
    },
    {
     "name": "stdout",
     "output_type": "stream",
     "text": [
      "tensor(0.1634, device='cuda:0', grad_fn=<NegBackward>)\n",
      "tensor(0.1634, device='cuda:0', grad_fn=<NegBackward>)\n",
      "tensor(0.1634, device='cuda:0', grad_fn=<NegBackward>)\n",
      "tensor(0.1633, device='cuda:0', grad_fn=<NegBackward>)\n"
     ]
    },
    {
     "name": "stderr",
     "output_type": "stream",
     "text": [
      "training loop:  98% |########################################## | ETA:  0:00:18\r"
     ]
    },
    {
     "name": "stdout",
     "output_type": "stream",
     "text": [
      "tensor(0.2650, device='cuda:0', grad_fn=<NegBackward>)\n",
      "tensor(0.2649, device='cuda:0', grad_fn=<NegBackward>)\n",
      "tensor(0.2648, device='cuda:0', grad_fn=<NegBackward>)\n",
      "tensor(0.2648, device='cuda:0', grad_fn=<NegBackward>)\n"
     ]
    },
    {
     "name": "stderr",
     "output_type": "stream",
     "text": [
      "training loop:  98% |########################################## | ETA:  0:00:14\r"
     ]
    },
    {
     "name": "stdout",
     "output_type": "stream",
     "text": [
      "tensor(0.4261, device='cuda:0', grad_fn=<NegBackward>)\n",
      "tensor(0.4259, device='cuda:0', grad_fn=<NegBackward>)\n",
      "tensor(0.4257, device='cuda:0', grad_fn=<NegBackward>)\n",
      "tensor(0.4255, device='cuda:0', grad_fn=<NegBackward>)\n"
     ]
    },
    {
     "name": "stderr",
     "output_type": "stream",
     "text": [
      "training loop:  99% |########################################## | ETA:  0:00:10\r"
     ]
    },
    {
     "name": "stdout",
     "output_type": "stream",
     "text": [
      "tensor(0.1930, device='cuda:0', grad_fn=<NegBackward>)\n",
      "tensor(0.1930, device='cuda:0', grad_fn=<NegBackward>)\n",
      "tensor(0.1930, device='cuda:0', grad_fn=<NegBackward>)\n",
      "tensor(0.1929, device='cuda:0', grad_fn=<NegBackward>)\n"
     ]
    },
    {
     "name": "stderr",
     "output_type": "stream",
     "text": [
      "training loop:  99% |########################################## | ETA:  0:00:07\r"
     ]
    },
    {
     "name": "stdout",
     "output_type": "stream",
     "text": [
      "tensor(0.1313, device='cuda:0', grad_fn=<NegBackward>)\n",
      "tensor(0.1312, device='cuda:0', grad_fn=<NegBackward>)\n",
      "tensor(0.1312, device='cuda:0', grad_fn=<NegBackward>)\n",
      "tensor(0.1312, device='cuda:0', grad_fn=<NegBackward>)\n"
     ]
    },
    {
     "name": "stderr",
     "output_type": "stream",
     "text": [
      "training loop:  99% |########################################## | ETA:  0:00:03\r"
     ]
    },
    {
     "name": "stdout",
     "output_type": "stream",
     "text": [
      "tensor(0.1347, device='cuda:0', grad_fn=<NegBackward>)\n",
      "tensor(0.1346, device='cuda:0', grad_fn=<NegBackward>)\n",
      "tensor(0.1346, device='cuda:0', grad_fn=<NegBackward>)\n",
      "tensor(0.1346, device='cuda:0', grad_fn=<NegBackward>)\n"
     ]
    },
    {
     "name": "stderr",
     "output_type": "stream",
     "text": [
      "training loop: 100% |###########################################| Time: 0:18:09\r"
     ]
    },
    {
     "name": "stdout",
     "output_type": "stream",
     "text": [
      "tensor(0.0818, device='cuda:0', grad_fn=<NegBackward>)\n",
      "tensor(0.0818, device='cuda:0', grad_fn=<NegBackward>)\n",
      "tensor(0.0817, device='cuda:0', grad_fn=<NegBackward>)\n",
      "tensor(0.0817, device='cuda:0', grad_fn=<NegBackward>)\n",
      "Episode: 300, score: 0.011000\n",
      "[0.   0.   0.   0.   0.   0.   0.   0.   0.   0.   0.   0.   0.22 0.\n",
      " 0.   0.   0.   0.   0.   0.  ]\n"
     ]
    },
    {
     "name": "stderr",
     "output_type": "stream",
     "text": [
      "\n"
     ]
    }
   ],
   "source": [
    "import numpy as np\n",
    "# keep track of how long training takes\n",
    "# WARNING: running through all 800 episodes will take 30-45 minutes\n",
    "\n",
    "# training loop max iterations\n",
    "episode = 300\n",
    "\n",
    "# widget bar to display progress\n",
    "!pip install progressbar\n",
    "import progressbar as pb\n",
    "widget = ['training loop: ', pb.Percentage(), ' ', \n",
    "          pb.Bar(), ' ', pb.ETA() ]\n",
    "timer = pb.ProgressBar(widgets=widget, maxval=episode).start()\n",
    "\n",
    "discount_rate = .99\n",
    "epsilon = 0.2\n",
    "beta = .01\n",
    "tmax = 1000\n",
    "SGD_epoch = 4\n",
    "\n",
    "# keep track of progress\n",
    "mean_rewards = []\n",
    "\n",
    "for e in range(episode):\n",
    "    env_info = env.reset(train_mode=True)[brain_name]   \n",
    "    # collect trajectories\n",
    "    old_probs, states, actions, rewards = \\\n",
    "        collect_trajectories(env, policy, tmax=tmax)\n",
    "        \n",
    "    total_rewards = np.sum(rewards, axis=0)\n",
    "\n",
    "\n",
    "    # gradient ascent step\n",
    "    for _ in range(SGD_epoch):\n",
    "        \n",
    "        # uncomment to utilize your own clipped function!\n",
    "        # L = -clipped_surrogate(policy, old_probs, states, actions, rewards, epsilon=epsilon, beta=beta)\n",
    "\n",
    "        L = -clipped_surrogate(policy, old_probs, states, actions, rewards,\n",
    "                                          epsilon=epsilon, beta=beta)\n",
    "        print(L)\n",
    "        optimizer.zero_grad()\n",
    "        L.backward()\n",
    "        optimizer.step()\n",
    "        del L\n",
    "    \n",
    "    # the clipping parameter reduces as time goes on\n",
    "    epsilon*=.999\n",
    "    \n",
    "    # the regulation term also reduces\n",
    "    # this reduces exploration in later runs\n",
    "    beta*=.995\n",
    "    \n",
    "    # get the average reward of the parallel environments\n",
    "    mean_rewards.append(np.mean(total_rewards))\n",
    "    \n",
    "    # display some progress every 20 iterations\n",
    "    if (e+1)%10 ==0 :\n",
    "        print(\"Episode: {0:d}, score: {1:f}\".format(e+1,np.mean(total_rewards)))\n",
    "        print(total_rewards)\n",
    "        \n",
    "    # update progress widget bar\n",
    "    timer.update(e+1)\n",
    "    \n",
    "timer.finish()"
   ]
  },
  {
   "cell_type": "code",
   "execution_count": null,
   "metadata": {},
   "outputs": [],
   "source": []
  }
 ],
 "metadata": {
  "kernelspec": {
   "display_name": "Python 3",
   "language": "python",
   "name": "python3"
  },
  "language_info": {
   "codemirror_mode": {
    "name": "ipython",
    "version": 3
   },
   "file_extension": ".py",
   "mimetype": "text/x-python",
   "name": "python",
   "nbconvert_exporter": "python",
   "pygments_lexer": "ipython3",
   "version": "3.6.7"
  }
 },
 "nbformat": 4,
 "nbformat_minor": 2
}
